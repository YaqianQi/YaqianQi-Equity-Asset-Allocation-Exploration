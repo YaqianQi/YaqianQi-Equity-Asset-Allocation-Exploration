{
 "cells": [
  {
   "cell_type": "code",
   "execution_count": 1,
   "metadata": {},
   "outputs": [],
   "source": [
    "# import lib"
   ]
  },
  {
   "cell_type": "code",
   "execution_count": 2,
   "metadata": {},
   "outputs": [],
   "source": [
    "import pandas as pd\n",
    "import matplotlib.pyplot as plt\n",
    "#import pypyodbc \n",
    "## 加载包\n",
    "import numpy as np\n",
    "import pandas as pd\n",
    "import matplotlib.pyplot as plt\n",
    "%matplotlib inline\n",
    "%config InlineBackend.figure_format = \"retina\"\n",
    "from matplotlib.font_manager import FontProperties\n",
    "\n",
    "import statsmodels.api as sm\n",
    "from sklearn.metrics import mean_absolute_error,mean_squared_error\n",
    "\n",
    "\n",
    "%load_ext autoreload\n",
    "%autoreload 2\n",
    "%matplotlib inline\n",
    "%config InlineBackend.figure_format='retina'\n",
    "\n",
    "\n",
    "import sys\n",
    "import os\n",
    "\n",
    "import pandas as pd\n",
    "import numpy as np\n",
    "\n",
    "import statsmodels.api as sm\n",
    "import statsmodels.formula.api as smf\n",
    "import statsmodels.tsa.api as smt\n",
    "\n",
    "import itertools\n",
    "import warnings\n",
    "\n",
    "# Display and Plotting\n",
    "import matplotlib.pylab as plt\n",
    "import seaborn as sns\n",
    "\n",
    "pd.set_option('display.float_format', lambda x: '%.5f' % x) # pandas\n",
    "np.set_printoptions(precision=5, suppress=True) # numpy\n",
    "\n",
    "pd.set_option('display.max_columns', 100)\n",
    "pd.set_option('display.max_rows', 100)\n",
    "\n",
    "# seaborn plotting style\n",
    "sns.set(style='ticks', context='poster')\n",
    "from datetime import timedelta\n",
    "import pandas_datareader.data as web"
   ]
  },
  {
   "cell_type": "code",
   "execution_count": 3,
   "metadata": {},
   "outputs": [],
   "source": [
    "def tsplot(y, lags=None, title='', figsize=(14, 8)):\n",
    "    fig = plt.figure(figsize=figsize)\n",
    "    layout = (2, 2)\n",
    "    ts_ax   = plt.subplot2grid(layout, (0, 0))\n",
    "    hist_ax = plt.subplot2grid(layout, (0, 1))\n",
    "    acf_ax  = plt.subplot2grid(layout, (1, 0))\n",
    "    pacf_ax = plt.subplot2grid(layout, (1, 1))\n",
    "    \n",
    "    y.plot(ax=ts_ax)\n",
    "    ts_ax.set_title(title)\n",
    "    y.plot(ax=hist_ax, kind='hist', bins=25)\n",
    "    hist_ax.set_title('Histogram')\n",
    "    smt.graphics.plot_acf(y, lags=lags, ax=acf_ax)\n",
    "    smt.graphics.plot_pacf(y, lags=lags, ax=pacf_ax)\n",
    "    [ax.set_xlim(0) for ax in [acf_ax, pacf_ax]]\n",
    "    sns.despine()\n",
    "    fig.tight_layout()\n",
    "    return ts_ax, acf_ax, pacf_ax\n",
    "from statsmodels.tsa.stattools import adfuller\n",
    "def test_stationarity(ts):\n",
    "    ##dfoutput_x[1]<0.05 if true stationary \n",
    "    dftest = sm.tsa.adfuller(ts,autolag='BIC')\n",
    "    dfoutput = pd.Series(dftest[0:4], index=['Test Statistic','p-value','Lags Used','Number of Observations Used'])\n",
    "    #print('independent stationary : %s'%(dfoutput_x[1]<0.05))\n",
    "    #print(dfoutput)\n",
    "    return dfoutput[1]<0.05\n",
    "    print('dependent stationary : %s'%(dfoutput[1]<0.05))\n",
    "    \n",
    "def convert_dataframe_to_list(df):\n",
    "    lst=[]\n",
    "    for i in range(df.shape[0]):\n",
    "        lst.append(df.iloc[i]['SYMBOL'])\n",
    "    return lst"
   ]
  },
  {
   "cell_type": "markdown",
   "metadata": {},
   "source": [
    "# Time series module "
   ]
  },
  {
   "cell_type": "code",
   "execution_count": 4,
   "metadata": {},
   "outputs": [],
   "source": [
    "def forecast_performance_next_5_days_with_validation(start_date, end_date, ticker):\n",
    "    try:\n",
    "        print(ticker)\n",
    "        pred_days = 5\n",
    "        df = pd.concat([web.DataReader(ticker,'yahoo', start_date, end_date) ]).reset_index()\n",
    "        data = df.iloc[:,df.columns.isin(['Date','Adj Close'])]\n",
    "        data['Return'] = data['Adj Close'].diff().replace(np.nan, 0)\n",
    "        data['Stationary'] = test_stationarity(data['Return'])\n",
    "        fdata = pd.DataFrame(data.Return)\n",
    "\n",
    "        obs = data.iloc[-pred_days:]\n",
    "        fdata = data.iloc[:-pred_days]\n",
    "        fdata = pd.DataFrame(fdata.Return)\n",
    "        # forcast for next 5 days \n",
    "        dataset_train= fdata\n",
    "\n",
    "        # Feature Scaling\n",
    "        from sklearn.preprocessing import MinMaxScaler\n",
    "        sc = MinMaxScaler(feature_range = (0, 1))\n",
    "        training_set_scaled = sc.fit_transform(dataset_train)\n",
    "\n",
    "        n = dataset_train.shape[0]\n",
    "\n",
    "\n",
    "        # Creating a data structure with 60 timesteps and 1 output\n",
    "        ######### slicing window \n",
    "        X_train = []\n",
    "        y_train = []\n",
    "        for i in range(60, n):\n",
    "            X_train.append(training_set_scaled[i-60:i, 0])\n",
    "            y_train.append(training_set_scaled[i, 0])\n",
    "        X_train, y_train = np.array(X_train), np.array(y_train)\n",
    "\n",
    "        X_train = np.reshape(X_train, (X_train.shape[0], X_train.shape[1], 1))\n",
    "\n",
    "\n",
    "        # Part 2 - Building the RNN\n",
    "\n",
    "        # Importing the Keras libraries and packages\n",
    "        from keras.models import Sequential\n",
    "        from keras.layers import Dense\n",
    "        from keras.layers import LSTM\n",
    "        from keras.layers import Dropout\n",
    "\n",
    "        # Initialising the RNN\n",
    "        regressor = Sequential()\n",
    "\n",
    "        # Adding the first LSTM layer and some Dropout regularisation\n",
    "        regressor.add(LSTM(units = 50, return_sequences = True, input_shape = (X_train.shape[1], 1)))\n",
    "        regressor.add(Dropout(0.2))\n",
    "\n",
    "        # Adding a second LSTM layer and some Dropout regularisation\n",
    "        regressor.add(LSTM(units = 50, return_sequences = True))\n",
    "        regressor.add(Dropout(0.2))\n",
    "\n",
    "        # Adding a third LSTM layer and some Dropout regularisation\n",
    "        regressor.add(LSTM(units = 50, return_sequences = True))\n",
    "        regressor.add(Dropout(0.2))\n",
    "\n",
    "        # Adding a fourth LSTM layer and some Dropout regularisation\n",
    "        regressor.add(LSTM(units = 50))\n",
    "        regressor.add(Dropout(0.2))\n",
    "\n",
    "        # Adding the output layer\n",
    "        regressor.add(Dense(units = 1))\n",
    "\n",
    "        # Compiling the RNN\n",
    "        regressor.compile(optimizer = 'adam', loss = 'mean_squared_error')\n",
    "\n",
    "        # Fitting the RNN to the Training set\n",
    "        regressor.fit(X_train, y_train, epochs = 3, batch_size = 32)\n",
    "\n",
    "        inputs = dataset_train[- 60:].values\n",
    "        inputs = inputs.reshape(-1,1)\n",
    "        inputs = sc.transform(inputs)\n",
    "        hist = []\n",
    "        hist = inputs\n",
    "        res = np.array([])\n",
    "        for i in range(pred_days):\n",
    "            pred = predict_single_stock(hist[i:],regressor)\n",
    "\n",
    "\n",
    "            res = np.append(res,pred)\n",
    "            hist = np.append(hist , pred)\n",
    "        res = pd.DataFrame(res)\n",
    "        res.columns = ['pred_return']\n",
    "\n",
    "\n",
    "        #real_stock_price = obs.reset_index(drop = True)\n",
    "        real_stock_price = list(obs.Return.values)\n",
    "        real_stock_price = pd.DataFrame(real_stock_price)\n",
    "        #real_stock_price['datetime'] = obs['Date'].values\n",
    "        real_stock_price.columns = ['real_return']\n",
    "        # predict pipeline \n",
    "        res = pd.concat([res,real_stock_price],axis = 1)\n",
    "        res['Diff'] = res['pred_return'].astype('float') - res['real_return'].astype('float')\n",
    "        msqrt = np.mean((res['pred_return'].astype('float') - res['real_return'].astype('float'))**2)\n",
    "        res['ticker'] = ticker\n",
    "        res['rmse'] = msqrt\n",
    "    except:\n",
    "        res = pd.DataFrame()\n",
    "        pass \n",
    "        print(\"no data for: %s\"%ticker)\n",
    "    return res\n",
    "\n",
    "\n",
    "def predict_single_stock(inputs,regressor):\n",
    "    X_test = []\n",
    "\n",
    "    X_test.append(inputs)\n",
    "    X_test = np.array(X_test)\n",
    "    X_test = np.reshape(X_test, (X_test.shape[0], X_test.shape[1], 1))\n",
    "    predicted_stock_price = regressor.predict(X_test)\n",
    "    return  predicted_stock_price\n",
    "\n",
    "\n",
    "\n",
    "def prediction_pipeline(dataset_train):\n",
    "    from sklearn.preprocessing import MinMaxScaler\n",
    "    sc = MinMaxScaler(feature_range = (0, 1))\n",
    "    \n",
    "    inputs = dataset_train[- 60:].values\n",
    "    inputs = inputs.reshape(-1,1)\n",
    "    inputs = sc.transform(inputs)\n",
    "    hist = []\n",
    "    hist = inputs\n",
    "    res = np.array([])\n",
    "    for i in range(pred_days):\n",
    "        pred = predict_single_stock(hist[i:])\n",
    "        res = np.append(res,pred)\n",
    "        hist = np.append(hist , pred)\n",
    "    res = pd.DataFrame(res)\n",
    "    res.columns = ['pred_return']\n",
    "\n",
    "\n",
    "    #real_stock_price = obs.reset_index(drop = True)\n",
    "    real_stock_price = list(obs.Return.values)\n",
    "    real_stock_price = pd.DataFrame(real_stock_price)\n",
    "    real_stock_price.columns = ['real_return']\n",
    "    # predict pipeline \n",
    "    res = pd.concat([res,real_stock_price],axis = 1)\n",
    "    res['Diff'] = res['pred_return'].astype('float') - res['real_return'].astype('float')\n",
    "    msqrt = np.mean((res['pred_return'].astype('float') - res['real_return'].astype('float'))**2)\n",
    "    res['ticker'] = ticker\n",
    "    res['rmse'] = msqrt\n",
    "    return res \n",
    "\n",
    "def eveluate_spy500(start_date, end_date, tickers):\n",
    "    res = pd.DataFrame()\n",
    "\n",
    "    for ticker in tickers:\n",
    "        temp_res  =  forecast_performance_next_5_days_with_validation(start_date, end_date, ticker)\n",
    "        res = pd.concat([res, temp_res],axis= 0 )\n",
    "    return res"
   ]
  },
  {
   "cell_type": "markdown",
   "metadata": {},
   "source": [
    "# Portfolio Construction "
   ]
  },
  {
   "cell_type": "code",
   "execution_count": 5,
   "metadata": {},
   "outputs": [],
   "source": [
    "def initialize_weights(stocks):\n",
    "    weights = np.random.random(len(stocks))\n",
    "    weights /= np.sum(weights)\n",
    "    return weights\n",
    "def calculate_portfolio_return(returns, weights):\n",
    "    # ammual \n",
    "    portfolio_return = np.sum(returns.mean()*weights)*252\n",
    "    return portfolio_return\n",
    "    print(\"Expected portfolio return:\", portfolio_return)#expected portfolio variance\n",
    "def calculate_portfolio_variance(returns, weights):\n",
    "    portfolio_variance = np.sqrt(np.dot(weights.T, np.dot(np.cov(returns)*252,weights)))\n",
    "    return  portfolio_variance\n",
    "    print(\"Expected variance:\", portfolio_variance)\n",
    "    \n",
    "def generate_portfolios(weights, returns,stocks):\n",
    "\n",
    "\tpreturns = []\n",
    "\tpvariances = []\n",
    "\n",
    "\t#Monte-Carlo simulation: we generate several random weights -> so random portfolios !!!\n",
    "\tfor i in range(100000):\n",
    "\t\tweights = np.random.random(len(stocks))\n",
    "\t\tweights/=np.sum(weights)\n",
    "\t\tpreturns.append(np.sum(returns.mean()*weights)*252)\n",
    "\t\tpvariances.append(np.sqrt(np.dot(weights.T,np.dot(np.cov(returns)*252,weights))))\n",
    "\t\n",
    "\tpreturns = np.array(preturns)\n",
    "\tpvariances = np.array(pvariances)\n",
    "\treturn preturns,pvariances\n",
    "\n",
    "# what are the constraints? The sum of weights = 1 !!!  f(x)=0 this is the function to minimize\n",
    "def optimize_portfolio(weights,returns,stocks):\n",
    "    import scipy.optimize as optimization\n",
    "    constraints = ({'type':'eq','fun': lambda x: np.sum(x)-1}) #the sum of weights is 1\n",
    "    bounds = tuple((0,1) for x in range(len(stocks))) \n",
    "    #the weights can be 1 at most: 1 when 100% of money is invested into a single stock\n",
    "    optimum=optimization.minimize(fun=min_func_sharpe,\n",
    "                                  x0=weights,args=returns,\n",
    "                                  method='SLSQP',\n",
    "                                  bounds=bounds,\n",
    "                                  constraints=constraints) \n",
    "    return optimum\n",
    "def\tmin_func_sharpe(weights,returns):\n",
    "\treturn\t-statistics(weights,returns)[2]\n",
    "def statistics(weights, returns):\n",
    "\tportfolio_return=np.sum(returns.mean()*weights)*252\n",
    "\tportfolio_volatility=np.sqrt(np.dot(weights.T,np.dot(np.cov(returns)*252,weights)))\n",
    "\treturn np.array([portfolio_return,portfolio_volatility,portfolio_return/portfolio_volatility])\n",
    "\n",
    "def show_optimal_portfolio(optimum, returns, preturns, pvariances):\n",
    "\tplt.figure(figsize=(10,6))\n",
    "\tplt.scatter(pvariances,preturns,c=preturns/pvariances,marker='o')\n",
    "\tplt.grid(True)\n",
    "\tplt.xlabel('Expected Volatility')\n",
    "\tplt.ylabel('Expected Return')\n",
    "\tplt.colorbar(label='Sharpe Ratio')\n",
    "\tplt.plot(statistics(optimum['x'],returns)[1],statistics(optimum['x'],returns)[0],'g*',markersize=20.0)\n",
    "\tplt.show()\n",
    "def print_optimal_portfolio(optimum, returns):\n",
    "\tprint(\"Optimal weights:\", optimum['x'].round(3))\n",
    "\tprint(\"Expected return, volatility and Sharpe ratio:\", statistics(optimum['x'].round(3),returns))\n",
    "    \n",
    "def plot_portfolios(returns, variances):\n",
    "\tplt.figure(figsize=(10,6))\n",
    "\tplt.scatter(variances,returns,c=returns/variances,marker='o')\n",
    "\tplt.grid(True)\n",
    "\tplt.xlabel('Expected Volatility')\n",
    "\tplt.ylabel('Expected Return')\n",
    "\tplt.colorbar(label='Sharpe Ratio')\n",
    "\tplt.show()\n",
    "    \n",
    "def get_portfolio_universe(res):\n",
    "    print(res)\n",
    "    summary2 = res.groupby('ticker').std().reset_index()\n",
    "    summary = res.groupby('ticker').sum().reset_index()\n",
    "    summary['std'] = summary2['pred_return']\n",
    "    summary['return/std'] = summary['pred_return']/summary2['pred_return']\n",
    "    universe = summary.nlargest(5,'return/std')\n",
    "    return universe\n",
    "\n",
    "def p_l_calculate(universe,source,optimum):\n",
    "   # pstat = pd.DataFrame()\n",
    "    #pstat['source'] = source\n",
    "    pstat = pd.DataFrame(statistics(optimum['x'].round(3),universe[source]))\n",
    "    pstat = pstat.T\n",
    "    pstat.columns = ['annual_return','annual_vol','annual_sharpe_ratio']\n",
    "    return pstat\n",
    "\n",
    "\n",
    "def construct_portfolio(universe):\n",
    "    # intitialize weight \n",
    "    weights=initialize_weights(universe)\n",
    "    # calculate predict protfolio return \n",
    "    port_return = calculate_portfolio_return(universe['pred_return'], weights)\n",
    "    # calculate predict portfolio standard deviation \n",
    "    port_var = calculate_portfolio_variance(universe['pred_return'], weights)\n",
    "    # calculate portfolios return \n",
    "    preturns,pvariances=generate_portfolios(weights, universe['pred_return'],universe)\n",
    "    # get optimal weight \n",
    "    optimum = optimize_portfolio(weights,universe['pred_return'],universe)\n",
    "    #optimum['x'] \n",
    "    pred_return_5days = np.sum(optimum['x'] * universe['pred_return'])\n",
    "    real_return_5days = np.sum(optimum['x'] * universe['real_return'])\n",
    "\n",
    "\n",
    "    # pl summary \n",
    "    pred_summary = p_l_calculate(universe,'pred_return',optimum)\n",
    "    pred_summary['5days_return'] = pred_return_5days\n",
    "    pred_summary['source'] = 'Prediction'\n",
    "\n",
    "    real_summary = p_l_calculate(universe,'real_return',optimum)\n",
    "    real_summary['5days_return'] = real_return_5days\n",
    "    real_summary['source'] = 'real'\n",
    "\n",
    "    P_L_summary = pd.concat([pred_summary ,real_summary],axis = 0)\n",
    "\n",
    "    #portfolio summary \n",
    "    equity = pd.DataFrame(universe['ticker']).reset_index(drop = True)\n",
    "    weight = pd.DataFrame(optimum['x'])\n",
    "\n",
    "    portfolio_equity = pd.concat([equity,weight],axis = 1)\n",
    "    portfolio_equity.columns = ['ticker','weight']\n",
    "    return P_L_summary,portfolio_equity"
   ]
  },
  {
   "cell_type": "code",
   "execution_count": 6,
   "metadata": {},
   "outputs": [],
   "source": [
    "def one_period_implement(start_date, end_date, tickers):\n",
    "    # forecast return \n",
    "    res =  eveluate_spy500(start_date, end_date, tickers)\n",
    "    # define good performance equity \n",
    "    universe = get_portfolio_universe(res)\n",
    "    # portfolio construction \n",
    "    P_L_summary,portfolio_equity = construct_portfolio(universe)\n",
    "    return res,universe, P_L_summary,portfolio_equity "
   ]
  },
  {
   "cell_type": "code",
   "execution_count": 7,
   "metadata": {},
   "outputs": [],
   "source": [
    "def get_date_index(numdays,interval):\n",
    "    from dateutil.relativedelta import relativedelta\n",
    "    import datetime \n",
    "    base = datetime.datetime(2018, 1, 11, 0, 0, 0, 0)\n",
    "\n",
    "    #base = datetime.datetime.today() - datetime.timedelta(days=6)\n",
    "    date_list = [base - datetime.timedelta(days=x) for x in range(0, numdays*7,7)]\n",
    "    end_list = pd.to_datetime(date_list).strftime('%Y-%m-%d')\n",
    "    end_list = pd.DataFrame(end_list)\n",
    "    start_list = [base - datetime.timedelta(days=x) - relativedelta(years=2) for x in range(0, numdays*7,7)]\n",
    "    start_list = pd.to_datetime(start_list).strftime('%Y-%m-%d')\n",
    "    start_list = pd.DataFrame(start_list)\n",
    "    date_ix = pd.concat([start_list,end_list],axis = 1)\n",
    "    date_ix.columns = ['start_date','end_date']\n",
    "    date_ix = date_ix.sort_values(by = 'end_date').reset_index(drop = True)\n",
    "    return date_ix"
   ]
  },
  {
   "cell_type": "code",
   "execution_count": 8,
   "metadata": {},
   "outputs": [],
   "source": [
    "def implement_lstm_mc_mv_algo(date_ix,tickers):\n",
    "    res_all = pd.DataFrame()\n",
    "    universe_all = pd.DataFrame()\n",
    "    pl_all = pd.DataFrame()\n",
    "    portfolio_equity_all = pd.DataFrame()\n",
    "    for i in range(len(date_ix)):\n",
    "        start_date  =  date_ix.iloc[i]['start_date']\n",
    "        end_date    =  date_ix.iloc[i]['end_date']\n",
    "        print(end_date)\n",
    "        res,universe, P_L_summary,portfolio_equity = one_period_implement( start_date , end_date, tickers)\n",
    "        # add time stamp \n",
    "        res['DATE'] = end_date\n",
    "        universe['DATE'] = end_date\n",
    "        P_L_summary['DATE'] = end_date\n",
    "        portfolio_equity['DATE'] = end_date\n",
    "\n",
    "        # aggregate result \n",
    "        res_all = pd.concat([res_all,res],axis = 0)\n",
    "        universe_all = pd.concat([universe_all,universe],axis = 0)\n",
    "        pl_all = pd.concat([pl_all,P_L_summary],axis = 0)\n",
    "        portfolio_equity_all = pd.concat([portfolio_equity_all,portfolio_equity],axis = 0)   \n",
    "    return res_all,universe_all,pl_all,portfolio_equity_all"
   ]
  },
  {
   "cell_type": "markdown",
   "metadata": {},
   "source": [
    "# Implement "
   ]
  },
  {
   "cell_type": "code",
   "execution_count": 9,
   "metadata": {},
   "outputs": [],
   "source": [
    "import datetime \n",
    "today = datetime.datetime.now()\n",
    "prev = today - timedelta(days = 365)\n",
    "prev  = prev .strftime('%Y-%m-%d')\n",
    "today = today.strftime('%Y-%m-%d')"
   ]
  },
  {
   "cell_type": "code",
   "execution_count": 10,
   "metadata": {},
   "outputs": [],
   "source": [
    "#start_date = '2016-1-1'\n",
    "#end_date = '2018-1-1'"
   ]
  },
  {
   "cell_type": "code",
   "execution_count": 11,
   "metadata": {
    "scrolled": true
   },
   "outputs": [
    {
     "name": "stderr",
     "output_type": "stream",
     "text": [
      "C:\\Users\\AQi\\AppData\\Local\\Continuum\\anaconda\\lib\\site-packages\\ipykernel_launcher.py:5: SettingWithCopyWarning: \n",
      "A value is trying to be set on a copy of a slice from a DataFrame.\n",
      "Try using .loc[row_indexer,col_indexer] = value instead\n",
      "\n",
      "See the caveats in the documentation: http://pandas.pydata.org/pandas-docs/stable/indexing.html#indexing-view-versus-copy\n",
      "  \"\"\"\n",
      "C:\\Users\\AQi\\AppData\\Local\\Continuum\\anaconda\\lib\\site-packages\\ipykernel_launcher.py:6: SettingWithCopyWarning: \n",
      "A value is trying to be set on a copy of a slice from a DataFrame.\n",
      "Try using .loc[row_indexer,col_indexer] = value instead\n",
      "\n",
      "See the caveats in the documentation: http://pandas.pydata.org/pandas-docs/stable/indexing.html#indexing-view-versus-copy\n",
      "  \n"
     ]
    }
   ],
   "source": [
    "# analysis universe \n",
    "sym = pd.read_csv('SYM.csv')\n",
    "sym.columns = ['SYMBOL']\n",
    "tickers = sym.iloc[:100]\n",
    "tickers['SYMBOL'] = tickers['SYMBOL'].str.replace(\"'\",\"\")\n",
    "tickers['SYMBOL'] = tickers['SYMBOL'].str.strip()\n",
    "tickers =  convert_dataframe_to_list(tickers)"
   ]
  },
  {
   "cell_type": "code",
   "execution_count": 12,
   "metadata": {},
   "outputs": [],
   "source": [
    "# single period simulation \n",
    "#res,universe, P_L_summary,portfolio_equity   = one_period_implement(start_date, end_date, tickers)"
   ]
  },
  {
   "cell_type": "code",
   "execution_count": 13,
   "metadata": {},
   "outputs": [],
   "source": [
    "rebalance_interval = 7 \n",
    "invest_period = 2\n",
    "date_ix = get_date_index(invest_period,rebalance_interval)"
   ]
  },
  {
   "cell_type": "code",
   "execution_count": 14,
   "metadata": {
    "scrolled": true
   },
   "outputs": [
    {
     "name": "stdout",
     "output_type": "stream",
     "text": [
      "2018-01-04\n",
      "ABT\n"
     ]
    },
    {
     "name": "stderr",
     "output_type": "stream",
     "text": [
      "C:\\Users\\AQi\\AppData\\Local\\Continuum\\anaconda\\lib\\site-packages\\ipykernel_launcher.py:7: SettingWithCopyWarning: \n",
      "A value is trying to be set on a copy of a slice from a DataFrame.\n",
      "Try using .loc[row_indexer,col_indexer] = value instead\n",
      "\n",
      "See the caveats in the documentation: http://pandas.pydata.org/pandas-docs/stable/indexing.html#indexing-view-versus-copy\n",
      "  import sys\n",
      "C:\\Users\\AQi\\AppData\\Local\\Continuum\\anaconda\\lib\\site-packages\\ipykernel_launcher.py:8: SettingWithCopyWarning: \n",
      "A value is trying to be set on a copy of a slice from a DataFrame.\n",
      "Try using .loc[row_indexer,col_indexer] = value instead\n",
      "\n",
      "See the caveats in the documentation: http://pandas.pydata.org/pandas-docs/stable/indexing.html#indexing-view-versus-copy\n",
      "  \n",
      "Using TensorFlow backend.\n"
     ]
    },
    {
     "name": "stdout",
     "output_type": "stream",
     "text": [
      "WARNING:tensorflow:From C:\\Users\\AQi\\AppData\\Local\\Continuum\\anaconda\\lib\\site-packages\\tensorflow\\python\\framework\\op_def_library.py:263: colocate_with (from tensorflow.python.framework.ops) is deprecated and will be removed in a future version.\n",
      "Instructions for updating:\n",
      "Colocations handled automatically by placer.\n",
      "WARNING:tensorflow:From C:\\Users\\AQi\\AppData\\Local\\Continuum\\anaconda\\lib\\site-packages\\keras\\backend\\tensorflow_backend.py:3445: calling dropout (from tensorflow.python.ops.nn_ops) with keep_prob is deprecated and will be removed in a future version.\n",
      "Instructions for updating:\n",
      "Please use `rate` instead of `keep_prob`. Rate should be set to `rate = 1 - keep_prob`.\n",
      "WARNING:tensorflow:From C:\\Users\\AQi\\AppData\\Local\\Continuum\\anaconda\\lib\\site-packages\\tensorflow\\python\\ops\\math_ops.py:3066: to_int32 (from tensorflow.python.ops.math_ops) is deprecated and will be removed in a future version.\n",
      "Instructions for updating:\n",
      "Use tf.cast instead.\n",
      "Epoch 1/3\n",
      "442/442 [==============================] - 3s 7ms/step - loss: 0.1495\n",
      "Epoch 2/3\n",
      "442/442 [==============================] - 1s 2ms/step - loss: 0.0278\n",
      "Epoch 3/3\n",
      "442/442 [==============================] - 1s 2ms/step - loss: 0.0156A: 0s - loss: 0.015\n",
      "ABBV\n"
     ]
    },
    {
     "name": "stderr",
     "output_type": "stream",
     "text": [
      "C:\\Users\\AQi\\AppData\\Local\\Continuum\\anaconda\\lib\\site-packages\\ipykernel_launcher.py:7: SettingWithCopyWarning: \n",
      "A value is trying to be set on a copy of a slice from a DataFrame.\n",
      "Try using .loc[row_indexer,col_indexer] = value instead\n",
      "\n",
      "See the caveats in the documentation: http://pandas.pydata.org/pandas-docs/stable/indexing.html#indexing-view-versus-copy\n",
      "  import sys\n",
      "C:\\Users\\AQi\\AppData\\Local\\Continuum\\anaconda\\lib\\site-packages\\ipykernel_launcher.py:8: SettingWithCopyWarning: \n",
      "A value is trying to be set on a copy of a slice from a DataFrame.\n",
      "Try using .loc[row_indexer,col_indexer] = value instead\n",
      "\n",
      "See the caveats in the documentation: http://pandas.pydata.org/pandas-docs/stable/indexing.html#indexing-view-versus-copy\n",
      "  \n"
     ]
    },
    {
     "name": "stdout",
     "output_type": "stream",
     "text": [
      "Epoch 1/3\n",
      "442/442 [==============================] - 3s 7ms/step - loss: 0.0751\n",
      "Epoch 2/3\n",
      "442/442 [==============================] - 1s 2ms/step - loss: 0.0183\n",
      "Epoch 3/3\n",
      "442/442 [==============================] - 1s 2ms/step - loss: 0.0143\n",
      "ACN\n"
     ]
    },
    {
     "name": "stderr",
     "output_type": "stream",
     "text": [
      "C:\\Users\\AQi\\AppData\\Local\\Continuum\\anaconda\\lib\\site-packages\\ipykernel_launcher.py:7: SettingWithCopyWarning: \n",
      "A value is trying to be set on a copy of a slice from a DataFrame.\n",
      "Try using .loc[row_indexer,col_indexer] = value instead\n",
      "\n",
      "See the caveats in the documentation: http://pandas.pydata.org/pandas-docs/stable/indexing.html#indexing-view-versus-copy\n",
      "  import sys\n",
      "C:\\Users\\AQi\\AppData\\Local\\Continuum\\anaconda\\lib\\site-packages\\ipykernel_launcher.py:8: SettingWithCopyWarning: \n",
      "A value is trying to be set on a copy of a slice from a DataFrame.\n",
      "Try using .loc[row_indexer,col_indexer] = value instead\n",
      "\n",
      "See the caveats in the documentation: http://pandas.pydata.org/pandas-docs/stable/indexing.html#indexing-view-versus-copy\n",
      "  \n"
     ]
    },
    {
     "name": "stdout",
     "output_type": "stream",
     "text": [
      "Epoch 1/3\n",
      "442/442 [==============================] - 3s 7ms/step - loss: 0.0908\n",
      "Epoch 2/3\n",
      "442/442 [==============================] - 1s 2ms/step - loss: 0.0188\n",
      "Epoch 3/3\n",
      "442/442 [==============================] - 1s 2ms/step - loss: 0.0126\n",
      "ACE\n",
      "no data for: ACE\n",
      "ADBE\n"
     ]
    },
    {
     "name": "stderr",
     "output_type": "stream",
     "text": [
      "C:\\Users\\AQi\\AppData\\Local\\Continuum\\anaconda\\lib\\site-packages\\ipykernel_launcher.py:7: SettingWithCopyWarning: \n",
      "A value is trying to be set on a copy of a slice from a DataFrame.\n",
      "Try using .loc[row_indexer,col_indexer] = value instead\n",
      "\n",
      "See the caveats in the documentation: http://pandas.pydata.org/pandas-docs/stable/indexing.html#indexing-view-versus-copy\n",
      "  import sys\n",
      "C:\\Users\\AQi\\AppData\\Local\\Continuum\\anaconda\\lib\\site-packages\\ipykernel_launcher.py:8: SettingWithCopyWarning: \n",
      "A value is trying to be set on a copy of a slice from a DataFrame.\n",
      "Try using .loc[row_indexer,col_indexer] = value instead\n",
      "\n",
      "See the caveats in the documentation: http://pandas.pydata.org/pandas-docs/stable/indexing.html#indexing-view-versus-copy\n",
      "  \n"
     ]
    },
    {
     "name": "stdout",
     "output_type": "stream",
     "text": [
      "Epoch 1/3\n",
      "442/442 [==============================] - 3s 8ms/step - loss: 0.0481\n",
      "Epoch 2/3\n",
      "442/442 [==============================] - 1s 2ms/step - loss: 0.0106\n",
      "Epoch 3/3\n",
      "442/442 [==============================] - 1s 2ms/step - loss: 0.0063\n",
      "ADT\n",
      "no data for: ADT\n",
      "AAP\n"
     ]
    },
    {
     "name": "stderr",
     "output_type": "stream",
     "text": [
      "C:\\Users\\AQi\\AppData\\Local\\Continuum\\anaconda\\lib\\site-packages\\ipykernel_launcher.py:7: SettingWithCopyWarning: \n",
      "A value is trying to be set on a copy of a slice from a DataFrame.\n",
      "Try using .loc[row_indexer,col_indexer] = value instead\n",
      "\n",
      "See the caveats in the documentation: http://pandas.pydata.org/pandas-docs/stable/indexing.html#indexing-view-versus-copy\n",
      "  import sys\n",
      "C:\\Users\\AQi\\AppData\\Local\\Continuum\\anaconda\\lib\\site-packages\\ipykernel_launcher.py:8: SettingWithCopyWarning: \n",
      "A value is trying to be set on a copy of a slice from a DataFrame.\n",
      "Try using .loc[row_indexer,col_indexer] = value instead\n",
      "\n",
      "See the caveats in the documentation: http://pandas.pydata.org/pandas-docs/stable/indexing.html#indexing-view-versus-copy\n",
      "  \n"
     ]
    },
    {
     "name": "stdout",
     "output_type": "stream",
     "text": [
      "Epoch 1/3\n",
      "442/442 [==============================] - 4s 8ms/step - loss: 0.0797\n",
      "Epoch 2/3\n",
      "442/442 [==============================] - 1s 2ms/step - loss: 0.0142\n",
      "Epoch 3/3\n",
      "442/442 [==============================] - 1s 2ms/step - loss: 0.0094\n",
      "AES\n"
     ]
    },
    {
     "name": "stderr",
     "output_type": "stream",
     "text": [
      "C:\\Users\\AQi\\AppData\\Local\\Continuum\\anaconda\\lib\\site-packages\\ipykernel_launcher.py:7: SettingWithCopyWarning: \n",
      "A value is trying to be set on a copy of a slice from a DataFrame.\n",
      "Try using .loc[row_indexer,col_indexer] = value instead\n",
      "\n",
      "See the caveats in the documentation: http://pandas.pydata.org/pandas-docs/stable/indexing.html#indexing-view-versus-copy\n",
      "  import sys\n",
      "C:\\Users\\AQi\\AppData\\Local\\Continuum\\anaconda\\lib\\site-packages\\ipykernel_launcher.py:8: SettingWithCopyWarning: \n",
      "A value is trying to be set on a copy of a slice from a DataFrame.\n",
      "Try using .loc[row_indexer,col_indexer] = value instead\n",
      "\n",
      "See the caveats in the documentation: http://pandas.pydata.org/pandas-docs/stable/indexing.html#indexing-view-versus-copy\n",
      "  \n"
     ]
    },
    {
     "name": "stdout",
     "output_type": "stream",
     "text": [
      "Epoch 1/3\n",
      "442/442 [==============================] - 4s 9ms/step - loss: 0.1181\n",
      "Epoch 2/3\n",
      "442/442 [==============================] - 1s 2ms/step - loss: 0.0329\n",
      "Epoch 3/3\n",
      "442/442 [==============================] - 1s 2ms/step - loss: 0.0200\n",
      "AET\n",
      "no data for: AET\n",
      "AFL\n"
     ]
    },
    {
     "name": "stderr",
     "output_type": "stream",
     "text": [
      "C:\\Users\\AQi\\AppData\\Local\\Continuum\\anaconda\\lib\\site-packages\\ipykernel_launcher.py:7: SettingWithCopyWarning: \n",
      "A value is trying to be set on a copy of a slice from a DataFrame.\n",
      "Try using .loc[row_indexer,col_indexer] = value instead\n",
      "\n",
      "See the caveats in the documentation: http://pandas.pydata.org/pandas-docs/stable/indexing.html#indexing-view-versus-copy\n",
      "  import sys\n",
      "C:\\Users\\AQi\\AppData\\Local\\Continuum\\anaconda\\lib\\site-packages\\ipykernel_launcher.py:8: SettingWithCopyWarning: \n",
      "A value is trying to be set on a copy of a slice from a DataFrame.\n",
      "Try using .loc[row_indexer,col_indexer] = value instead\n",
      "\n",
      "See the caveats in the documentation: http://pandas.pydata.org/pandas-docs/stable/indexing.html#indexing-view-versus-copy\n",
      "  \n"
     ]
    },
    {
     "name": "stdout",
     "output_type": "stream",
     "text": [
      "Epoch 1/3\n",
      "442/442 [==============================] - 4s 10ms/step - loss: 0.0880\n",
      "Epoch 2/3\n",
      "442/442 [==============================] - 1s 2ms/step - loss: 0.0236\n",
      "Epoch 3/3\n",
      "442/442 [==============================] - 1s 2ms/step - loss: 0.0166\n",
      "AMG\n"
     ]
    },
    {
     "name": "stderr",
     "output_type": "stream",
     "text": [
      "C:\\Users\\AQi\\AppData\\Local\\Continuum\\anaconda\\lib\\site-packages\\ipykernel_launcher.py:7: SettingWithCopyWarning: \n",
      "A value is trying to be set on a copy of a slice from a DataFrame.\n",
      "Try using .loc[row_indexer,col_indexer] = value instead\n",
      "\n",
      "See the caveats in the documentation: http://pandas.pydata.org/pandas-docs/stable/indexing.html#indexing-view-versus-copy\n",
      "  import sys\n",
      "C:\\Users\\AQi\\AppData\\Local\\Continuum\\anaconda\\lib\\site-packages\\ipykernel_launcher.py:8: SettingWithCopyWarning: \n",
      "A value is trying to be set on a copy of a slice from a DataFrame.\n",
      "Try using .loc[row_indexer,col_indexer] = value instead\n",
      "\n",
      "See the caveats in the documentation: http://pandas.pydata.org/pandas-docs/stable/indexing.html#indexing-view-versus-copy\n",
      "  \n"
     ]
    },
    {
     "name": "stdout",
     "output_type": "stream",
     "text": [
      "Epoch 1/3\n",
      "442/442 [==============================] - 5s 10ms/step - loss: 0.1844\n",
      "Epoch 2/3\n",
      "442/442 [==============================] - 1s 2ms/step - loss: 0.0324\n",
      "Epoch 3/3\n",
      "442/442 [==============================] - 1s 2ms/step - loss: 0.0205\n",
      "A\n"
     ]
    },
    {
     "name": "stderr",
     "output_type": "stream",
     "text": [
      "C:\\Users\\AQi\\AppData\\Local\\Continuum\\anaconda\\lib\\site-packages\\ipykernel_launcher.py:7: SettingWithCopyWarning: \n",
      "A value is trying to be set on a copy of a slice from a DataFrame.\n",
      "Try using .loc[row_indexer,col_indexer] = value instead\n",
      "\n",
      "See the caveats in the documentation: http://pandas.pydata.org/pandas-docs/stable/indexing.html#indexing-view-versus-copy\n",
      "  import sys\n",
      "C:\\Users\\AQi\\AppData\\Local\\Continuum\\anaconda\\lib\\site-packages\\ipykernel_launcher.py:8: SettingWithCopyWarning: \n",
      "A value is trying to be set on a copy of a slice from a DataFrame.\n",
      "Try using .loc[row_indexer,col_indexer] = value instead\n",
      "\n",
      "See the caveats in the documentation: http://pandas.pydata.org/pandas-docs/stable/indexing.html#indexing-view-versus-copy\n",
      "  \n"
     ]
    },
    {
     "name": "stdout",
     "output_type": "stream",
     "text": [
      "Epoch 1/3\n",
      "442/442 [==============================] - 5s 11ms/step - loss: 0.0804\n",
      "Epoch 2/3\n",
      "442/442 [==============================] - 1s 2ms/step - loss: 0.0240\n",
      "Epoch 3/3\n",
      "442/442 [==============================] - 1s 2ms/step - loss: 0.0161\n",
      "GAS\n",
      "no data for: GAS\n",
      "APD\n"
     ]
    },
    {
     "name": "stderr",
     "output_type": "stream",
     "text": [
      "C:\\Users\\AQi\\AppData\\Local\\Continuum\\anaconda\\lib\\site-packages\\ipykernel_launcher.py:7: SettingWithCopyWarning: \n",
      "A value is trying to be set on a copy of a slice from a DataFrame.\n",
      "Try using .loc[row_indexer,col_indexer] = value instead\n",
      "\n",
      "See the caveats in the documentation: http://pandas.pydata.org/pandas-docs/stable/indexing.html#indexing-view-versus-copy\n",
      "  import sys\n",
      "C:\\Users\\AQi\\AppData\\Local\\Continuum\\anaconda\\lib\\site-packages\\ipykernel_launcher.py:8: SettingWithCopyWarning: \n",
      "A value is trying to be set on a copy of a slice from a DataFrame.\n",
      "Try using .loc[row_indexer,col_indexer] = value instead\n",
      "\n",
      "See the caveats in the documentation: http://pandas.pydata.org/pandas-docs/stable/indexing.html#indexing-view-versus-copy\n",
      "  \n"
     ]
    },
    {
     "name": "stdout",
     "output_type": "stream",
     "text": [
      "Epoch 1/3\n",
      "442/442 [==============================] - 5s 12ms/step - loss: 0.0759\n",
      "Epoch 2/3\n",
      "442/442 [==============================] - 1s 2ms/step - loss: 0.0183\n",
      "Epoch 3/3\n",
      "442/442 [==============================] - 1s 2ms/step - loss: 0.0133\n",
      "ARG\n",
      "no data for: ARG\n",
      "AKAM\n"
     ]
    },
    {
     "name": "stderr",
     "output_type": "stream",
     "text": [
      "C:\\Users\\AQi\\AppData\\Local\\Continuum\\anaconda\\lib\\site-packages\\ipykernel_launcher.py:7: SettingWithCopyWarning: \n",
      "A value is trying to be set on a copy of a slice from a DataFrame.\n",
      "Try using .loc[row_indexer,col_indexer] = value instead\n",
      "\n",
      "See the caveats in the documentation: http://pandas.pydata.org/pandas-docs/stable/indexing.html#indexing-view-versus-copy\n",
      "  import sys\n",
      "C:\\Users\\AQi\\AppData\\Local\\Continuum\\anaconda\\lib\\site-packages\\ipykernel_launcher.py:8: SettingWithCopyWarning: \n",
      "A value is trying to be set on a copy of a slice from a DataFrame.\n",
      "Try using .loc[row_indexer,col_indexer] = value instead\n",
      "\n",
      "See the caveats in the documentation: http://pandas.pydata.org/pandas-docs/stable/indexing.html#indexing-view-versus-copy\n",
      "  \n"
     ]
    },
    {
     "name": "stdout",
     "output_type": "stream",
     "text": [
      "Epoch 1/3\n",
      "442/442 [==============================] - 6s 12ms/step - loss: 0.1160\n",
      "Epoch 2/3\n",
      "442/442 [==============================] - 1s 2ms/step - loss: 0.0202\n",
      "Epoch 3/3\n",
      "442/442 [==============================] - 1s 2ms/step - loss: 0.0098\n",
      "AA\n",
      "no data for: AA\n",
      "AGN\n"
     ]
    },
    {
     "name": "stderr",
     "output_type": "stream",
     "text": [
      "C:\\Users\\AQi\\AppData\\Local\\Continuum\\anaconda\\lib\\site-packages\\ipykernel_launcher.py:7: SettingWithCopyWarning: \n",
      "A value is trying to be set on a copy of a slice from a DataFrame.\n",
      "Try using .loc[row_indexer,col_indexer] = value instead\n",
      "\n",
      "See the caveats in the documentation: http://pandas.pydata.org/pandas-docs/stable/indexing.html#indexing-view-versus-copy\n",
      "  import sys\n",
      "C:\\Users\\AQi\\AppData\\Local\\Continuum\\anaconda\\lib\\site-packages\\ipykernel_launcher.py:8: SettingWithCopyWarning: \n",
      "A value is trying to be set on a copy of a slice from a DataFrame.\n",
      "Try using .loc[row_indexer,col_indexer] = value instead\n",
      "\n",
      "See the caveats in the documentation: http://pandas.pydata.org/pandas-docs/stable/indexing.html#indexing-view-versus-copy\n",
      "  \n"
     ]
    },
    {
     "name": "stdout",
     "output_type": "stream",
     "text": [
      "Epoch 1/3\n",
      "442/442 [==============================] - 6s 13ms/step - loss: 0.1836\n",
      "Epoch 2/3\n",
      "442/442 [==============================] - 1s 2ms/step - loss: 0.0259\n",
      "Epoch 3/3\n",
      "442/442 [==============================] - 1s 2ms/step - loss: 0.0111\n",
      "ALXN\n"
     ]
    },
    {
     "name": "stderr",
     "output_type": "stream",
     "text": [
      "C:\\Users\\AQi\\AppData\\Local\\Continuum\\anaconda\\lib\\site-packages\\ipykernel_launcher.py:7: SettingWithCopyWarning: \n",
      "A value is trying to be set on a copy of a slice from a DataFrame.\n",
      "Try using .loc[row_indexer,col_indexer] = value instead\n",
      "\n",
      "See the caveats in the documentation: http://pandas.pydata.org/pandas-docs/stable/indexing.html#indexing-view-versus-copy\n",
      "  import sys\n",
      "C:\\Users\\AQi\\AppData\\Local\\Continuum\\anaconda\\lib\\site-packages\\ipykernel_launcher.py:8: SettingWithCopyWarning: \n",
      "A value is trying to be set on a copy of a slice from a DataFrame.\n",
      "Try using .loc[row_indexer,col_indexer] = value instead\n",
      "\n",
      "See the caveats in the documentation: http://pandas.pydata.org/pandas-docs/stable/indexing.html#indexing-view-versus-copy\n",
      "  \n"
     ]
    },
    {
     "name": "stdout",
     "output_type": "stream",
     "text": [
      "Epoch 1/3\n",
      "442/442 [==============================] - 6s 14ms/step - loss: 0.1378\n",
      "Epoch 2/3\n",
      "442/442 [==============================] - 1s 2ms/step - loss: 0.0238\n",
      "Epoch 3/3\n",
      "442/442 [==============================] - 1s 2ms/step - loss: 0.0153\n",
      "ALLE\n"
     ]
    },
    {
     "name": "stderr",
     "output_type": "stream",
     "text": [
      "C:\\Users\\AQi\\AppData\\Local\\Continuum\\anaconda\\lib\\site-packages\\ipykernel_launcher.py:7: SettingWithCopyWarning: \n",
      "A value is trying to be set on a copy of a slice from a DataFrame.\n",
      "Try using .loc[row_indexer,col_indexer] = value instead\n",
      "\n",
      "See the caveats in the documentation: http://pandas.pydata.org/pandas-docs/stable/indexing.html#indexing-view-versus-copy\n",
      "  import sys\n",
      "C:\\Users\\AQi\\AppData\\Local\\Continuum\\anaconda\\lib\\site-packages\\ipykernel_launcher.py:8: SettingWithCopyWarning: \n",
      "A value is trying to be set on a copy of a slice from a DataFrame.\n",
      "Try using .loc[row_indexer,col_indexer] = value instead\n",
      "\n",
      "See the caveats in the documentation: http://pandas.pydata.org/pandas-docs/stable/indexing.html#indexing-view-versus-copy\n",
      "  \n"
     ]
    },
    {
     "name": "stdout",
     "output_type": "stream",
     "text": [
      "Epoch 1/3\n",
      "442/442 [==============================] - 7s 15ms/step - loss: 0.0911\n",
      "Epoch 2/3\n",
      "442/442 [==============================] - 1s 2ms/step - loss: 0.0201\n",
      "Epoch 3/3\n",
      "442/442 [==============================] - 1s 2ms/step - loss: 0.0153\n",
      "ADS\n"
     ]
    },
    {
     "name": "stderr",
     "output_type": "stream",
     "text": [
      "C:\\Users\\AQi\\AppData\\Local\\Continuum\\anaconda\\lib\\site-packages\\ipykernel_launcher.py:7: SettingWithCopyWarning: \n",
      "A value is trying to be set on a copy of a slice from a DataFrame.\n",
      "Try using .loc[row_indexer,col_indexer] = value instead\n",
      "\n",
      "See the caveats in the documentation: http://pandas.pydata.org/pandas-docs/stable/indexing.html#indexing-view-versus-copy\n",
      "  import sys\n",
      "C:\\Users\\AQi\\AppData\\Local\\Continuum\\anaconda\\lib\\site-packages\\ipykernel_launcher.py:8: SettingWithCopyWarning: \n",
      "A value is trying to be set on a copy of a slice from a DataFrame.\n",
      "Try using .loc[row_indexer,col_indexer] = value instead\n",
      "\n",
      "See the caveats in the documentation: http://pandas.pydata.org/pandas-docs/stable/indexing.html#indexing-view-versus-copy\n",
      "  \n"
     ]
    },
    {
     "name": "stdout",
     "output_type": "stream",
     "text": [
      "Epoch 1/3\n",
      "442/442 [==============================] - 7s 16ms/step - loss: 0.1405\n",
      "Epoch 2/3\n",
      "442/442 [==============================] - 1s 2ms/step - loss: 0.0203\n",
      "Epoch 3/3\n",
      "442/442 [==============================] - 1s 2ms/step - loss: 0.0101\n",
      "ALL\n"
     ]
    },
    {
     "name": "stderr",
     "output_type": "stream",
     "text": [
      "C:\\Users\\AQi\\AppData\\Local\\Continuum\\anaconda\\lib\\site-packages\\ipykernel_launcher.py:7: SettingWithCopyWarning: \n",
      "A value is trying to be set on a copy of a slice from a DataFrame.\n",
      "Try using .loc[row_indexer,col_indexer] = value instead\n",
      "\n",
      "See the caveats in the documentation: http://pandas.pydata.org/pandas-docs/stable/indexing.html#indexing-view-versus-copy\n",
      "  import sys\n",
      "C:\\Users\\AQi\\AppData\\Local\\Continuum\\anaconda\\lib\\site-packages\\ipykernel_launcher.py:8: SettingWithCopyWarning: \n",
      "A value is trying to be set on a copy of a slice from a DataFrame.\n",
      "Try using .loc[row_indexer,col_indexer] = value instead\n",
      "\n",
      "See the caveats in the documentation: http://pandas.pydata.org/pandas-docs/stable/indexing.html#indexing-view-versus-copy\n",
      "  \n"
     ]
    },
    {
     "name": "stdout",
     "output_type": "stream",
     "text": [
      "Epoch 1/3\n",
      "442/442 [==============================] - 8s 17ms/step - loss: 0.0723\n",
      "Epoch 2/3\n",
      "442/442 [==============================] - 1s 2ms/step - loss: 0.0166\n",
      "Epoch 3/3\n",
      "442/442 [==============================] - 1s 2ms/step - loss: 0.0124\n",
      "ALTR\n"
     ]
    },
    {
     "name": "stderr",
     "output_type": "stream",
     "text": [
      "C:\\Users\\AQi\\AppData\\Local\\Continuum\\anaconda\\lib\\site-packages\\ipykernel_launcher.py:7: SettingWithCopyWarning: \n",
      "A value is trying to be set on a copy of a slice from a DataFrame.\n",
      "Try using .loc[row_indexer,col_indexer] = value instead\n",
      "\n",
      "See the caveats in the documentation: http://pandas.pydata.org/pandas-docs/stable/indexing.html#indexing-view-versus-copy\n",
      "  import sys\n",
      "C:\\Users\\AQi\\AppData\\Local\\Continuum\\anaconda\\lib\\site-packages\\ipykernel_launcher.py:8: SettingWithCopyWarning: \n",
      "A value is trying to be set on a copy of a slice from a DataFrame.\n",
      "Try using .loc[row_indexer,col_indexer] = value instead\n",
      "\n",
      "See the caveats in the documentation: http://pandas.pydata.org/pandas-docs/stable/indexing.html#indexing-view-versus-copy\n",
      "  \n"
     ]
    },
    {
     "name": "stdout",
     "output_type": "stream",
     "text": [
      "no data for: ALTR\n",
      "MO\n"
     ]
    },
    {
     "name": "stderr",
     "output_type": "stream",
     "text": [
      "C:\\Users\\AQi\\AppData\\Local\\Continuum\\anaconda\\lib\\site-packages\\ipykernel_launcher.py:7: SettingWithCopyWarning: \n",
      "A value is trying to be set on a copy of a slice from a DataFrame.\n",
      "Try using .loc[row_indexer,col_indexer] = value instead\n",
      "\n",
      "See the caveats in the documentation: http://pandas.pydata.org/pandas-docs/stable/indexing.html#indexing-view-versus-copy\n",
      "  import sys\n",
      "C:\\Users\\AQi\\AppData\\Local\\Continuum\\anaconda\\lib\\site-packages\\ipykernel_launcher.py:8: SettingWithCopyWarning: \n",
      "A value is trying to be set on a copy of a slice from a DataFrame.\n",
      "Try using .loc[row_indexer,col_indexer] = value instead\n",
      "\n",
      "See the caveats in the documentation: http://pandas.pydata.org/pandas-docs/stable/indexing.html#indexing-view-versus-copy\n",
      "  \n"
     ]
    },
    {
     "name": "stdout",
     "output_type": "stream",
     "text": [
      "Epoch 1/3\n",
      "442/442 [==============================] - 8s 18ms/step - loss: 0.1921\n",
      "Epoch 2/3\n",
      "442/442 [==============================] - 1s 2ms/step - loss: 0.0303\n",
      "Epoch 3/3\n",
      "442/442 [==============================] - 1s 2ms/step - loss: 0.0158\n",
      "AMZN\n"
     ]
    },
    {
     "name": "stderr",
     "output_type": "stream",
     "text": [
      "C:\\Users\\AQi\\AppData\\Local\\Continuum\\anaconda\\lib\\site-packages\\ipykernel_launcher.py:7: SettingWithCopyWarning: \n",
      "A value is trying to be set on a copy of a slice from a DataFrame.\n",
      "Try using .loc[row_indexer,col_indexer] = value instead\n",
      "\n",
      "See the caveats in the documentation: http://pandas.pydata.org/pandas-docs/stable/indexing.html#indexing-view-versus-copy\n",
      "  import sys\n",
      "C:\\Users\\AQi\\AppData\\Local\\Continuum\\anaconda\\lib\\site-packages\\ipykernel_launcher.py:8: SettingWithCopyWarning: \n",
      "A value is trying to be set on a copy of a slice from a DataFrame.\n",
      "Try using .loc[row_indexer,col_indexer] = value instead\n",
      "\n",
      "See the caveats in the documentation: http://pandas.pydata.org/pandas-docs/stable/indexing.html#indexing-view-versus-copy\n",
      "  \n"
     ]
    },
    {
     "name": "stdout",
     "output_type": "stream",
     "text": [
      "Epoch 1/3\n",
      "442/442 [==============================] - 8s 19ms/step - loss: 0.0270\n",
      "Epoch 2/3\n",
      "442/442 [==============================] - 1s 2ms/step - loss: 0.0074\n",
      "Epoch 3/3\n",
      "442/442 [==============================] - 1s 2ms/step - loss: 0.0062\n",
      "AEE\n"
     ]
    },
    {
     "name": "stderr",
     "output_type": "stream",
     "text": [
      "C:\\Users\\AQi\\AppData\\Local\\Continuum\\anaconda\\lib\\site-packages\\ipykernel_launcher.py:7: SettingWithCopyWarning: \n",
      "A value is trying to be set on a copy of a slice from a DataFrame.\n",
      "Try using .loc[row_indexer,col_indexer] = value instead\n",
      "\n",
      "See the caveats in the documentation: http://pandas.pydata.org/pandas-docs/stable/indexing.html#indexing-view-versus-copy\n",
      "  import sys\n",
      "C:\\Users\\AQi\\AppData\\Local\\Continuum\\anaconda\\lib\\site-packages\\ipykernel_launcher.py:8: SettingWithCopyWarning: \n",
      "A value is trying to be set on a copy of a slice from a DataFrame.\n",
      "Try using .loc[row_indexer,col_indexer] = value instead\n",
      "\n",
      "See the caveats in the documentation: http://pandas.pydata.org/pandas-docs/stable/indexing.html#indexing-view-versus-copy\n",
      "  \n"
     ]
    },
    {
     "name": "stdout",
     "output_type": "stream",
     "text": [
      "Epoch 1/3\n",
      "442/442 [==============================] - 9s 20ms/step - loss: 0.1462\n",
      "Epoch 2/3\n",
      "442/442 [==============================] - 1s 2ms/step - loss: 0.0323\n",
      "Epoch 3/3\n",
      "442/442 [==============================] - 1s 2ms/step - loss: 0.0251\n",
      "AAL\n"
     ]
    },
    {
     "name": "stderr",
     "output_type": "stream",
     "text": [
      "C:\\Users\\AQi\\AppData\\Local\\Continuum\\anaconda\\lib\\site-packages\\ipykernel_launcher.py:7: SettingWithCopyWarning: \n",
      "A value is trying to be set on a copy of a slice from a DataFrame.\n",
      "Try using .loc[row_indexer,col_indexer] = value instead\n",
      "\n",
      "See the caveats in the documentation: http://pandas.pydata.org/pandas-docs/stable/indexing.html#indexing-view-versus-copy\n",
      "  import sys\n",
      "C:\\Users\\AQi\\AppData\\Local\\Continuum\\anaconda\\lib\\site-packages\\ipykernel_launcher.py:8: SettingWithCopyWarning: \n",
      "A value is trying to be set on a copy of a slice from a DataFrame.\n",
      "Try using .loc[row_indexer,col_indexer] = value instead\n",
      "\n",
      "See the caveats in the documentation: http://pandas.pydata.org/pandas-docs/stable/indexing.html#indexing-view-versus-copy\n",
      "  \n"
     ]
    },
    {
     "name": "stdout",
     "output_type": "stream",
     "text": [
      "Epoch 1/3\n",
      "442/442 [==============================] - 10s 22ms/step - loss: 0.0755\n",
      "Epoch 2/3\n",
      "442/442 [==============================] - 1s 2ms/step - loss: 0.0212\n",
      "Epoch 3/3\n",
      "442/442 [==============================] - 1s 3ms/step - loss: 0.0190\n",
      "AEP\n"
     ]
    },
    {
     "name": "stderr",
     "output_type": "stream",
     "text": [
      "C:\\Users\\AQi\\AppData\\Local\\Continuum\\anaconda\\lib\\site-packages\\ipykernel_launcher.py:7: SettingWithCopyWarning: \n",
      "A value is trying to be set on a copy of a slice from a DataFrame.\n",
      "Try using .loc[row_indexer,col_indexer] = value instead\n",
      "\n",
      "See the caveats in the documentation: http://pandas.pydata.org/pandas-docs/stable/indexing.html#indexing-view-versus-copy\n",
      "  import sys\n",
      "C:\\Users\\AQi\\AppData\\Local\\Continuum\\anaconda\\lib\\site-packages\\ipykernel_launcher.py:8: SettingWithCopyWarning: \n",
      "A value is trying to be set on a copy of a slice from a DataFrame.\n",
      "Try using .loc[row_indexer,col_indexer] = value instead\n",
      "\n",
      "See the caveats in the documentation: http://pandas.pydata.org/pandas-docs/stable/indexing.html#indexing-view-versus-copy\n",
      "  \n"
     ]
    },
    {
     "name": "stdout",
     "output_type": "stream",
     "text": [
      "Epoch 1/3\n",
      "442/442 [==============================] - 11s 24ms/step - loss: 0.1667\n",
      "Epoch 2/3\n",
      "442/442 [==============================] - 1s 2ms/step - loss: 0.0408\n",
      "Epoch 3/3\n",
      "442/442 [==============================] - 1s 2ms/step - loss: 0.0313\n",
      "AXP\n"
     ]
    },
    {
     "name": "stderr",
     "output_type": "stream",
     "text": [
      "C:\\Users\\AQi\\AppData\\Local\\Continuum\\anaconda\\lib\\site-packages\\ipykernel_launcher.py:7: SettingWithCopyWarning: \n",
      "A value is trying to be set on a copy of a slice from a DataFrame.\n",
      "Try using .loc[row_indexer,col_indexer] = value instead\n",
      "\n",
      "See the caveats in the documentation: http://pandas.pydata.org/pandas-docs/stable/indexing.html#indexing-view-versus-copy\n",
      "  import sys\n",
      "C:\\Users\\AQi\\AppData\\Local\\Continuum\\anaconda\\lib\\site-packages\\ipykernel_launcher.py:8: SettingWithCopyWarning: \n",
      "A value is trying to be set on a copy of a slice from a DataFrame.\n",
      "Try using .loc[row_indexer,col_indexer] = value instead\n",
      "\n",
      "See the caveats in the documentation: http://pandas.pydata.org/pandas-docs/stable/indexing.html#indexing-view-versus-copy\n",
      "  \n"
     ]
    },
    {
     "name": "stdout",
     "output_type": "stream",
     "text": [
      "Epoch 1/3\n",
      "442/442 [==============================] - 10s 23ms/step - loss: 0.1092\n",
      "Epoch 2/3\n",
      "442/442 [==============================] - 1s 2ms/step - loss: 0.0142\n",
      "Epoch 3/3\n",
      "442/442 [==============================] - 1s 2ms/step - loss: 0.0084\n",
      "AIG\n"
     ]
    },
    {
     "name": "stderr",
     "output_type": "stream",
     "text": [
      "C:\\Users\\AQi\\AppData\\Local\\Continuum\\anaconda\\lib\\site-packages\\ipykernel_launcher.py:7: SettingWithCopyWarning: \n",
      "A value is trying to be set on a copy of a slice from a DataFrame.\n",
      "Try using .loc[row_indexer,col_indexer] = value instead\n",
      "\n",
      "See the caveats in the documentation: http://pandas.pydata.org/pandas-docs/stable/indexing.html#indexing-view-versus-copy\n",
      "  import sys\n",
      "C:\\Users\\AQi\\AppData\\Local\\Continuum\\anaconda\\lib\\site-packages\\ipykernel_launcher.py:8: SettingWithCopyWarning: \n",
      "A value is trying to be set on a copy of a slice from a DataFrame.\n",
      "Try using .loc[row_indexer,col_indexer] = value instead\n",
      "\n",
      "See the caveats in the documentation: http://pandas.pydata.org/pandas-docs/stable/indexing.html#indexing-view-versus-copy\n",
      "  \n"
     ]
    },
    {
     "name": "stdout",
     "output_type": "stream",
     "text": [
      "Epoch 1/3\n",
      "442/442 [==============================] - 11s 24ms/step - loss: 0.1154\n",
      "Epoch 2/3\n",
      "442/442 [==============================] - 1s 2ms/step - loss: 0.0168\n",
      "Epoch 3/3\n",
      "442/442 [==============================] - 1s 2ms/step - loss: 0.0111\n",
      "AMT\n"
     ]
    },
    {
     "name": "stderr",
     "output_type": "stream",
     "text": [
      "C:\\Users\\AQi\\AppData\\Local\\Continuum\\anaconda\\lib\\site-packages\\ipykernel_launcher.py:7: SettingWithCopyWarning: \n",
      "A value is trying to be set on a copy of a slice from a DataFrame.\n",
      "Try using .loc[row_indexer,col_indexer] = value instead\n",
      "\n",
      "See the caveats in the documentation: http://pandas.pydata.org/pandas-docs/stable/indexing.html#indexing-view-versus-copy\n",
      "  import sys\n",
      "C:\\Users\\AQi\\AppData\\Local\\Continuum\\anaconda\\lib\\site-packages\\ipykernel_launcher.py:8: SettingWithCopyWarning: \n",
      "A value is trying to be set on a copy of a slice from a DataFrame.\n",
      "Try using .loc[row_indexer,col_indexer] = value instead\n",
      "\n",
      "See the caveats in the documentation: http://pandas.pydata.org/pandas-docs/stable/indexing.html#indexing-view-versus-copy\n",
      "  \n"
     ]
    },
    {
     "name": "stdout",
     "output_type": "stream",
     "text": [
      "Epoch 1/3\n",
      "442/442 [==============================] - 11s 25ms/step - loss: 0.0710\n",
      "Epoch 2/3\n",
      "442/442 [==============================] - 1s 3ms/step - loss: 0.0167\n",
      "Epoch 3/3\n",
      "442/442 [==============================] - 1s 3ms/step - loss: 0.0108\n",
      "AMP\n"
     ]
    },
    {
     "name": "stderr",
     "output_type": "stream",
     "text": [
      "C:\\Users\\AQi\\AppData\\Local\\Continuum\\anaconda\\lib\\site-packages\\ipykernel_launcher.py:7: SettingWithCopyWarning: \n",
      "A value is trying to be set on a copy of a slice from a DataFrame.\n",
      "Try using .loc[row_indexer,col_indexer] = value instead\n",
      "\n",
      "See the caveats in the documentation: http://pandas.pydata.org/pandas-docs/stable/indexing.html#indexing-view-versus-copy\n",
      "  import sys\n",
      "C:\\Users\\AQi\\AppData\\Local\\Continuum\\anaconda\\lib\\site-packages\\ipykernel_launcher.py:8: SettingWithCopyWarning: \n",
      "A value is trying to be set on a copy of a slice from a DataFrame.\n",
      "Try using .loc[row_indexer,col_indexer] = value instead\n",
      "\n",
      "See the caveats in the documentation: http://pandas.pydata.org/pandas-docs/stable/indexing.html#indexing-view-versus-copy\n",
      "  \n"
     ]
    },
    {
     "name": "stdout",
     "output_type": "stream",
     "text": [
      "Epoch 1/3\n",
      "442/442 [==============================] - 12s 27ms/step - loss: 0.0907\n",
      "Epoch 2/3\n",
      "442/442 [==============================] - 1s 2ms/step - loss: 0.0165\n",
      "Epoch 3/3\n",
      "442/442 [==============================] - 1s 3ms/step - loss: 0.0139\n",
      "ABC\n"
     ]
    },
    {
     "name": "stderr",
     "output_type": "stream",
     "text": [
      "C:\\Users\\AQi\\AppData\\Local\\Continuum\\anaconda\\lib\\site-packages\\ipykernel_launcher.py:7: SettingWithCopyWarning: \n",
      "A value is trying to be set on a copy of a slice from a DataFrame.\n",
      "Try using .loc[row_indexer,col_indexer] = value instead\n",
      "\n",
      "See the caveats in the documentation: http://pandas.pydata.org/pandas-docs/stable/indexing.html#indexing-view-versus-copy\n",
      "  import sys\n",
      "C:\\Users\\AQi\\AppData\\Local\\Continuum\\anaconda\\lib\\site-packages\\ipykernel_launcher.py:8: SettingWithCopyWarning: \n",
      "A value is trying to be set on a copy of a slice from a DataFrame.\n",
      "Try using .loc[row_indexer,col_indexer] = value instead\n",
      "\n",
      "See the caveats in the documentation: http://pandas.pydata.org/pandas-docs/stable/indexing.html#indexing-view-versus-copy\n",
      "  \n"
     ]
    },
    {
     "name": "stdout",
     "output_type": "stream",
     "text": [
      "Epoch 1/3\n",
      "442/442 [==============================] - 13s 28ms/step - loss: 0.0960\n",
      "Epoch 2/3\n",
      "442/442 [==============================] - 1s 2ms/step - loss: 0.0204\n",
      "Epoch 3/3\n",
      "442/442 [==============================] - 1s 3ms/step - loss: 0.0132\n",
      "AME\n"
     ]
    },
    {
     "name": "stderr",
     "output_type": "stream",
     "text": [
      "C:\\Users\\AQi\\AppData\\Local\\Continuum\\anaconda\\lib\\site-packages\\ipykernel_launcher.py:7: SettingWithCopyWarning: \n",
      "A value is trying to be set on a copy of a slice from a DataFrame.\n",
      "Try using .loc[row_indexer,col_indexer] = value instead\n",
      "\n",
      "See the caveats in the documentation: http://pandas.pydata.org/pandas-docs/stable/indexing.html#indexing-view-versus-copy\n",
      "  import sys\n",
      "C:\\Users\\AQi\\AppData\\Local\\Continuum\\anaconda\\lib\\site-packages\\ipykernel_launcher.py:8: SettingWithCopyWarning: \n",
      "A value is trying to be set on a copy of a slice from a DataFrame.\n",
      "Try using .loc[row_indexer,col_indexer] = value instead\n",
      "\n",
      "See the caveats in the documentation: http://pandas.pydata.org/pandas-docs/stable/indexing.html#indexing-view-versus-copy\n",
      "  \n"
     ]
    },
    {
     "name": "stdout",
     "output_type": "stream",
     "text": [
      "Epoch 1/3\n",
      "442/442 [==============================] - 13s 30ms/step - loss: 0.1176\n",
      "Epoch 2/3\n",
      "442/442 [==============================] - 1s 2ms/step - loss: 0.0201\n",
      "Epoch 3/3\n",
      "442/442 [==============================] - 1s 3ms/step - loss: 0.0125\n",
      "AMGN\n"
     ]
    },
    {
     "name": "stderr",
     "output_type": "stream",
     "text": [
      "C:\\Users\\AQi\\AppData\\Local\\Continuum\\anaconda\\lib\\site-packages\\ipykernel_launcher.py:7: SettingWithCopyWarning: \n",
      "A value is trying to be set on a copy of a slice from a DataFrame.\n",
      "Try using .loc[row_indexer,col_indexer] = value instead\n",
      "\n",
      "See the caveats in the documentation: http://pandas.pydata.org/pandas-docs/stable/indexing.html#indexing-view-versus-copy\n",
      "  import sys\n",
      "C:\\Users\\AQi\\AppData\\Local\\Continuum\\anaconda\\lib\\site-packages\\ipykernel_launcher.py:8: SettingWithCopyWarning: \n",
      "A value is trying to be set on a copy of a slice from a DataFrame.\n",
      "Try using .loc[row_indexer,col_indexer] = value instead\n",
      "\n",
      "See the caveats in the documentation: http://pandas.pydata.org/pandas-docs/stable/indexing.html#indexing-view-versus-copy\n",
      "  \n"
     ]
    },
    {
     "name": "stdout",
     "output_type": "stream",
     "text": [
      "Epoch 1/3\n",
      "442/442 [==============================] - 14s 31ms/step - loss: 0.1557\n",
      "Epoch 2/3\n",
      "442/442 [==============================] - 1s 2ms/step - loss: 0.0220\n",
      "Epoch 3/3\n",
      "442/442 [==============================] - 1s 3ms/step - loss: 0.0148\n",
      "APH\n"
     ]
    },
    {
     "name": "stderr",
     "output_type": "stream",
     "text": [
      "C:\\Users\\AQi\\AppData\\Local\\Continuum\\anaconda\\lib\\site-packages\\ipykernel_launcher.py:7: SettingWithCopyWarning: \n",
      "A value is trying to be set on a copy of a slice from a DataFrame.\n",
      "Try using .loc[row_indexer,col_indexer] = value instead\n",
      "\n",
      "See the caveats in the documentation: http://pandas.pydata.org/pandas-docs/stable/indexing.html#indexing-view-versus-copy\n",
      "  import sys\n",
      "C:\\Users\\AQi\\AppData\\Local\\Continuum\\anaconda\\lib\\site-packages\\ipykernel_launcher.py:8: SettingWithCopyWarning: \n",
      "A value is trying to be set on a copy of a slice from a DataFrame.\n",
      "Try using .loc[row_indexer,col_indexer] = value instead\n",
      "\n",
      "See the caveats in the documentation: http://pandas.pydata.org/pandas-docs/stable/indexing.html#indexing-view-versus-copy\n",
      "  \n"
     ]
    },
    {
     "name": "stdout",
     "output_type": "stream",
     "text": [
      "Epoch 1/3\n",
      "442/442 [==============================] - 14s 33ms/step - loss: 0.0707\n",
      "Epoch 2/3\n",
      "442/442 [==============================] - 1s 2ms/step - loss: 0.0241\n",
      "Epoch 3/3\n",
      "442/442 [==============================] - 1s 3ms/step - loss: 0.0207\n",
      "APC\n"
     ]
    },
    {
     "name": "stderr",
     "output_type": "stream",
     "text": [
      "C:\\Users\\AQi\\AppData\\Local\\Continuum\\anaconda\\lib\\site-packages\\ipykernel_launcher.py:7: SettingWithCopyWarning: \n",
      "A value is trying to be set on a copy of a slice from a DataFrame.\n",
      "Try using .loc[row_indexer,col_indexer] = value instead\n",
      "\n",
      "See the caveats in the documentation: http://pandas.pydata.org/pandas-docs/stable/indexing.html#indexing-view-versus-copy\n",
      "  import sys\n",
      "C:\\Users\\AQi\\AppData\\Local\\Continuum\\anaconda\\lib\\site-packages\\ipykernel_launcher.py:8: SettingWithCopyWarning: \n",
      "A value is trying to be set on a copy of a slice from a DataFrame.\n",
      "Try using .loc[row_indexer,col_indexer] = value instead\n",
      "\n",
      "See the caveats in the documentation: http://pandas.pydata.org/pandas-docs/stable/indexing.html#indexing-view-versus-copy\n",
      "  \n"
     ]
    },
    {
     "name": "stdout",
     "output_type": "stream",
     "text": [
      "Epoch 1/3\n",
      "442/442 [==============================] - 15s 34ms/step - loss: 0.0420\n",
      "Epoch 2/3\n",
      "442/442 [==============================] - 1s 3ms/step - loss: 0.0119\n",
      "Epoch 3/3\n",
      "442/442 [==============================] - 1s 3ms/step - loss: 0.0088\n",
      "ADI\n"
     ]
    },
    {
     "name": "stderr",
     "output_type": "stream",
     "text": [
      "C:\\Users\\AQi\\AppData\\Local\\Continuum\\anaconda\\lib\\site-packages\\ipykernel_launcher.py:7: SettingWithCopyWarning: \n",
      "A value is trying to be set on a copy of a slice from a DataFrame.\n",
      "Try using .loc[row_indexer,col_indexer] = value instead\n",
      "\n",
      "See the caveats in the documentation: http://pandas.pydata.org/pandas-docs/stable/indexing.html#indexing-view-versus-copy\n",
      "  import sys\n",
      "C:\\Users\\AQi\\AppData\\Local\\Continuum\\anaconda\\lib\\site-packages\\ipykernel_launcher.py:8: SettingWithCopyWarning: \n",
      "A value is trying to be set on a copy of a slice from a DataFrame.\n",
      "Try using .loc[row_indexer,col_indexer] = value instead\n",
      "\n",
      "See the caveats in the documentation: http://pandas.pydata.org/pandas-docs/stable/indexing.html#indexing-view-versus-copy\n",
      "  \n"
     ]
    },
    {
     "name": "stdout",
     "output_type": "stream",
     "text": [
      "Epoch 1/3\n",
      "442/442 [==============================] - 16s 37ms/step - loss: 0.1163\n",
      "Epoch 2/3\n",
      "442/442 [==============================] - 1s 3ms/step - loss: 0.0247\n",
      "Epoch 3/3\n",
      "442/442 [==============================] - 1s 3ms/step - loss: 0.0159\n",
      "AON\n"
     ]
    },
    {
     "name": "stderr",
     "output_type": "stream",
     "text": [
      "C:\\Users\\AQi\\AppData\\Local\\Continuum\\anaconda\\lib\\site-packages\\ipykernel_launcher.py:7: SettingWithCopyWarning: \n",
      "A value is trying to be set on a copy of a slice from a DataFrame.\n",
      "Try using .loc[row_indexer,col_indexer] = value instead\n",
      "\n",
      "See the caveats in the documentation: http://pandas.pydata.org/pandas-docs/stable/indexing.html#indexing-view-versus-copy\n",
      "  import sys\n",
      "C:\\Users\\AQi\\AppData\\Local\\Continuum\\anaconda\\lib\\site-packages\\ipykernel_launcher.py:8: SettingWithCopyWarning: \n",
      "A value is trying to be set on a copy of a slice from a DataFrame.\n",
      "Try using .loc[row_indexer,col_indexer] = value instead\n",
      "\n",
      "See the caveats in the documentation: http://pandas.pydata.org/pandas-docs/stable/indexing.html#indexing-view-versus-copy\n",
      "  \n"
     ]
    },
    {
     "name": "stdout",
     "output_type": "stream",
     "text": [
      "Epoch 1/3\n",
      "442/442 [==============================] - 16s 37ms/step - loss: 0.1389\n",
      "Epoch 2/3\n",
      "442/442 [==============================] - 1s 3ms/step - loss: 0.0262\n",
      "Epoch 3/3\n",
      "442/442 [==============================] - 1s 3ms/step - loss: 0.0197\n",
      "APA\n"
     ]
    },
    {
     "name": "stderr",
     "output_type": "stream",
     "text": [
      "C:\\Users\\AQi\\AppData\\Local\\Continuum\\anaconda\\lib\\site-packages\\ipykernel_launcher.py:7: SettingWithCopyWarning: \n",
      "A value is trying to be set on a copy of a slice from a DataFrame.\n",
      "Try using .loc[row_indexer,col_indexer] = value instead\n",
      "\n",
      "See the caveats in the documentation: http://pandas.pydata.org/pandas-docs/stable/indexing.html#indexing-view-versus-copy\n",
      "  import sys\n",
      "C:\\Users\\AQi\\AppData\\Local\\Continuum\\anaconda\\lib\\site-packages\\ipykernel_launcher.py:8: SettingWithCopyWarning: \n",
      "A value is trying to be set on a copy of a slice from a DataFrame.\n",
      "Try using .loc[row_indexer,col_indexer] = value instead\n",
      "\n",
      "See the caveats in the documentation: http://pandas.pydata.org/pandas-docs/stable/indexing.html#indexing-view-versus-copy\n",
      "  \n"
     ]
    },
    {
     "name": "stdout",
     "output_type": "stream",
     "text": [
      "Epoch 1/3\n",
      "442/442 [==============================] - 17s 39ms/step - loss: 0.0815\n",
      "Epoch 2/3\n",
      "442/442 [==============================] - 1s 3ms/step - loss: 0.0222\n",
      "Epoch 3/3\n",
      "442/442 [==============================] - 1s 3ms/step - loss: 0.0164\n",
      "AIV\n"
     ]
    },
    {
     "name": "stderr",
     "output_type": "stream",
     "text": [
      "C:\\Users\\AQi\\AppData\\Local\\Continuum\\anaconda\\lib\\site-packages\\ipykernel_launcher.py:7: SettingWithCopyWarning: \n",
      "A value is trying to be set on a copy of a slice from a DataFrame.\n",
      "Try using .loc[row_indexer,col_indexer] = value instead\n",
      "\n",
      "See the caveats in the documentation: http://pandas.pydata.org/pandas-docs/stable/indexing.html#indexing-view-versus-copy\n",
      "  import sys\n",
      "C:\\Users\\AQi\\AppData\\Local\\Continuum\\anaconda\\lib\\site-packages\\ipykernel_launcher.py:8: SettingWithCopyWarning: \n",
      "A value is trying to be set on a copy of a slice from a DataFrame.\n",
      "Try using .loc[row_indexer,col_indexer] = value instead\n",
      "\n",
      "See the caveats in the documentation: http://pandas.pydata.org/pandas-docs/stable/indexing.html#indexing-view-versus-copy\n",
      "  \n"
     ]
    },
    {
     "name": "stdout",
     "output_type": "stream",
     "text": [
      "Epoch 1/3\n",
      "442/442 [==============================] - 18s 41ms/step - loss: 0.1056\n",
      "Epoch 2/3\n",
      "442/442 [==============================] - 1s 3ms/step - loss: 0.0248\n",
      "Epoch 3/3\n",
      "442/442 [==============================] - 1s 3ms/step - loss: 0.0180\n",
      "AMAT\n"
     ]
    },
    {
     "name": "stderr",
     "output_type": "stream",
     "text": [
      "C:\\Users\\AQi\\AppData\\Local\\Continuum\\anaconda\\lib\\site-packages\\ipykernel_launcher.py:7: SettingWithCopyWarning: \n",
      "A value is trying to be set on a copy of a slice from a DataFrame.\n",
      "Try using .loc[row_indexer,col_indexer] = value instead\n",
      "\n",
      "See the caveats in the documentation: http://pandas.pydata.org/pandas-docs/stable/indexing.html#indexing-view-versus-copy\n",
      "  import sys\n",
      "C:\\Users\\AQi\\AppData\\Local\\Continuum\\anaconda\\lib\\site-packages\\ipykernel_launcher.py:8: SettingWithCopyWarning: \n",
      "A value is trying to be set on a copy of a slice from a DataFrame.\n",
      "Try using .loc[row_indexer,col_indexer] = value instead\n",
      "\n",
      "See the caveats in the documentation: http://pandas.pydata.org/pandas-docs/stable/indexing.html#indexing-view-versus-copy\n",
      "  \n"
     ]
    },
    {
     "name": "stdout",
     "output_type": "stream",
     "text": [
      "Epoch 1/3\n",
      "442/442 [==============================] - 19s 42ms/step - loss: 0.1222\n",
      "Epoch 2/3\n",
      "442/442 [==============================] - 1s 3ms/step - loss: 0.0219\n",
      "Epoch 3/3\n",
      "442/442 [==============================] - 1s 3ms/step - loss: 0.0132\n",
      "ADM\n"
     ]
    },
    {
     "name": "stderr",
     "output_type": "stream",
     "text": [
      "C:\\Users\\AQi\\AppData\\Local\\Continuum\\anaconda\\lib\\site-packages\\ipykernel_launcher.py:7: SettingWithCopyWarning: \n",
      "A value is trying to be set on a copy of a slice from a DataFrame.\n",
      "Try using .loc[row_indexer,col_indexer] = value instead\n",
      "\n",
      "See the caveats in the documentation: http://pandas.pydata.org/pandas-docs/stable/indexing.html#indexing-view-versus-copy\n",
      "  import sys\n",
      "C:\\Users\\AQi\\AppData\\Local\\Continuum\\anaconda\\lib\\site-packages\\ipykernel_launcher.py:8: SettingWithCopyWarning: \n",
      "A value is trying to be set on a copy of a slice from a DataFrame.\n",
      "Try using .loc[row_indexer,col_indexer] = value instead\n",
      "\n",
      "See the caveats in the documentation: http://pandas.pydata.org/pandas-docs/stable/indexing.html#indexing-view-versus-copy\n",
      "  \n"
     ]
    },
    {
     "name": "stdout",
     "output_type": "stream",
     "text": [
      "Epoch 1/3\n",
      "442/442 [==============================] - 20s 45ms/step - loss: 0.0939\n",
      "Epoch 2/3\n",
      "442/442 [==============================] - 1s 3ms/step - loss: 0.0193\n",
      "Epoch 3/3\n",
      "442/442 [==============================] - 1s 3ms/step - loss: 0.0114\n",
      "AIZ\n"
     ]
    },
    {
     "name": "stderr",
     "output_type": "stream",
     "text": [
      "C:\\Users\\AQi\\AppData\\Local\\Continuum\\anaconda\\lib\\site-packages\\ipykernel_launcher.py:7: SettingWithCopyWarning: \n",
      "A value is trying to be set on a copy of a slice from a DataFrame.\n",
      "Try using .loc[row_indexer,col_indexer] = value instead\n",
      "\n",
      "See the caveats in the documentation: http://pandas.pydata.org/pandas-docs/stable/indexing.html#indexing-view-versus-copy\n",
      "  import sys\n",
      "C:\\Users\\AQi\\AppData\\Local\\Continuum\\anaconda\\lib\\site-packages\\ipykernel_launcher.py:8: SettingWithCopyWarning: \n",
      "A value is trying to be set on a copy of a slice from a DataFrame.\n",
      "Try using .loc[row_indexer,col_indexer] = value instead\n",
      "\n",
      "See the caveats in the documentation: http://pandas.pydata.org/pandas-docs/stable/indexing.html#indexing-view-versus-copy\n",
      "  \n"
     ]
    },
    {
     "name": "stdout",
     "output_type": "stream",
     "text": [
      "Epoch 1/3\n",
      "442/442 [==============================] - 21s 47ms/step - loss: 0.1032\n",
      "Epoch 2/3\n",
      "442/442 [==============================] - 1s 3ms/step - loss: 0.0215\n",
      "Epoch 3/3\n",
      "442/442 [==============================] - 1s 3ms/step - loss: 0.0124\n",
      "T\n"
     ]
    },
    {
     "name": "stderr",
     "output_type": "stream",
     "text": [
      "C:\\Users\\AQi\\AppData\\Local\\Continuum\\anaconda\\lib\\site-packages\\ipykernel_launcher.py:7: SettingWithCopyWarning: \n",
      "A value is trying to be set on a copy of a slice from a DataFrame.\n",
      "Try using .loc[row_indexer,col_indexer] = value instead\n",
      "\n",
      "See the caveats in the documentation: http://pandas.pydata.org/pandas-docs/stable/indexing.html#indexing-view-versus-copy\n",
      "  import sys\n",
      "C:\\Users\\AQi\\AppData\\Local\\Continuum\\anaconda\\lib\\site-packages\\ipykernel_launcher.py:8: SettingWithCopyWarning: \n",
      "A value is trying to be set on a copy of a slice from a DataFrame.\n",
      "Try using .loc[row_indexer,col_indexer] = value instead\n",
      "\n",
      "See the caveats in the documentation: http://pandas.pydata.org/pandas-docs/stable/indexing.html#indexing-view-versus-copy\n",
      "  \n"
     ]
    },
    {
     "name": "stdout",
     "output_type": "stream",
     "text": [
      "Epoch 1/3\n",
      "442/442 [==============================] - 22s 49ms/step - loss: 0.0893\n",
      "Epoch 2/3\n",
      "442/442 [==============================] - 1s 3ms/step - loss: 0.0167\n",
      "Epoch 3/3\n",
      "442/442 [==============================] - 2s 3ms/step - loss: 0.0133\n",
      "ADSK\n"
     ]
    },
    {
     "name": "stderr",
     "output_type": "stream",
     "text": [
      "C:\\Users\\AQi\\AppData\\Local\\Continuum\\anaconda\\lib\\site-packages\\ipykernel_launcher.py:7: SettingWithCopyWarning: \n",
      "A value is trying to be set on a copy of a slice from a DataFrame.\n",
      "Try using .loc[row_indexer,col_indexer] = value instead\n",
      "\n",
      "See the caveats in the documentation: http://pandas.pydata.org/pandas-docs/stable/indexing.html#indexing-view-versus-copy\n",
      "  import sys\n",
      "C:\\Users\\AQi\\AppData\\Local\\Continuum\\anaconda\\lib\\site-packages\\ipykernel_launcher.py:8: SettingWithCopyWarning: \n",
      "A value is trying to be set on a copy of a slice from a DataFrame.\n",
      "Try using .loc[row_indexer,col_indexer] = value instead\n",
      "\n",
      "See the caveats in the documentation: http://pandas.pydata.org/pandas-docs/stable/indexing.html#indexing-view-versus-copy\n",
      "  \n"
     ]
    },
    {
     "name": "stdout",
     "output_type": "stream",
     "text": [
      "Epoch 1/3\n",
      "442/442 [==============================] - 24s 53ms/step - loss: 0.1061\n",
      "Epoch 2/3\n",
      "442/442 [==============================] - 1s 3ms/step - loss: 0.0153\n",
      "Epoch 3/3\n",
      "442/442 [==============================] - 1s 3ms/step - loss: 0.0088\n",
      "ADP\n"
     ]
    },
    {
     "name": "stderr",
     "output_type": "stream",
     "text": [
      "C:\\Users\\AQi\\AppData\\Local\\Continuum\\anaconda\\lib\\site-packages\\ipykernel_launcher.py:7: SettingWithCopyWarning: \n",
      "A value is trying to be set on a copy of a slice from a DataFrame.\n",
      "Try using .loc[row_indexer,col_indexer] = value instead\n",
      "\n",
      "See the caveats in the documentation: http://pandas.pydata.org/pandas-docs/stable/indexing.html#indexing-view-versus-copy\n",
      "  import sys\n",
      "C:\\Users\\AQi\\AppData\\Local\\Continuum\\anaconda\\lib\\site-packages\\ipykernel_launcher.py:8: SettingWithCopyWarning: \n",
      "A value is trying to be set on a copy of a slice from a DataFrame.\n",
      "Try using .loc[row_indexer,col_indexer] = value instead\n",
      "\n",
      "See the caveats in the documentation: http://pandas.pydata.org/pandas-docs/stable/indexing.html#indexing-view-versus-copy\n",
      "  \n"
     ]
    },
    {
     "name": "stdout",
     "output_type": "stream",
     "text": [
      "Epoch 1/3\n",
      "442/442 [==============================] - 23s 52ms/step - loss: 0.0613\n",
      "Epoch 2/3\n",
      "442/442 [==============================] - 1s 3ms/step - loss: 0.0120\n",
      "Epoch 3/3\n",
      "442/442 [==============================] - 2s 3ms/step - loss: 0.0090\n",
      "AN\n"
     ]
    },
    {
     "name": "stderr",
     "output_type": "stream",
     "text": [
      "C:\\Users\\AQi\\AppData\\Local\\Continuum\\anaconda\\lib\\site-packages\\ipykernel_launcher.py:7: SettingWithCopyWarning: \n",
      "A value is trying to be set on a copy of a slice from a DataFrame.\n",
      "Try using .loc[row_indexer,col_indexer] = value instead\n",
      "\n",
      "See the caveats in the documentation: http://pandas.pydata.org/pandas-docs/stable/indexing.html#indexing-view-versus-copy\n",
      "  import sys\n",
      "C:\\Users\\AQi\\AppData\\Local\\Continuum\\anaconda\\lib\\site-packages\\ipykernel_launcher.py:8: SettingWithCopyWarning: \n",
      "A value is trying to be set on a copy of a slice from a DataFrame.\n",
      "Try using .loc[row_indexer,col_indexer] = value instead\n",
      "\n",
      "See the caveats in the documentation: http://pandas.pydata.org/pandas-docs/stable/indexing.html#indexing-view-versus-copy\n",
      "  \n"
     ]
    },
    {
     "name": "stdout",
     "output_type": "stream",
     "text": [
      "Epoch 1/3\n",
      "442/442 [==============================] - 24s 55ms/step - loss: 0.0602\n",
      "Epoch 2/3\n",
      "442/442 [==============================] - 1s 3ms/step - loss: 0.0112\n",
      "Epoch 3/3\n",
      "442/442 [==============================] - 1s 3ms/step - loss: 0.0078\n",
      "AZO\n"
     ]
    },
    {
     "name": "stderr",
     "output_type": "stream",
     "text": [
      "C:\\Users\\AQi\\AppData\\Local\\Continuum\\anaconda\\lib\\site-packages\\ipykernel_launcher.py:7: SettingWithCopyWarning: \n",
      "A value is trying to be set on a copy of a slice from a DataFrame.\n",
      "Try using .loc[row_indexer,col_indexer] = value instead\n",
      "\n",
      "See the caveats in the documentation: http://pandas.pydata.org/pandas-docs/stable/indexing.html#indexing-view-versus-copy\n",
      "  import sys\n",
      "C:\\Users\\AQi\\AppData\\Local\\Continuum\\anaconda\\lib\\site-packages\\ipykernel_launcher.py:8: SettingWithCopyWarning: \n",
      "A value is trying to be set on a copy of a slice from a DataFrame.\n",
      "Try using .loc[row_indexer,col_indexer] = value instead\n",
      "\n",
      "See the caveats in the documentation: http://pandas.pydata.org/pandas-docs/stable/indexing.html#indexing-view-versus-copy\n",
      "  \n"
     ]
    },
    {
     "name": "stdout",
     "output_type": "stream",
     "text": [
      "Epoch 1/3\n",
      "442/442 [==============================] - 25s 58ms/step - loss: 0.2009\n",
      "Epoch 2/3\n",
      "442/442 [==============================] - 2s 4ms/step - loss: 0.0273\n",
      "Epoch 3/3\n",
      "442/442 [==============================] - 1s 3ms/step - loss: 0.0167\n",
      "AVGO\n"
     ]
    },
    {
     "name": "stderr",
     "output_type": "stream",
     "text": [
      "C:\\Users\\AQi\\AppData\\Local\\Continuum\\anaconda\\lib\\site-packages\\ipykernel_launcher.py:7: SettingWithCopyWarning: \n",
      "A value is trying to be set on a copy of a slice from a DataFrame.\n",
      "Try using .loc[row_indexer,col_indexer] = value instead\n",
      "\n",
      "See the caveats in the documentation: http://pandas.pydata.org/pandas-docs/stable/indexing.html#indexing-view-versus-copy\n",
      "  import sys\n",
      "C:\\Users\\AQi\\AppData\\Local\\Continuum\\anaconda\\lib\\site-packages\\ipykernel_launcher.py:8: SettingWithCopyWarning: \n",
      "A value is trying to be set on a copy of a slice from a DataFrame.\n",
      "Try using .loc[row_indexer,col_indexer] = value instead\n",
      "\n",
      "See the caveats in the documentation: http://pandas.pydata.org/pandas-docs/stable/indexing.html#indexing-view-versus-copy\n",
      "  \n"
     ]
    },
    {
     "name": "stdout",
     "output_type": "stream",
     "text": [
      "Epoch 1/3\n",
      "442/442 [==============================] - 26s 60ms/step - loss: 0.0438\n",
      "Epoch 2/3\n",
      "442/442 [==============================] - 2s 4ms/step - loss: 0.0147\n",
      "Epoch 3/3\n",
      "442/442 [==============================] - 2s 4ms/step - loss: 0.0127\n",
      "AVB\n"
     ]
    },
    {
     "name": "stderr",
     "output_type": "stream",
     "text": [
      "C:\\Users\\AQi\\AppData\\Local\\Continuum\\anaconda\\lib\\site-packages\\ipykernel_launcher.py:7: SettingWithCopyWarning: \n",
      "A value is trying to be set on a copy of a slice from a DataFrame.\n",
      "Try using .loc[row_indexer,col_indexer] = value instead\n",
      "\n",
      "See the caveats in the documentation: http://pandas.pydata.org/pandas-docs/stable/indexing.html#indexing-view-versus-copy\n",
      "  import sys\n",
      "C:\\Users\\AQi\\AppData\\Local\\Continuum\\anaconda\\lib\\site-packages\\ipykernel_launcher.py:8: SettingWithCopyWarning: \n",
      "A value is trying to be set on a copy of a slice from a DataFrame.\n",
      "Try using .loc[row_indexer,col_indexer] = value instead\n",
      "\n",
      "See the caveats in the documentation: http://pandas.pydata.org/pandas-docs/stable/indexing.html#indexing-view-versus-copy\n",
      "  \n"
     ]
    },
    {
     "name": "stdout",
     "output_type": "stream",
     "text": [
      "Epoch 1/3\n",
      "442/442 [==============================] - 27s 62ms/step - loss: 0.0910\n",
      "Epoch 2/3\n",
      "442/442 [==============================] - 2s 4ms/step - loss: 0.0297\n",
      "Epoch 3/3\n",
      "442/442 [==============================] - 2s 4ms/step - loss: 0.0244\n",
      "AVY\n"
     ]
    },
    {
     "name": "stderr",
     "output_type": "stream",
     "text": [
      "C:\\Users\\AQi\\AppData\\Local\\Continuum\\anaconda\\lib\\site-packages\\ipykernel_launcher.py:7: SettingWithCopyWarning: \n",
      "A value is trying to be set on a copy of a slice from a DataFrame.\n",
      "Try using .loc[row_indexer,col_indexer] = value instead\n",
      "\n",
      "See the caveats in the documentation: http://pandas.pydata.org/pandas-docs/stable/indexing.html#indexing-view-versus-copy\n",
      "  import sys\n",
      "C:\\Users\\AQi\\AppData\\Local\\Continuum\\anaconda\\lib\\site-packages\\ipykernel_launcher.py:8: SettingWithCopyWarning: \n",
      "A value is trying to be set on a copy of a slice from a DataFrame.\n",
      "Try using .loc[row_indexer,col_indexer] = value instead\n",
      "\n",
      "See the caveats in the documentation: http://pandas.pydata.org/pandas-docs/stable/indexing.html#indexing-view-versus-copy\n",
      "  \n"
     ]
    },
    {
     "name": "stdout",
     "output_type": "stream",
     "text": [
      "Epoch 1/3\n",
      "442/442 [==============================] - 28s 64ms/step - loss: 0.0690\n",
      "Epoch 2/3\n",
      "442/442 [==============================] - 2s 4ms/step - loss: 0.0139\n",
      "Epoch 3/3\n",
      "442/442 [==============================] - 2s 4ms/step - loss: 0.0115\n",
      "BHI\n",
      "no data for: BHI\n",
      "BLL\n"
     ]
    },
    {
     "name": "stderr",
     "output_type": "stream",
     "text": [
      "C:\\Users\\AQi\\AppData\\Local\\Continuum\\anaconda\\lib\\site-packages\\ipykernel_launcher.py:7: SettingWithCopyWarning: \n",
      "A value is trying to be set on a copy of a slice from a DataFrame.\n",
      "Try using .loc[row_indexer,col_indexer] = value instead\n",
      "\n",
      "See the caveats in the documentation: http://pandas.pydata.org/pandas-docs/stable/indexing.html#indexing-view-versus-copy\n",
      "  import sys\n",
      "C:\\Users\\AQi\\AppData\\Local\\Continuum\\anaconda\\lib\\site-packages\\ipykernel_launcher.py:8: SettingWithCopyWarning: \n",
      "A value is trying to be set on a copy of a slice from a DataFrame.\n",
      "Try using .loc[row_indexer,col_indexer] = value instead\n",
      "\n",
      "See the caveats in the documentation: http://pandas.pydata.org/pandas-docs/stable/indexing.html#indexing-view-versus-copy\n",
      "  \n"
     ]
    },
    {
     "name": "stdout",
     "output_type": "stream",
     "text": [
      "Epoch 1/3\n",
      "442/442 [==============================] - 30s 67ms/step - loss: 0.0339\n",
      "Epoch 2/3\n",
      "442/442 [==============================] - 2s 4ms/step - loss: 0.0089\n",
      "Epoch 3/3\n",
      "442/442 [==============================] - 1s 3ms/step - loss: 0.0068\n",
      "BAC\n"
     ]
    },
    {
     "name": "stderr",
     "output_type": "stream",
     "text": [
      "C:\\Users\\AQi\\AppData\\Local\\Continuum\\anaconda\\lib\\site-packages\\ipykernel_launcher.py:7: SettingWithCopyWarning: \n",
      "A value is trying to be set on a copy of a slice from a DataFrame.\n",
      "Try using .loc[row_indexer,col_indexer] = value instead\n",
      "\n",
      "See the caveats in the documentation: http://pandas.pydata.org/pandas-docs/stable/indexing.html#indexing-view-versus-copy\n",
      "  import sys\n",
      "C:\\Users\\AQi\\AppData\\Local\\Continuum\\anaconda\\lib\\site-packages\\ipykernel_launcher.py:8: SettingWithCopyWarning: \n",
      "A value is trying to be set on a copy of a slice from a DataFrame.\n",
      "Try using .loc[row_indexer,col_indexer] = value instead\n",
      "\n",
      "See the caveats in the documentation: http://pandas.pydata.org/pandas-docs/stable/indexing.html#indexing-view-versus-copy\n",
      "  \n"
     ]
    },
    {
     "name": "stdout",
     "output_type": "stream",
     "text": [
      "Epoch 1/3\n",
      "442/442 [==============================] - 31s 70ms/step - loss: 0.0987\n",
      "Epoch 2/3\n",
      "442/442 [==============================] - 2s 4ms/step - loss: 0.0257\n",
      "Epoch 3/3\n",
      "442/442 [==============================] - 2s 4ms/step - loss: 0.0202\n",
      "BK\n"
     ]
    },
    {
     "name": "stderr",
     "output_type": "stream",
     "text": [
      "C:\\Users\\AQi\\AppData\\Local\\Continuum\\anaconda\\lib\\site-packages\\ipykernel_launcher.py:7: SettingWithCopyWarning: \n",
      "A value is trying to be set on a copy of a slice from a DataFrame.\n",
      "Try using .loc[row_indexer,col_indexer] = value instead\n",
      "\n",
      "See the caveats in the documentation: http://pandas.pydata.org/pandas-docs/stable/indexing.html#indexing-view-versus-copy\n",
      "  import sys\n",
      "C:\\Users\\AQi\\AppData\\Local\\Continuum\\anaconda\\lib\\site-packages\\ipykernel_launcher.py:8: SettingWithCopyWarning: \n",
      "A value is trying to be set on a copy of a slice from a DataFrame.\n",
      "Try using .loc[row_indexer,col_indexer] = value instead\n",
      "\n",
      "See the caveats in the documentation: http://pandas.pydata.org/pandas-docs/stable/indexing.html#indexing-view-versus-copy\n",
      "  \n"
     ]
    },
    {
     "name": "stdout",
     "output_type": "stream",
     "text": [
      "Epoch 1/3\n",
      "442/442 [==============================] - 32s 72ms/step - loss: 0.1597\n",
      "Epoch 2/3\n",
      "442/442 [==============================] - 2s 4ms/step - loss: 0.0314\n",
      "Epoch 3/3\n",
      "442/442 [==============================] - 2s 4ms/step - loss: 0.0186\n",
      "BCR\n",
      "no data for: BCR\n",
      "BXLT\n",
      "no data for: BXLT\n",
      "BAX\n"
     ]
    },
    {
     "name": "stderr",
     "output_type": "stream",
     "text": [
      "C:\\Users\\AQi\\AppData\\Local\\Continuum\\anaconda\\lib\\site-packages\\ipykernel_launcher.py:7: SettingWithCopyWarning: \n",
      "A value is trying to be set on a copy of a slice from a DataFrame.\n",
      "Try using .loc[row_indexer,col_indexer] = value instead\n",
      "\n",
      "See the caveats in the documentation: http://pandas.pydata.org/pandas-docs/stable/indexing.html#indexing-view-versus-copy\n",
      "  import sys\n",
      "C:\\Users\\AQi\\AppData\\Local\\Continuum\\anaconda\\lib\\site-packages\\ipykernel_launcher.py:8: SettingWithCopyWarning: \n",
      "A value is trying to be set on a copy of a slice from a DataFrame.\n",
      "Try using .loc[row_indexer,col_indexer] = value instead\n",
      "\n",
      "See the caveats in the documentation: http://pandas.pydata.org/pandas-docs/stable/indexing.html#indexing-view-versus-copy\n",
      "  \n"
     ]
    },
    {
     "name": "stdout",
     "output_type": "stream",
     "text": [
      "Epoch 1/3\n",
      "442/442 [==============================] - 34s 77ms/step - loss: 0.0906\n",
      "Epoch 2/3\n",
      "442/442 [==============================] - 2s 4ms/step - loss: 0.0238\n",
      "Epoch 3/3\n",
      "442/442 [==============================] - 2s 4ms/step - loss: 0.0177\n",
      "BBT\n"
     ]
    },
    {
     "name": "stderr",
     "output_type": "stream",
     "text": [
      "C:\\Users\\AQi\\AppData\\Local\\Continuum\\anaconda\\lib\\site-packages\\ipykernel_launcher.py:7: SettingWithCopyWarning: \n",
      "A value is trying to be set on a copy of a slice from a DataFrame.\n",
      "Try using .loc[row_indexer,col_indexer] = value instead\n",
      "\n",
      "See the caveats in the documentation: http://pandas.pydata.org/pandas-docs/stable/indexing.html#indexing-view-versus-copy\n",
      "  import sys\n",
      "C:\\Users\\AQi\\AppData\\Local\\Continuum\\anaconda\\lib\\site-packages\\ipykernel_launcher.py:8: SettingWithCopyWarning: \n",
      "A value is trying to be set on a copy of a slice from a DataFrame.\n",
      "Try using .loc[row_indexer,col_indexer] = value instead\n",
      "\n",
      "See the caveats in the documentation: http://pandas.pydata.org/pandas-docs/stable/indexing.html#indexing-view-versus-copy\n",
      "  \n"
     ]
    },
    {
     "name": "stdout",
     "output_type": "stream",
     "text": [
      "Epoch 1/3\n",
      "442/442 [==============================] - 34s 78ms/step - loss: 0.1123\n",
      "Epoch 2/3\n",
      "442/442 [==============================] - 2s 4ms/step - loss: 0.0308\n",
      "Epoch 3/3\n",
      "442/442 [==============================] - 2s 4ms/step - loss: 0.0205\n",
      "BDX\n"
     ]
    },
    {
     "name": "stderr",
     "output_type": "stream",
     "text": [
      "C:\\Users\\AQi\\AppData\\Local\\Continuum\\anaconda\\lib\\site-packages\\ipykernel_launcher.py:7: SettingWithCopyWarning: \n",
      "A value is trying to be set on a copy of a slice from a DataFrame.\n",
      "Try using .loc[row_indexer,col_indexer] = value instead\n",
      "\n",
      "See the caveats in the documentation: http://pandas.pydata.org/pandas-docs/stable/indexing.html#indexing-view-versus-copy\n",
      "  import sys\n",
      "C:\\Users\\AQi\\AppData\\Local\\Continuum\\anaconda\\lib\\site-packages\\ipykernel_launcher.py:8: SettingWithCopyWarning: \n",
      "A value is trying to be set on a copy of a slice from a DataFrame.\n",
      "Try using .loc[row_indexer,col_indexer] = value instead\n",
      "\n",
      "See the caveats in the documentation: http://pandas.pydata.org/pandas-docs/stable/indexing.html#indexing-view-versus-copy\n",
      "  \n"
     ]
    },
    {
     "name": "stdout",
     "output_type": "stream",
     "text": [
      "Epoch 1/3\n",
      "442/442 [==============================] - 36s 83ms/step - loss: 0.0384\n",
      "Epoch 2/3\n",
      "442/442 [==============================] - 2s 4ms/step - loss: 0.0099\n",
      "Epoch 3/3\n",
      "442/442 [==============================] - 2s 4ms/step - loss: 0.0076\n",
      "BBBY\n"
     ]
    },
    {
     "name": "stderr",
     "output_type": "stream",
     "text": [
      "C:\\Users\\AQi\\AppData\\Local\\Continuum\\anaconda\\lib\\site-packages\\ipykernel_launcher.py:7: SettingWithCopyWarning: \n",
      "A value is trying to be set on a copy of a slice from a DataFrame.\n",
      "Try using .loc[row_indexer,col_indexer] = value instead\n",
      "\n",
      "See the caveats in the documentation: http://pandas.pydata.org/pandas-docs/stable/indexing.html#indexing-view-versus-copy\n",
      "  import sys\n",
      "C:\\Users\\AQi\\AppData\\Local\\Continuum\\anaconda\\lib\\site-packages\\ipykernel_launcher.py:8: SettingWithCopyWarning: \n",
      "A value is trying to be set on a copy of a slice from a DataFrame.\n",
      "Try using .loc[row_indexer,col_indexer] = value instead\n",
      "\n",
      "See the caveats in the documentation: http://pandas.pydata.org/pandas-docs/stable/indexing.html#indexing-view-versus-copy\n",
      "  \n"
     ]
    },
    {
     "name": "stdout",
     "output_type": "stream",
     "text": [
      "Epoch 1/3\n",
      "442/442 [==============================] - 36s 81ms/step - loss: 0.1212\n",
      "Epoch 2/3\n",
      "442/442 [==============================] - 2s 4ms/step - loss: 0.0294\n",
      "Epoch 3/3\n",
      "442/442 [==============================] - 2s 4ms/step - loss: 0.0162\n",
      "BRK-B\n"
     ]
    },
    {
     "name": "stderr",
     "output_type": "stream",
     "text": [
      "C:\\Users\\AQi\\AppData\\Local\\Continuum\\anaconda\\lib\\site-packages\\ipykernel_launcher.py:7: SettingWithCopyWarning: \n",
      "A value is trying to be set on a copy of a slice from a DataFrame.\n",
      "Try using .loc[row_indexer,col_indexer] = value instead\n",
      "\n",
      "See the caveats in the documentation: http://pandas.pydata.org/pandas-docs/stable/indexing.html#indexing-view-versus-copy\n",
      "  import sys\n",
      "C:\\Users\\AQi\\AppData\\Local\\Continuum\\anaconda\\lib\\site-packages\\ipykernel_launcher.py:8: SettingWithCopyWarning: \n",
      "A value is trying to be set on a copy of a slice from a DataFrame.\n",
      "Try using .loc[row_indexer,col_indexer] = value instead\n",
      "\n",
      "See the caveats in the documentation: http://pandas.pydata.org/pandas-docs/stable/indexing.html#indexing-view-versus-copy\n",
      "  \n"
     ]
    },
    {
     "name": "stdout",
     "output_type": "stream",
     "text": [
      "Epoch 1/3\n",
      "442/442 [==============================] - 37s 84ms/step - loss: 0.1168\n",
      "Epoch 2/3\n",
      "442/442 [==============================] - 2s 4ms/step - loss: 0.0225\n",
      "Epoch 3/3\n",
      "442/442 [==============================] - 2s 4ms/step - loss: 0.0174\n",
      "BBY\n"
     ]
    },
    {
     "name": "stderr",
     "output_type": "stream",
     "text": [
      "C:\\Users\\AQi\\AppData\\Local\\Continuum\\anaconda\\lib\\site-packages\\ipykernel_launcher.py:7: SettingWithCopyWarning: \n",
      "A value is trying to be set on a copy of a slice from a DataFrame.\n",
      "Try using .loc[row_indexer,col_indexer] = value instead\n",
      "\n",
      "See the caveats in the documentation: http://pandas.pydata.org/pandas-docs/stable/indexing.html#indexing-view-versus-copy\n",
      "  import sys\n",
      "C:\\Users\\AQi\\AppData\\Local\\Continuum\\anaconda\\lib\\site-packages\\ipykernel_launcher.py:8: SettingWithCopyWarning: \n",
      "A value is trying to be set on a copy of a slice from a DataFrame.\n",
      "Try using .loc[row_indexer,col_indexer] = value instead\n",
      "\n",
      "See the caveats in the documentation: http://pandas.pydata.org/pandas-docs/stable/indexing.html#indexing-view-versus-copy\n",
      "  \n"
     ]
    },
    {
     "name": "stdout",
     "output_type": "stream",
     "text": [
      "Epoch 1/3\n",
      "442/442 [==============================] - 42s 95ms/step - loss: 0.0550\n",
      "Epoch 2/3\n",
      "442/442 [==============================] - 2s 5ms/step - loss: 0.0122\n",
      "Epoch 3/3\n",
      "442/442 [==============================] - 2s 5ms/step - loss: 0.0056\n",
      "BLX\n"
     ]
    },
    {
     "name": "stderr",
     "output_type": "stream",
     "text": [
      "C:\\Users\\AQi\\AppData\\Local\\Continuum\\anaconda\\lib\\site-packages\\ipykernel_launcher.py:7: SettingWithCopyWarning: \n",
      "A value is trying to be set on a copy of a slice from a DataFrame.\n",
      "Try using .loc[row_indexer,col_indexer] = value instead\n",
      "\n",
      "See the caveats in the documentation: http://pandas.pydata.org/pandas-docs/stable/indexing.html#indexing-view-versus-copy\n",
      "  import sys\n",
      "C:\\Users\\AQi\\AppData\\Local\\Continuum\\anaconda\\lib\\site-packages\\ipykernel_launcher.py:8: SettingWithCopyWarning: \n",
      "A value is trying to be set on a copy of a slice from a DataFrame.\n",
      "Try using .loc[row_indexer,col_indexer] = value instead\n",
      "\n",
      "See the caveats in the documentation: http://pandas.pydata.org/pandas-docs/stable/indexing.html#indexing-view-versus-copy\n",
      "  \n"
     ]
    },
    {
     "name": "stdout",
     "output_type": "stream",
     "text": [
      "Epoch 1/3\n",
      "442/442 [==============================] - 44s 100ms/step - loss: 0.1626\n",
      "Epoch 2/3\n",
      "442/442 [==============================] - 2s 5ms/step - loss: 0.0284\n",
      "Epoch 3/3\n",
      "442/442 [==============================] - 2s 5ms/step - loss: 0.0168\n",
      "HRB\n"
     ]
    },
    {
     "name": "stderr",
     "output_type": "stream",
     "text": [
      "C:\\Users\\AQi\\AppData\\Local\\Continuum\\anaconda\\lib\\site-packages\\ipykernel_launcher.py:7: SettingWithCopyWarning: \n",
      "A value is trying to be set on a copy of a slice from a DataFrame.\n",
      "Try using .loc[row_indexer,col_indexer] = value instead\n",
      "\n",
      "See the caveats in the documentation: http://pandas.pydata.org/pandas-docs/stable/indexing.html#indexing-view-versus-copy\n",
      "  import sys\n",
      "C:\\Users\\AQi\\AppData\\Local\\Continuum\\anaconda\\lib\\site-packages\\ipykernel_launcher.py:8: SettingWithCopyWarning: \n",
      "A value is trying to be set on a copy of a slice from a DataFrame.\n",
      "Try using .loc[row_indexer,col_indexer] = value instead\n",
      "\n",
      "See the caveats in the documentation: http://pandas.pydata.org/pandas-docs/stable/indexing.html#indexing-view-versus-copy\n",
      "  \n"
     ]
    },
    {
     "name": "stdout",
     "output_type": "stream",
     "text": [
      "Epoch 1/3\n",
      "442/442 [==============================] - 46s 103ms/step - loss: 0.1239\n",
      "Epoch 2/3\n",
      "442/442 [==============================] - 2s 6ms/step - loss: 0.0205\n",
      "Epoch 3/3\n",
      "442/442 [==============================] - 2s 6ms/step - loss: 0.0097\n",
      "BA\n"
     ]
    },
    {
     "name": "stderr",
     "output_type": "stream",
     "text": [
      "C:\\Users\\AQi\\AppData\\Local\\Continuum\\anaconda\\lib\\site-packages\\ipykernel_launcher.py:7: SettingWithCopyWarning: \n",
      "A value is trying to be set on a copy of a slice from a DataFrame.\n",
      "Try using .loc[row_indexer,col_indexer] = value instead\n",
      "\n",
      "See the caveats in the documentation: http://pandas.pydata.org/pandas-docs/stable/indexing.html#indexing-view-versus-copy\n",
      "  import sys\n",
      "C:\\Users\\AQi\\AppData\\Local\\Continuum\\anaconda\\lib\\site-packages\\ipykernel_launcher.py:8: SettingWithCopyWarning: \n",
      "A value is trying to be set on a copy of a slice from a DataFrame.\n",
      "Try using .loc[row_indexer,col_indexer] = value instead\n",
      "\n",
      "See the caveats in the documentation: http://pandas.pydata.org/pandas-docs/stable/indexing.html#indexing-view-versus-copy\n",
      "  \n"
     ]
    },
    {
     "name": "stdout",
     "output_type": "stream",
     "text": [
      "Epoch 1/3\n",
      "442/442 [==============================] - 46s 104ms/step - loss: 0.0377\n",
      "Epoch 2/3\n",
      "442/442 [==============================] - 2s 5ms/step - loss: 0.0088\n",
      "Epoch 3/3\n",
      "442/442 [==============================] - 2s 5ms/step - loss: 0.0057\n",
      "BWA\n"
     ]
    },
    {
     "name": "stderr",
     "output_type": "stream",
     "text": [
      "C:\\Users\\AQi\\AppData\\Local\\Continuum\\anaconda\\lib\\site-packages\\ipykernel_launcher.py:7: SettingWithCopyWarning: \n",
      "A value is trying to be set on a copy of a slice from a DataFrame.\n",
      "Try using .loc[row_indexer,col_indexer] = value instead\n",
      "\n",
      "See the caveats in the documentation: http://pandas.pydata.org/pandas-docs/stable/indexing.html#indexing-view-versus-copy\n",
      "  import sys\n",
      "C:\\Users\\AQi\\AppData\\Local\\Continuum\\anaconda\\lib\\site-packages\\ipykernel_launcher.py:8: SettingWithCopyWarning: \n",
      "A value is trying to be set on a copy of a slice from a DataFrame.\n",
      "Try using .loc[row_indexer,col_indexer] = value instead\n",
      "\n",
      "See the caveats in the documentation: http://pandas.pydata.org/pandas-docs/stable/indexing.html#indexing-view-versus-copy\n",
      "  \n"
     ]
    },
    {
     "name": "stdout",
     "output_type": "stream",
     "text": [
      "Epoch 1/3\n",
      "442/442 [==============================] - 47s 107ms/step - loss: 0.1087\n",
      "Epoch 2/3\n",
      "442/442 [==============================] - 2s 5ms/step - loss: 0.0259\n",
      "Epoch 3/3\n",
      "442/442 [==============================] - 2s 5ms/step - loss: 0.0193\n",
      "BXP\n"
     ]
    },
    {
     "name": "stderr",
     "output_type": "stream",
     "text": [
      "C:\\Users\\AQi\\AppData\\Local\\Continuum\\anaconda\\lib\\site-packages\\ipykernel_launcher.py:7: SettingWithCopyWarning: \n",
      "A value is trying to be set on a copy of a slice from a DataFrame.\n",
      "Try using .loc[row_indexer,col_indexer] = value instead\n",
      "\n",
      "See the caveats in the documentation: http://pandas.pydata.org/pandas-docs/stable/indexing.html#indexing-view-versus-copy\n",
      "  import sys\n",
      "C:\\Users\\AQi\\AppData\\Local\\Continuum\\anaconda\\lib\\site-packages\\ipykernel_launcher.py:8: SettingWithCopyWarning: \n",
      "A value is trying to be set on a copy of a slice from a DataFrame.\n",
      "Try using .loc[row_indexer,col_indexer] = value instead\n",
      "\n",
      "See the caveats in the documentation: http://pandas.pydata.org/pandas-docs/stable/indexing.html#indexing-view-versus-copy\n",
      "  \n"
     ]
    },
    {
     "name": "stdout",
     "output_type": "stream",
     "text": [
      "Epoch 1/3\n",
      "442/442 [==============================] - 50s 112ms/step - loss: 0.0989\n",
      "Epoch 2/3\n",
      "442/442 [==============================] - 2s 5ms/step - loss: 0.0236\n",
      "Epoch 3/3\n",
      "442/442 [==============================] - 2s 5ms/step - loss: 0.0173\n",
      "BSK\n",
      "no data for: BSK\n",
      "BMY\n"
     ]
    },
    {
     "name": "stderr",
     "output_type": "stream",
     "text": [
      "C:\\Users\\AQi\\AppData\\Local\\Continuum\\anaconda\\lib\\site-packages\\ipykernel_launcher.py:7: SettingWithCopyWarning: \n",
      "A value is trying to be set on a copy of a slice from a DataFrame.\n",
      "Try using .loc[row_indexer,col_indexer] = value instead\n",
      "\n",
      "See the caveats in the documentation: http://pandas.pydata.org/pandas-docs/stable/indexing.html#indexing-view-versus-copy\n",
      "  import sys\n",
      "C:\\Users\\AQi\\AppData\\Local\\Continuum\\anaconda\\lib\\site-packages\\ipykernel_launcher.py:8: SettingWithCopyWarning: \n",
      "A value is trying to be set on a copy of a slice from a DataFrame.\n",
      "Try using .loc[row_indexer,col_indexer] = value instead\n",
      "\n",
      "See the caveats in the documentation: http://pandas.pydata.org/pandas-docs/stable/indexing.html#indexing-view-versus-copy\n",
      "  \n"
     ]
    },
    {
     "name": "stdout",
     "output_type": "stream",
     "text": [
      "Epoch 1/3\n",
      "442/442 [==============================] - 51s 116ms/step - loss: 0.1803\n",
      "Epoch 2/3\n",
      "442/442 [==============================] - 3s 6ms/step - loss: 0.0329\n",
      "Epoch 3/3\n",
      "442/442 [==============================] - 3s 6ms/step - loss: 0.0145\n",
      "BRCM\n",
      "no data for: BRCM\n",
      "BF-B\n"
     ]
    },
    {
     "name": "stderr",
     "output_type": "stream",
     "text": [
      "C:\\Users\\AQi\\AppData\\Local\\Continuum\\anaconda\\lib\\site-packages\\ipykernel_launcher.py:7: SettingWithCopyWarning: \n",
      "A value is trying to be set on a copy of a slice from a DataFrame.\n",
      "Try using .loc[row_indexer,col_indexer] = value instead\n",
      "\n",
      "See the caveats in the documentation: http://pandas.pydata.org/pandas-docs/stable/indexing.html#indexing-view-versus-copy\n",
      "  import sys\n",
      "C:\\Users\\AQi\\AppData\\Local\\Continuum\\anaconda\\lib\\site-packages\\ipykernel_launcher.py:8: SettingWithCopyWarning: \n",
      "A value is trying to be set on a copy of a slice from a DataFrame.\n",
      "Try using .loc[row_indexer,col_indexer] = value instead\n",
      "\n",
      "See the caveats in the documentation: http://pandas.pydata.org/pandas-docs/stable/indexing.html#indexing-view-versus-copy\n",
      "  \n"
     ]
    },
    {
     "name": "stdout",
     "output_type": "stream",
     "text": [
      "Epoch 1/3\n",
      "442/442 [==============================] - 55s 124ms/step - loss: 0.0628\n",
      "Epoch 2/3\n",
      "442/442 [==============================] - 3s 6ms/step - loss: 0.0143\n",
      "Epoch 3/3\n",
      "442/442 [==============================] - 2s 5ms/step - loss: 0.0117\n",
      "CHRW\n"
     ]
    },
    {
     "name": "stderr",
     "output_type": "stream",
     "text": [
      "C:\\Users\\AQi\\AppData\\Local\\Continuum\\anaconda\\lib\\site-packages\\ipykernel_launcher.py:7: SettingWithCopyWarning: \n",
      "A value is trying to be set on a copy of a slice from a DataFrame.\n",
      "Try using .loc[row_indexer,col_indexer] = value instead\n",
      "\n",
      "See the caveats in the documentation: http://pandas.pydata.org/pandas-docs/stable/indexing.html#indexing-view-versus-copy\n",
      "  import sys\n",
      "C:\\Users\\AQi\\AppData\\Local\\Continuum\\anaconda\\lib\\site-packages\\ipykernel_launcher.py:8: SettingWithCopyWarning: \n",
      "A value is trying to be set on a copy of a slice from a DataFrame.\n",
      "Try using .loc[row_indexer,col_indexer] = value instead\n",
      "\n",
      "See the caveats in the documentation: http://pandas.pydata.org/pandas-docs/stable/indexing.html#indexing-view-versus-copy\n",
      "  \n"
     ]
    },
    {
     "name": "stdout",
     "output_type": "stream",
     "text": [
      "Epoch 1/3\n",
      "442/442 [==============================] - 54s 122ms/step - loss: 0.1572\n",
      "Epoch 2/3\n",
      "442/442 [==============================] - 2s 6ms/step - loss: 0.0267\n",
      "Epoch 3/3\n",
      "442/442 [==============================] - 3s 6ms/step - loss: 0.0168\n",
      "CA\n",
      "no data for: CA\n",
      "CVC\n",
      "no data for: CVC\n",
      "COG\n"
     ]
    },
    {
     "name": "stderr",
     "output_type": "stream",
     "text": [
      "C:\\Users\\AQi\\AppData\\Local\\Continuum\\anaconda\\lib\\site-packages\\ipykernel_launcher.py:7: SettingWithCopyWarning: \n",
      "A value is trying to be set on a copy of a slice from a DataFrame.\n",
      "Try using .loc[row_indexer,col_indexer] = value instead\n",
      "\n",
      "See the caveats in the documentation: http://pandas.pydata.org/pandas-docs/stable/indexing.html#indexing-view-versus-copy\n",
      "  import sys\n",
      "C:\\Users\\AQi\\AppData\\Local\\Continuum\\anaconda\\lib\\site-packages\\ipykernel_launcher.py:8: SettingWithCopyWarning: \n",
      "A value is trying to be set on a copy of a slice from a DataFrame.\n",
      "Try using .loc[row_indexer,col_indexer] = value instead\n",
      "\n",
      "See the caveats in the documentation: http://pandas.pydata.org/pandas-docs/stable/indexing.html#indexing-view-versus-copy\n",
      "  \n"
     ]
    },
    {
     "name": "stdout",
     "output_type": "stream",
     "text": [
      "Epoch 1/3\n",
      "442/442 [==============================] - 55s 124ms/step - loss: 0.0824\n",
      "Epoch 2/3\n",
      "442/442 [==============================] - 3s 6ms/step - loss: 0.0182\n",
      "Epoch 3/3\n",
      "442/442 [==============================] - 3s 6ms/step - loss: 0.0148\n",
      "CAM\n",
      "no data for: CAM\n",
      "CPB\n"
     ]
    },
    {
     "name": "stderr",
     "output_type": "stream",
     "text": [
      "C:\\Users\\AQi\\AppData\\Local\\Continuum\\anaconda\\lib\\site-packages\\ipykernel_launcher.py:7: SettingWithCopyWarning: \n",
      "A value is trying to be set on a copy of a slice from a DataFrame.\n",
      "Try using .loc[row_indexer,col_indexer] = value instead\n",
      "\n",
      "See the caveats in the documentation: http://pandas.pydata.org/pandas-docs/stable/indexing.html#indexing-view-versus-copy\n",
      "  import sys\n",
      "C:\\Users\\AQi\\AppData\\Local\\Continuum\\anaconda\\lib\\site-packages\\ipykernel_launcher.py:8: SettingWithCopyWarning: \n",
      "A value is trying to be set on a copy of a slice from a DataFrame.\n",
      "Try using .loc[row_indexer,col_indexer] = value instead\n",
      "\n",
      "See the caveats in the documentation: http://pandas.pydata.org/pandas-docs/stable/indexing.html#indexing-view-versus-copy\n",
      "  \n"
     ]
    },
    {
     "name": "stdout",
     "output_type": "stream",
     "text": [
      "Epoch 1/3\n",
      "442/442 [==============================] - 57s 130ms/step - loss: 0.1283\n",
      "Epoch 2/3\n",
      "442/442 [==============================] - 3s 6ms/step - loss: 0.0210\n",
      "Epoch 3/3\n",
      "442/442 [==============================] - 3s 6ms/step - loss: 0.0131\n",
      "COF\n"
     ]
    },
    {
     "name": "stderr",
     "output_type": "stream",
     "text": [
      "C:\\Users\\AQi\\AppData\\Local\\Continuum\\anaconda\\lib\\site-packages\\ipykernel_launcher.py:7: SettingWithCopyWarning: \n",
      "A value is trying to be set on a copy of a slice from a DataFrame.\n",
      "Try using .loc[row_indexer,col_indexer] = value instead\n",
      "\n",
      "See the caveats in the documentation: http://pandas.pydata.org/pandas-docs/stable/indexing.html#indexing-view-versus-copy\n",
      "  import sys\n",
      "C:\\Users\\AQi\\AppData\\Local\\Continuum\\anaconda\\lib\\site-packages\\ipykernel_launcher.py:8: SettingWithCopyWarning: \n",
      "A value is trying to be set on a copy of a slice from a DataFrame.\n",
      "Try using .loc[row_indexer,col_indexer] = value instead\n",
      "\n",
      "See the caveats in the documentation: http://pandas.pydata.org/pandas-docs/stable/indexing.html#indexing-view-versus-copy\n",
      "  \n"
     ]
    },
    {
     "name": "stdout",
     "output_type": "stream",
     "text": [
      "Epoch 1/3\n",
      "442/442 [==============================] - 61s 138ms/step - loss: 0.0554\n",
      "Epoch 2/3\n",
      "442/442 [==============================] - 3s 7ms/step - loss: 0.0192\n",
      "Epoch 3/3\n",
      "442/442 [==============================] - 3s 7ms/step - loss: 0.0120\n",
      "CAH\n"
     ]
    },
    {
     "name": "stderr",
     "output_type": "stream",
     "text": [
      "C:\\Users\\AQi\\AppData\\Local\\Continuum\\anaconda\\lib\\site-packages\\ipykernel_launcher.py:7: SettingWithCopyWarning: \n",
      "A value is trying to be set on a copy of a slice from a DataFrame.\n",
      "Try using .loc[row_indexer,col_indexer] = value instead\n",
      "\n",
      "See the caveats in the documentation: http://pandas.pydata.org/pandas-docs/stable/indexing.html#indexing-view-versus-copy\n",
      "  import sys\n",
      "C:\\Users\\AQi\\AppData\\Local\\Continuum\\anaconda\\lib\\site-packages\\ipykernel_launcher.py:8: SettingWithCopyWarning: \n",
      "A value is trying to be set on a copy of a slice from a DataFrame.\n",
      "Try using .loc[row_indexer,col_indexer] = value instead\n",
      "\n",
      "See the caveats in the documentation: http://pandas.pydata.org/pandas-docs/stable/indexing.html#indexing-view-versus-copy\n",
      "  \n"
     ]
    },
    {
     "name": "stdout",
     "output_type": "stream",
     "text": [
      "Epoch 1/3\n",
      "442/442 [==============================] - 61s 139ms/step - loss: 0.1375\n",
      "Epoch 2/3\n",
      "442/442 [==============================] - 3s 7ms/step - loss: 0.0240\n",
      "Epoch 3/3\n",
      "442/442 [==============================] - 3s 7ms/step - loss: 0.0142\n",
      "HSIC\n"
     ]
    },
    {
     "name": "stderr",
     "output_type": "stream",
     "text": [
      "C:\\Users\\AQi\\AppData\\Local\\Continuum\\anaconda\\lib\\site-packages\\ipykernel_launcher.py:7: SettingWithCopyWarning: \n",
      "A value is trying to be set on a copy of a slice from a DataFrame.\n",
      "Try using .loc[row_indexer,col_indexer] = value instead\n",
      "\n",
      "See the caveats in the documentation: http://pandas.pydata.org/pandas-docs/stable/indexing.html#indexing-view-versus-copy\n",
      "  import sys\n",
      "C:\\Users\\AQi\\AppData\\Local\\Continuum\\anaconda\\lib\\site-packages\\ipykernel_launcher.py:8: SettingWithCopyWarning: \n",
      "A value is trying to be set on a copy of a slice from a DataFrame.\n",
      "Try using .loc[row_indexer,col_indexer] = value instead\n",
      "\n",
      "See the caveats in the documentation: http://pandas.pydata.org/pandas-docs/stable/indexing.html#indexing-view-versus-copy\n",
      "  \n"
     ]
    },
    {
     "name": "stdout",
     "output_type": "stream",
     "text": [
      "Epoch 1/3\n",
      "442/442 [==============================] - 63s 143ms/step - loss: 0.1467\n",
      "Epoch 2/3\n",
      "442/442 [==============================] - 3s 7ms/step - loss: 0.0239\n",
      "Epoch 3/3\n",
      "442/442 [==============================] - 3s 7ms/step - loss: 0.0153\n",
      "KMX\n"
     ]
    },
    {
     "name": "stderr",
     "output_type": "stream",
     "text": [
      "C:\\Users\\AQi\\AppData\\Local\\Continuum\\anaconda\\lib\\site-packages\\ipykernel_launcher.py:7: SettingWithCopyWarning: \n",
      "A value is trying to be set on a copy of a slice from a DataFrame.\n",
      "Try using .loc[row_indexer,col_indexer] = value instead\n",
      "\n",
      "See the caveats in the documentation: http://pandas.pydata.org/pandas-docs/stable/indexing.html#indexing-view-versus-copy\n",
      "  import sys\n",
      "C:\\Users\\AQi\\AppData\\Local\\Continuum\\anaconda\\lib\\site-packages\\ipykernel_launcher.py:8: SettingWithCopyWarning: \n",
      "A value is trying to be set on a copy of a slice from a DataFrame.\n",
      "Try using .loc[row_indexer,col_indexer] = value instead\n",
      "\n",
      "See the caveats in the documentation: http://pandas.pydata.org/pandas-docs/stable/indexing.html#indexing-view-versus-copy\n",
      "  \n"
     ]
    },
    {
     "name": "stdout",
     "output_type": "stream",
     "text": [
      "Epoch 1/3\n",
      "442/442 [==============================] - 65s 147ms/step - loss: 0.0925\n",
      "Epoch 2/3\n",
      "442/442 [==============================] - 3s 8ms/step - loss: 0.0243\n",
      "Epoch 3/3\n",
      "442/442 [==============================] - 3s 8ms/step - loss: 0.0156\n",
      "CCL\n"
     ]
    },
    {
     "name": "stderr",
     "output_type": "stream",
     "text": [
      "C:\\Users\\AQi\\AppData\\Local\\Continuum\\anaconda\\lib\\site-packages\\ipykernel_launcher.py:7: SettingWithCopyWarning: \n",
      "A value is trying to be set on a copy of a slice from a DataFrame.\n",
      "Try using .loc[row_indexer,col_indexer] = value instead\n",
      "\n",
      "See the caveats in the documentation: http://pandas.pydata.org/pandas-docs/stable/indexing.html#indexing-view-versus-copy\n",
      "  import sys\n",
      "C:\\Users\\AQi\\AppData\\Local\\Continuum\\anaconda\\lib\\site-packages\\ipykernel_launcher.py:8: SettingWithCopyWarning: \n",
      "A value is trying to be set on a copy of a slice from a DataFrame.\n",
      "Try using .loc[row_indexer,col_indexer] = value instead\n",
      "\n",
      "See the caveats in the documentation: http://pandas.pydata.org/pandas-docs/stable/indexing.html#indexing-view-versus-copy\n",
      "  \n"
     ]
    },
    {
     "name": "stdout",
     "output_type": "stream",
     "text": [
      "Epoch 1/3\n",
      "442/442 [==============================] - 68s 155ms/step - loss: 0.1016\n",
      "Epoch 2/3\n",
      "442/442 [==============================] - 3s 8ms/step - loss: 0.0230\n",
      "Epoch 3/3\n",
      "442/442 [==============================] - 3s 8ms/step - loss: 0.0174\n",
      "CAT\n"
     ]
    },
    {
     "name": "stderr",
     "output_type": "stream",
     "text": [
      "C:\\Users\\AQi\\AppData\\Local\\Continuum\\anaconda\\lib\\site-packages\\ipykernel_launcher.py:7: SettingWithCopyWarning: \n",
      "A value is trying to be set on a copy of a slice from a DataFrame.\n",
      "Try using .loc[row_indexer,col_indexer] = value instead\n",
      "\n",
      "See the caveats in the documentation: http://pandas.pydata.org/pandas-docs/stable/indexing.html#indexing-view-versus-copy\n",
      "  import sys\n",
      "C:\\Users\\AQi\\AppData\\Local\\Continuum\\anaconda\\lib\\site-packages\\ipykernel_launcher.py:8: SettingWithCopyWarning: \n",
      "A value is trying to be set on a copy of a slice from a DataFrame.\n",
      "Try using .loc[row_indexer,col_indexer] = value instead\n",
      "\n",
      "See the caveats in the documentation: http://pandas.pydata.org/pandas-docs/stable/indexing.html#indexing-view-versus-copy\n",
      "  \n"
     ]
    },
    {
     "name": "stdout",
     "output_type": "stream",
     "text": [
      "Epoch 1/3\n",
      "442/442 [==============================] - 70s 159ms/step - loss: 0.0617\n",
      "Epoch 2/3\n",
      "442/442 [==============================] - 4s 9ms/step - loss: 0.0158\n",
      "Epoch 3/3\n",
      "442/442 [==============================] - 4s 9ms/step - loss: 0.0143\n",
      "CBG\n",
      "no data for: CBG\n",
      "CBS\n"
     ]
    },
    {
     "name": "stderr",
     "output_type": "stream",
     "text": [
      "C:\\Users\\AQi\\AppData\\Local\\Continuum\\anaconda\\lib\\site-packages\\ipykernel_launcher.py:7: SettingWithCopyWarning: \n",
      "A value is trying to be set on a copy of a slice from a DataFrame.\n",
      "Try using .loc[row_indexer,col_indexer] = value instead\n",
      "\n",
      "See the caveats in the documentation: http://pandas.pydata.org/pandas-docs/stable/indexing.html#indexing-view-versus-copy\n",
      "  import sys\n",
      "C:\\Users\\AQi\\AppData\\Local\\Continuum\\anaconda\\lib\\site-packages\\ipykernel_launcher.py:8: SettingWithCopyWarning: \n",
      "A value is trying to be set on a copy of a slice from a DataFrame.\n",
      "Try using .loc[row_indexer,col_indexer] = value instead\n",
      "\n",
      "See the caveats in the documentation: http://pandas.pydata.org/pandas-docs/stable/indexing.html#indexing-view-versus-copy\n",
      "  \n"
     ]
    },
    {
     "name": "stdout",
     "output_type": "stream",
     "text": [
      "Epoch 1/3\n",
      "442/442 [==============================] - 72s 162ms/step - loss: 0.0646\n",
      "Epoch 2/3\n",
      "442/442 [==============================] - 4s 8ms/step - loss: 0.0264\n",
      "Epoch 3/3\n",
      "442/442 [==============================] - 4s 8ms/step - loss: 0.0243\n",
      "CELG\n"
     ]
    },
    {
     "name": "stderr",
     "output_type": "stream",
     "text": [
      "C:\\Users\\AQi\\AppData\\Local\\Continuum\\anaconda\\lib\\site-packages\\ipykernel_launcher.py:7: SettingWithCopyWarning: \n",
      "A value is trying to be set on a copy of a slice from a DataFrame.\n",
      "Try using .loc[row_indexer,col_indexer] = value instead\n",
      "\n",
      "See the caveats in the documentation: http://pandas.pydata.org/pandas-docs/stable/indexing.html#indexing-view-versus-copy\n",
      "  import sys\n",
      "C:\\Users\\AQi\\AppData\\Local\\Continuum\\anaconda\\lib\\site-packages\\ipykernel_launcher.py:8: SettingWithCopyWarning: \n",
      "A value is trying to be set on a copy of a slice from a DataFrame.\n",
      "Try using .loc[row_indexer,col_indexer] = value instead\n",
      "\n",
      "See the caveats in the documentation: http://pandas.pydata.org/pandas-docs/stable/indexing.html#indexing-view-versus-copy\n",
      "  \n"
     ]
    },
    {
     "name": "stdout",
     "output_type": "stream",
     "text": [
      "Epoch 1/3\n",
      "442/442 [==============================] - 73s 166ms/step - loss: 0.1104\n",
      "Epoch 2/3\n",
      "442/442 [==============================] - 4s 9ms/step - loss: 0.0175\n",
      "Epoch 3/3\n",
      "442/442 [==============================] - 4s 9ms/step - loss: 0.0107\n",
      "CNP\n"
     ]
    },
    {
     "name": "stderr",
     "output_type": "stream",
     "text": [
      "C:\\Users\\AQi\\AppData\\Local\\Continuum\\anaconda\\lib\\site-packages\\ipykernel_launcher.py:7: SettingWithCopyWarning: \n",
      "A value is trying to be set on a copy of a slice from a DataFrame.\n",
      "Try using .loc[row_indexer,col_indexer] = value instead\n",
      "\n",
      "See the caveats in the documentation: http://pandas.pydata.org/pandas-docs/stable/indexing.html#indexing-view-versus-copy\n",
      "  import sys\n",
      "C:\\Users\\AQi\\AppData\\Local\\Continuum\\anaconda\\lib\\site-packages\\ipykernel_launcher.py:8: SettingWithCopyWarning: \n",
      "A value is trying to be set on a copy of a slice from a DataFrame.\n",
      "Try using .loc[row_indexer,col_indexer] = value instead\n",
      "\n",
      "See the caveats in the documentation: http://pandas.pydata.org/pandas-docs/stable/indexing.html#indexing-view-versus-copy\n",
      "  \n"
     ]
    },
    {
     "name": "stdout",
     "output_type": "stream",
     "text": [
      "Epoch 1/3\n",
      "442/442 [==============================] - 76s 171ms/step - loss: 0.1297\n",
      "Epoch 2/3\n",
      "442/442 [==============================] - 4s 9ms/step - loss: 0.0340\n",
      "Epoch 3/3\n",
      "442/442 [==============================] - 4s 9ms/step - loss: 0.0236\n",
      "CTL\n"
     ]
    },
    {
     "name": "stderr",
     "output_type": "stream",
     "text": [
      "C:\\Users\\AQi\\AppData\\Local\\Continuum\\anaconda\\lib\\site-packages\\ipykernel_launcher.py:7: SettingWithCopyWarning: \n",
      "A value is trying to be set on a copy of a slice from a DataFrame.\n",
      "Try using .loc[row_indexer,col_indexer] = value instead\n",
      "\n",
      "See the caveats in the documentation: http://pandas.pydata.org/pandas-docs/stable/indexing.html#indexing-view-versus-copy\n",
      "  import sys\n",
      "C:\\Users\\AQi\\AppData\\Local\\Continuum\\anaconda\\lib\\site-packages\\ipykernel_launcher.py:8: SettingWithCopyWarning: \n",
      "A value is trying to be set on a copy of a slice from a DataFrame.\n",
      "Try using .loc[row_indexer,col_indexer] = value instead\n",
      "\n",
      "See the caveats in the documentation: http://pandas.pydata.org/pandas-docs/stable/indexing.html#indexing-view-versus-copy\n",
      "  \n"
     ]
    },
    {
     "name": "stdout",
     "output_type": "stream",
     "text": [
      "Epoch 1/3\n",
      "442/442 [==============================] - 78s 177ms/step - loss: 0.1186\n",
      "Epoch 2/3\n",
      "442/442 [==============================] - 4s 9ms/step - loss: 0.0162\n",
      "Epoch 3/3\n",
      "442/442 [==============================] - 4s 9ms/step - loss: 0.0109\n",
      "CERN\n"
     ]
    },
    {
     "name": "stderr",
     "output_type": "stream",
     "text": [
      "C:\\Users\\AQi\\AppData\\Local\\Continuum\\anaconda\\lib\\site-packages\\ipykernel_launcher.py:7: SettingWithCopyWarning: \n",
      "A value is trying to be set on a copy of a slice from a DataFrame.\n",
      "Try using .loc[row_indexer,col_indexer] = value instead\n",
      "\n",
      "See the caveats in the documentation: http://pandas.pydata.org/pandas-docs/stable/indexing.html#indexing-view-versus-copy\n",
      "  import sys\n",
      "C:\\Users\\AQi\\AppData\\Local\\Continuum\\anaconda\\lib\\site-packages\\ipykernel_launcher.py:8: SettingWithCopyWarning: \n",
      "A value is trying to be set on a copy of a slice from a DataFrame.\n",
      "Try using .loc[row_indexer,col_indexer] = value instead\n",
      "\n",
      "See the caveats in the documentation: http://pandas.pydata.org/pandas-docs/stable/indexing.html#indexing-view-versus-copy\n",
      "  \n"
     ]
    },
    {
     "name": "stdout",
     "output_type": "stream",
     "text": [
      "Epoch 1/3\n",
      "442/442 [==============================] - 80s 182ms/step - loss: 0.1296\n",
      "Epoch 2/3\n",
      "442/442 [==============================] - 4s 10ms/step - loss: 0.0203\n",
      "Epoch 3/3\n",
      "442/442 [==============================] - 4s 9ms/step - loss: 0.0133\n",
      "CF\n"
     ]
    },
    {
     "name": "stderr",
     "output_type": "stream",
     "text": [
      "C:\\Users\\AQi\\AppData\\Local\\Continuum\\anaconda\\lib\\site-packages\\ipykernel_launcher.py:7: SettingWithCopyWarning: \n",
      "A value is trying to be set on a copy of a slice from a DataFrame.\n",
      "Try using .loc[row_indexer,col_indexer] = value instead\n",
      "\n",
      "See the caveats in the documentation: http://pandas.pydata.org/pandas-docs/stable/indexing.html#indexing-view-versus-copy\n",
      "  import sys\n",
      "C:\\Users\\AQi\\AppData\\Local\\Continuum\\anaconda\\lib\\site-packages\\ipykernel_launcher.py:8: SettingWithCopyWarning: \n",
      "A value is trying to be set on a copy of a slice from a DataFrame.\n",
      "Try using .loc[row_indexer,col_indexer] = value instead\n",
      "\n",
      "See the caveats in the documentation: http://pandas.pydata.org/pandas-docs/stable/indexing.html#indexing-view-versus-copy\n",
      "  \n"
     ]
    },
    {
     "name": "stdout",
     "output_type": "stream",
     "text": [
      "Epoch 1/3\n",
      "442/442 [==============================] - 83s 188ms/step - loss: 0.1223\n",
      "Epoch 2/3\n",
      "442/442 [==============================] - 4s 9ms/step - loss: 0.0339\n",
      "Epoch 3/3\n",
      "442/442 [==============================] - 4s 9ms/step - loss: 0.0251\n",
      "SCHW\n"
     ]
    },
    {
     "name": "stderr",
     "output_type": "stream",
     "text": [
      "C:\\Users\\AQi\\AppData\\Local\\Continuum\\anaconda\\lib\\site-packages\\ipykernel_launcher.py:7: SettingWithCopyWarning: \n",
      "A value is trying to be set on a copy of a slice from a DataFrame.\n",
      "Try using .loc[row_indexer,col_indexer] = value instead\n",
      "\n",
      "See the caveats in the documentation: http://pandas.pydata.org/pandas-docs/stable/indexing.html#indexing-view-versus-copy\n",
      "  import sys\n",
      "C:\\Users\\AQi\\AppData\\Local\\Continuum\\anaconda\\lib\\site-packages\\ipykernel_launcher.py:8: SettingWithCopyWarning: \n",
      "A value is trying to be set on a copy of a slice from a DataFrame.\n",
      "Try using .loc[row_indexer,col_indexer] = value instead\n",
      "\n",
      "See the caveats in the documentation: http://pandas.pydata.org/pandas-docs/stable/indexing.html#indexing-view-versus-copy\n",
      "  \n"
     ]
    },
    {
     "name": "stdout",
     "output_type": "stream",
     "text": [
      "Epoch 1/3\n",
      "442/442 [==============================] - 84s 190ms/step - loss: 0.1084\n",
      "Epoch 2/3\n",
      "442/442 [==============================] - 5s 10ms/step - loss: 0.0214\n",
      "Epoch 3/3\n",
      "442/442 [==============================] - 4s 10ms/step - loss: 0.0130\n",
      "CHK\n"
     ]
    },
    {
     "name": "stderr",
     "output_type": "stream",
     "text": [
      "C:\\Users\\AQi\\AppData\\Local\\Continuum\\anaconda\\lib\\site-packages\\ipykernel_launcher.py:7: SettingWithCopyWarning: \n",
      "A value is trying to be set on a copy of a slice from a DataFrame.\n",
      "Try using .loc[row_indexer,col_indexer] = value instead\n",
      "\n",
      "See the caveats in the documentation: http://pandas.pydata.org/pandas-docs/stable/indexing.html#indexing-view-versus-copy\n",
      "  import sys\n"
     ]
    },
    {
     "name": "stdout",
     "output_type": "stream",
     "text": [
      "no data for: CHK\n",
      "CVX\n"
     ]
    },
    {
     "name": "stderr",
     "output_type": "stream",
     "text": [
      "C:\\Users\\AQi\\AppData\\Local\\Continuum\\anaconda\\lib\\site-packages\\ipykernel_launcher.py:8: SettingWithCopyWarning: \n",
      "A value is trying to be set on a copy of a slice from a DataFrame.\n",
      "Try using .loc[row_indexer,col_indexer] = value instead\n",
      "\n",
      "See the caveats in the documentation: http://pandas.pydata.org/pandas-docs/stable/indexing.html#indexing-view-versus-copy\n",
      "  \n"
     ]
    },
    {
     "name": "stdout",
     "output_type": "stream",
     "text": [
      "Epoch 1/3\n",
      "442/442 [==============================] - 86s 196ms/step - loss: 0.1282\n",
      "Epoch 2/3\n",
      "442/442 [==============================] - 4s 10ms/step - loss: 0.0243\n",
      "Epoch 3/3\n",
      "442/442 [==============================] - 4s 9ms/step - loss: 0.0193\n",
      "CMG\n"
     ]
    },
    {
     "name": "stderr",
     "output_type": "stream",
     "text": [
      "C:\\Users\\AQi\\AppData\\Local\\Continuum\\anaconda\\lib\\site-packages\\ipykernel_launcher.py:7: SettingWithCopyWarning: \n",
      "A value is trying to be set on a copy of a slice from a DataFrame.\n",
      "Try using .loc[row_indexer,col_indexer] = value instead\n",
      "\n",
      "See the caveats in the documentation: http://pandas.pydata.org/pandas-docs/stable/indexing.html#indexing-view-versus-copy\n",
      "  import sys\n",
      "C:\\Users\\AQi\\AppData\\Local\\Continuum\\anaconda\\lib\\site-packages\\ipykernel_launcher.py:8: SettingWithCopyWarning: \n",
      "A value is trying to be set on a copy of a slice from a DataFrame.\n",
      "Try using .loc[row_indexer,col_indexer] = value instead\n",
      "\n",
      "See the caveats in the documentation: http://pandas.pydata.org/pandas-docs/stable/indexing.html#indexing-view-versus-copy\n",
      "  \n"
     ]
    },
    {
     "name": "stdout",
     "output_type": "stream",
     "text": [
      "Epoch 1/3\n",
      "442/442 [==============================] - 87s 198ms/step - loss: 0.1477\n",
      "Epoch 2/3\n",
      "442/442 [==============================] - 4s 10ms/step - loss: 0.0285\n",
      "Epoch 3/3\n",
      "442/442 [==============================] - 4s 9ms/step - loss: 0.0197\n",
      "CB\n"
     ]
    },
    {
     "name": "stderr",
     "output_type": "stream",
     "text": [
      "C:\\Users\\AQi\\AppData\\Local\\Continuum\\anaconda\\lib\\site-packages\\ipykernel_launcher.py:7: SettingWithCopyWarning: \n",
      "A value is trying to be set on a copy of a slice from a DataFrame.\n",
      "Try using .loc[row_indexer,col_indexer] = value instead\n",
      "\n",
      "See the caveats in the documentation: http://pandas.pydata.org/pandas-docs/stable/indexing.html#indexing-view-versus-copy\n",
      "  import sys\n",
      "C:\\Users\\AQi\\AppData\\Local\\Continuum\\anaconda\\lib\\site-packages\\ipykernel_launcher.py:8: SettingWithCopyWarning: \n",
      "A value is trying to be set on a copy of a slice from a DataFrame.\n",
      "Try using .loc[row_indexer,col_indexer] = value instead\n",
      "\n",
      "See the caveats in the documentation: http://pandas.pydata.org/pandas-docs/stable/indexing.html#indexing-view-versus-copy\n",
      "  \n"
     ]
    },
    {
     "name": "stdout",
     "output_type": "stream",
     "text": [
      "Epoch 1/3\n",
      "442/442 [==============================] - 92s 208ms/step - loss: 0.0621\n",
      "Epoch 2/3\n",
      "442/442 [==============================] - 5s 10ms/step - loss: 0.0238\n",
      "Epoch 3/3\n",
      "442/442 [==============================] - 5s 10ms/step - loss: 0.0157\n",
      "CI\n"
     ]
    },
    {
     "name": "stderr",
     "output_type": "stream",
     "text": [
      "C:\\Users\\AQi\\AppData\\Local\\Continuum\\anaconda\\lib\\site-packages\\ipykernel_launcher.py:7: SettingWithCopyWarning: \n",
      "A value is trying to be set on a copy of a slice from a DataFrame.\n",
      "Try using .loc[row_indexer,col_indexer] = value instead\n",
      "\n",
      "See the caveats in the documentation: http://pandas.pydata.org/pandas-docs/stable/indexing.html#indexing-view-versus-copy\n",
      "  import sys\n",
      "C:\\Users\\AQi\\AppData\\Local\\Continuum\\anaconda\\lib\\site-packages\\ipykernel_launcher.py:8: SettingWithCopyWarning: \n",
      "A value is trying to be set on a copy of a slice from a DataFrame.\n",
      "Try using .loc[row_indexer,col_indexer] = value instead\n",
      "\n",
      "See the caveats in the documentation: http://pandas.pydata.org/pandas-docs/stable/indexing.html#indexing-view-versus-copy\n",
      "  \n"
     ]
    },
    {
     "name": "stdout",
     "output_type": "stream",
     "text": [
      "Epoch 1/3\n",
      "442/442 [==============================] - 94s 212ms/step - loss: 0.1138\n",
      "Epoch 2/3\n",
      "442/442 [==============================] - 5s 10ms/step - loss: 0.0246\n",
      "Epoch 3/3\n",
      "442/442 [==============================] - 5s 11ms/step - loss: 0.0238\n",
      "XEC\n"
     ]
    },
    {
     "name": "stderr",
     "output_type": "stream",
     "text": [
      "C:\\Users\\AQi\\AppData\\Local\\Continuum\\anaconda\\lib\\site-packages\\ipykernel_launcher.py:7: SettingWithCopyWarning: \n",
      "A value is trying to be set on a copy of a slice from a DataFrame.\n",
      "Try using .loc[row_indexer,col_indexer] = value instead\n",
      "\n",
      "See the caveats in the documentation: http://pandas.pydata.org/pandas-docs/stable/indexing.html#indexing-view-versus-copy\n",
      "  import sys\n",
      "C:\\Users\\AQi\\AppData\\Local\\Continuum\\anaconda\\lib\\site-packages\\ipykernel_launcher.py:8: SettingWithCopyWarning: \n",
      "A value is trying to be set on a copy of a slice from a DataFrame.\n",
      "Try using .loc[row_indexer,col_indexer] = value instead\n",
      "\n",
      "See the caveats in the documentation: http://pandas.pydata.org/pandas-docs/stable/indexing.html#indexing-view-versus-copy\n",
      "  \n"
     ]
    },
    {
     "name": "stdout",
     "output_type": "stream",
     "text": [
      "Epoch 1/3\n",
      "442/442 [==============================] - 95s 215ms/step - loss: 0.0471\n",
      "Epoch 2/3\n",
      "442/442 [==============================] - 5s 11ms/step - loss: 0.0152\n",
      "Epoch 3/3\n",
      "442/442 [==============================] - 5s 11ms/step - loss: 0.0114\n",
      "CINF\n"
     ]
    },
    {
     "name": "stderr",
     "output_type": "stream",
     "text": [
      "C:\\Users\\AQi\\AppData\\Local\\Continuum\\anaconda\\lib\\site-packages\\ipykernel_launcher.py:7: SettingWithCopyWarning: \n",
      "A value is trying to be set on a copy of a slice from a DataFrame.\n",
      "Try using .loc[row_indexer,col_indexer] = value instead\n",
      "\n",
      "See the caveats in the documentation: http://pandas.pydata.org/pandas-docs/stable/indexing.html#indexing-view-versus-copy\n",
      "  import sys\n",
      "C:\\Users\\AQi\\AppData\\Local\\Continuum\\anaconda\\lib\\site-packages\\ipykernel_launcher.py:8: SettingWithCopyWarning: \n",
      "A value is trying to be set on a copy of a slice from a DataFrame.\n",
      "Try using .loc[row_indexer,col_indexer] = value instead\n",
      "\n",
      "See the caveats in the documentation: http://pandas.pydata.org/pandas-docs/stable/indexing.html#indexing-view-versus-copy\n",
      "  \n"
     ]
    },
    {
     "name": "stdout",
     "output_type": "stream",
     "text": [
      "Epoch 1/3\n",
      "442/442 [==============================] - 113s 255ms/step - loss: 0.1143\n",
      "Epoch 2/3\n",
      "442/442 [==============================] - 5s 11ms/step - loss: 0.0222\n",
      "Epoch 3/3\n",
      "442/442 [==============================] - 5s 11ms/step - loss: 0.0122\n",
      "    pred_return  real_return      Diff ticker     rmse\n",
      "0       0.74563     -0.37966   1.12529    ABT  0.71411\n",
      "1       0.74694      1.67440  -0.92746    ABT  0.71411\n",
      "2       0.74806      0.12656   0.62150    ABT  0.71411\n",
      "3       0.74902     -0.09735   0.84637    ABT  0.71411\n",
      "4       0.74985      0.16549   0.58436    ABT  0.71411\n",
      "0       0.44691     -1.01344   1.46035   ABBV  1.35953\n",
      "1       0.44681      1.59523  -1.14842   ABBV  1.35953\n",
      "2       0.44657      1.44508  -0.99850   ABBV  1.35953\n",
      "3       0.44624     -0.53487   0.98111   ABBV  1.35953\n",
      "4       0.44584      1.62337  -1.17753   ABBV  1.35953\n",
      "0       0.56116     -0.46762   1.02878    ACN  0.61677\n",
      "1       0.56091      0.73067  -0.16976    ACN  0.61677\n",
      "2       0.56064      0.69168  -0.13104    ACN  0.61677\n",
      "3       0.56038      1.78279  -1.22241    ACN  0.61677\n",
      "4       0.56018      1.25673  -0.69655    ACN  0.61677\n",
      "0       0.35222     -0.31000   0.66221   ADBE  4.05270\n",
      "1       0.35253      2.45999  -2.10746   ADBE  4.05270\n",
      "2       0.35279      3.34000  -2.98721   ADBE  4.05270\n",
      "3       0.35297      2.18001  -1.82704   ADBE  4.05270\n",
      "4       0.35305      2.12000  -1.76694   ADBE  4.05270\n",
      "0       0.52535     -0.01996   0.54530    AAP  9.39119\n",
      "1       0.52488      6.38685  -5.86197    AAP  9.39119\n",
      "2       0.52448      0.95803  -0.43355    AAP  9.39119\n",
      "3       0.52418      3.94189  -3.41771    AAP  9.39119\n",
      "4       0.52397      1.17758  -0.65361    AAP  9.39119\n",
      "0       0.54828      0.06614   0.48214    AES  0.27954\n",
      "1       0.54813      0.04724   0.50089    AES  0.27954\n",
      "2       0.54806     -0.00945   0.55751    AES  0.27954\n",
      "3       0.54804     -0.03779   0.58583    AES  0.27954\n",
      "4       0.54803      0.03779   0.51024    AES  0.27954\n",
      "0       0.52496     -0.21745   0.74241    AFL  0.19176\n",
      "1       0.52378      0.09181   0.43197    AFL  0.19176\n",
      "2       0.52298      0.12563   0.39735    AFL  0.19176\n",
      "3       0.52254      0.43971   0.08283    AFL  0.19176\n",
      "4       0.52239      0.28508   0.23731    AFL  0.19176\n",
      "0       0.68093     -1.24625   1.92718    AMG  6.47144\n",
      "1       0.68132     -2.18590   2.86722    AMG  6.47144\n",
      "2       0.68166     -0.90999   1.59164    AMG  6.47144\n",
      "3       0.68188     -3.54095   4.22283    AMG  6.47144\n",
      "4       0.68195      0.91986  -0.23791    AMG  6.47144\n",
      "0       0.48910     -0.32729   0.81639      A  0.70305\n",
      "1       0.48963      0.62294  -0.13331      A  0.70305\n",
      "2       0.49014      1.70072  -1.21058      A  0.70305\n",
      "3       0.49063     -0.51416   1.00479      A  0.70305\n",
      "4       0.49111      1.08767  -0.59656      A  0.70305\n",
      "0       0.53673      0.39645   0.14027    APD  0.30242\n",
      "1       0.53746      1.38277  -0.84531    APD  0.30242\n",
      "2       0.53834      0.87029  -0.33194    APD  0.30242\n",
      "3       0.53936      0.61885  -0.07949    APD  0.30242\n",
      "4       0.54049      1.35374  -0.81325    APD  0.30242\n",
      "..          ...          ...       ...    ...      ...\n",
      "0       0.62241     -0.38386   1.00627    CTL  0.54138\n",
      "1       0.62204      0.63686  -0.01482    CTL  0.54138\n",
      "2       0.62150     -0.28790   0.90940    CTL  0.54138\n",
      "3       0.62093     -0.09597   0.71690    CTL  0.54138\n",
      "4       0.62043      0.02617   0.59426    CTL  0.54138\n",
      "0       0.54237     -0.54000   1.08237   CERN  0.58026\n",
      "1       0.54168      1.18000  -0.63832   CERN  0.58026\n",
      "2       0.54112      0.50000   0.04112   CERN  0.58026\n",
      "3       0.54065     -0.06000   0.60065   CERN  0.58026\n",
      "4       0.54026      1.52000  -0.97973   CERN  0.58026\n",
      "0       0.54661     -0.06762   0.61423     CF  0.18141\n",
      "1       0.54670      0.57962  -0.03292     CF  0.18141\n",
      "2       0.54650      0.00966   0.53685     CF  0.18141\n",
      "3       0.54601      0.43471   0.11130     CF  0.18141\n",
      "4       0.54523      0.06763   0.47761     CF  0.18141\n",
      "0       0.59993     -0.65993   1.25985   SCHW  0.47860\n",
      "1       0.59880      0.06894   0.52986   SCHW  0.47860\n",
      "2       0.59771      0.07880   0.51890   SCHW  0.47860\n",
      "3       0.59668      0.28564   0.31104   SCHW  0.47860\n",
      "4       0.59574      0.19699   0.39875   SCHW  0.47860\n",
      "0       0.58057     -0.37177   0.95233    CVX  1.08540\n",
      "1       0.58232      2.27832  -1.69600    CVX  1.08540\n",
      "2       0.58385      0.88653  -0.30267    CVX  1.08540\n",
      "3       0.58509     -0.38129   0.96639    CVX  1.08540\n",
      "4       0.58600     -0.20020   0.78620    CVX  1.08540\n",
      "0       0.64772     -5.79001   6.43773    CMG 66.47081\n",
      "1       0.64615      3.92001  -3.27386    CMG 66.47081\n",
      "2       0.64475     16.04999 -15.40524    CMG 66.47081\n",
      "3       0.64354     -1.89001   2.53355    CMG 66.47081\n",
      "4       0.64255      6.68002  -6.03748    CMG 66.47081\n",
      "0       0.44870     -0.02919   0.47789     CB  3.62435\n",
      "1       0.44860     -3.72639   4.17499     CB  3.62435\n",
      "2       0.44890      1.08971  -0.64081     CB  3.62435\n",
      "3       0.44952      0.56432  -0.11480     CB  3.62435\n",
      "4       0.45039      0.25296   0.19743     CB  3.62435\n",
      "0       0.52744     -2.14897   2.67641     CI  5.14860\n",
      "1       0.52630     -0.52975   1.05605     CI  5.14860\n",
      "2       0.52544      3.39839  -2.87295     CI  5.14860\n",
      "3       0.52486      1.07948  -0.55462     CI  5.14860\n",
      "4       0.52452      3.50833  -2.98382     CI  5.14860\n",
      "0       0.41614     -0.79296   1.20910    XEC  3.29696\n",
      "1       0.41812      3.46923  -3.05111    XEC  3.29696\n",
      "2       0.41996      0.68391  -0.26395    XEC  3.29696\n",
      "3       0.42161      2.43836  -2.01675    XEC  3.29696\n",
      "4       0.42304     -0.83260   1.25565    XEC  3.29696\n",
      "0       0.63942     -0.10622   0.74564   CINF  1.51582\n",
      "1       0.63979     -1.82490   2.46469   CINF  1.51582\n",
      "2       0.64035     -0.28003   0.92038   CINF  1.51582\n",
      "3       0.64109      0.80142  -0.16034   CINF  1.51582\n",
      "4       0.64195      0.36691   0.27504   CINF  1.51582\n",
      "\n",
      "[415 rows x 5 columns]\n",
      "2018-01-11\n",
      "ABT\n"
     ]
    },
    {
     "name": "stderr",
     "output_type": "stream",
     "text": [
      "C:\\Users\\AQi\\AppData\\Local\\Continuum\\anaconda\\lib\\site-packages\\ipykernel_launcher.py:7: SettingWithCopyWarning: \n",
      "A value is trying to be set on a copy of a slice from a DataFrame.\n",
      "Try using .loc[row_indexer,col_indexer] = value instead\n",
      "\n",
      "See the caveats in the documentation: http://pandas.pydata.org/pandas-docs/stable/indexing.html#indexing-view-versus-copy\n",
      "  import sys\n",
      "C:\\Users\\AQi\\AppData\\Local\\Continuum\\anaconda\\lib\\site-packages\\ipykernel_launcher.py:8: SettingWithCopyWarning: \n",
      "A value is trying to be set on a copy of a slice from a DataFrame.\n",
      "Try using .loc[row_indexer,col_indexer] = value instead\n",
      "\n",
      "See the caveats in the documentation: http://pandas.pydata.org/pandas-docs/stable/indexing.html#indexing-view-versus-copy\n",
      "  \n"
     ]
    },
    {
     "name": "stdout",
     "output_type": "stream",
     "text": [
      "Epoch 1/3\n",
      "442/442 [==============================] - 113s 256ms/step - loss: 0.1546\n",
      "Epoch 2/3\n",
      "442/442 [==============================] - 5s 12ms/step - loss: 0.0261\n",
      "Epoch 3/3\n",
      "442/442 [==============================] - 6s 12ms/step - loss: 0.0162\n",
      "ABBV\n"
     ]
    },
    {
     "name": "stderr",
     "output_type": "stream",
     "text": [
      "C:\\Users\\AQi\\AppData\\Local\\Continuum\\anaconda\\lib\\site-packages\\ipykernel_launcher.py:7: SettingWithCopyWarning: \n",
      "A value is trying to be set on a copy of a slice from a DataFrame.\n",
      "Try using .loc[row_indexer,col_indexer] = value instead\n",
      "\n",
      "See the caveats in the documentation: http://pandas.pydata.org/pandas-docs/stable/indexing.html#indexing-view-versus-copy\n",
      "  import sys\n",
      "C:\\Users\\AQi\\AppData\\Local\\Continuum\\anaconda\\lib\\site-packages\\ipykernel_launcher.py:8: SettingWithCopyWarning: \n",
      "A value is trying to be set on a copy of a slice from a DataFrame.\n",
      "Try using .loc[row_indexer,col_indexer] = value instead\n",
      "\n",
      "See the caveats in the documentation: http://pandas.pydata.org/pandas-docs/stable/indexing.html#indexing-view-versus-copy\n",
      "  \n"
     ]
    },
    {
     "name": "stdout",
     "output_type": "stream",
     "text": [
      "Epoch 1/3\n",
      "442/442 [==============================] - 104s 235ms/step - loss: 0.0788\n",
      "Epoch 2/3\n",
      "442/442 [==============================] - 5s 11ms/step - loss: 0.0182\n",
      "Epoch 3/3\n",
      "442/442 [==============================] - 5s 11ms/step - loss: 0.0170\n",
      "ACN\n"
     ]
    },
    {
     "name": "stderr",
     "output_type": "stream",
     "text": [
      "C:\\Users\\AQi\\AppData\\Local\\Continuum\\anaconda\\lib\\site-packages\\ipykernel_launcher.py:7: SettingWithCopyWarning: \n",
      "A value is trying to be set on a copy of a slice from a DataFrame.\n",
      "Try using .loc[row_indexer,col_indexer] = value instead\n",
      "\n",
      "See the caveats in the documentation: http://pandas.pydata.org/pandas-docs/stable/indexing.html#indexing-view-versus-copy\n",
      "  import sys\n",
      "C:\\Users\\AQi\\AppData\\Local\\Continuum\\anaconda\\lib\\site-packages\\ipykernel_launcher.py:8: SettingWithCopyWarning: \n",
      "A value is trying to be set on a copy of a slice from a DataFrame.\n",
      "Try using .loc[row_indexer,col_indexer] = value instead\n",
      "\n",
      "See the caveats in the documentation: http://pandas.pydata.org/pandas-docs/stable/indexing.html#indexing-view-versus-copy\n",
      "  \n"
     ]
    },
    {
     "name": "stdout",
     "output_type": "stream",
     "text": [
      "Epoch 1/3\n",
      "442/442 [==============================] - 108s 244ms/step - loss: 0.0822\n",
      "Epoch 2/3\n",
      "442/442 [==============================] - 5s 12ms/step - loss: 0.0178\n",
      "Epoch 3/3\n",
      "442/442 [==============================] - 5s 12ms/step - loss: 0.0119\n",
      "ACE\n",
      "no data for: ACE\n",
      "ADBE\n"
     ]
    },
    {
     "name": "stderr",
     "output_type": "stream",
     "text": [
      "C:\\Users\\AQi\\AppData\\Local\\Continuum\\anaconda\\lib\\site-packages\\ipykernel_launcher.py:7: SettingWithCopyWarning: \n",
      "A value is trying to be set on a copy of a slice from a DataFrame.\n",
      "Try using .loc[row_indexer,col_indexer] = value instead\n",
      "\n",
      "See the caveats in the documentation: http://pandas.pydata.org/pandas-docs/stable/indexing.html#indexing-view-versus-copy\n",
      "  import sys\n",
      "C:\\Users\\AQi\\AppData\\Local\\Continuum\\anaconda\\lib\\site-packages\\ipykernel_launcher.py:8: SettingWithCopyWarning: \n",
      "A value is trying to be set on a copy of a slice from a DataFrame.\n",
      "Try using .loc[row_indexer,col_indexer] = value instead\n",
      "\n",
      "See the caveats in the documentation: http://pandas.pydata.org/pandas-docs/stable/indexing.html#indexing-view-versus-copy\n",
      "  \n"
     ]
    },
    {
     "name": "stdout",
     "output_type": "stream",
     "text": [
      "Epoch 1/3\n",
      "442/442 [==============================] - 110s 249ms/step - loss: 0.0439\n",
      "Epoch 2/3\n",
      "442/442 [==============================] - 5s 12ms/step - loss: 0.0102\n",
      "Epoch 3/3\n",
      "442/442 [==============================] - 6s 13ms/step - loss: 0.0058\n",
      "ADT\n",
      "no data for: ADT\n",
      "AAP\n"
     ]
    },
    {
     "name": "stderr",
     "output_type": "stream",
     "text": [
      "C:\\Users\\AQi\\AppData\\Local\\Continuum\\anaconda\\lib\\site-packages\\ipykernel_launcher.py:7: SettingWithCopyWarning: \n",
      "A value is trying to be set on a copy of a slice from a DataFrame.\n",
      "Try using .loc[row_indexer,col_indexer] = value instead\n",
      "\n",
      "See the caveats in the documentation: http://pandas.pydata.org/pandas-docs/stable/indexing.html#indexing-view-versus-copy\n",
      "  import sys\n",
      "C:\\Users\\AQi\\AppData\\Local\\Continuum\\anaconda\\lib\\site-packages\\ipykernel_launcher.py:8: SettingWithCopyWarning: \n",
      "A value is trying to be set on a copy of a slice from a DataFrame.\n",
      "Try using .loc[row_indexer,col_indexer] = value instead\n",
      "\n",
      "See the caveats in the documentation: http://pandas.pydata.org/pandas-docs/stable/indexing.html#indexing-view-versus-copy\n",
      "  \n"
     ]
    },
    {
     "name": "stdout",
     "output_type": "stream",
     "text": [
      "Epoch 1/3\n",
      "442/442 [==============================] - 113s 255ms/step - loss: 0.0919\n",
      "Epoch 2/3\n",
      "442/442 [==============================] - 6s 13ms/step - loss: 0.0145\n",
      "Epoch 3/3\n",
      "442/442 [==============================] - 6s 13ms/step - loss: 0.0083\n",
      "AES\n"
     ]
    },
    {
     "name": "stderr",
     "output_type": "stream",
     "text": [
      "C:\\Users\\AQi\\AppData\\Local\\Continuum\\anaconda\\lib\\site-packages\\ipykernel_launcher.py:7: SettingWithCopyWarning: \n",
      "A value is trying to be set on a copy of a slice from a DataFrame.\n",
      "Try using .loc[row_indexer,col_indexer] = value instead\n",
      "\n",
      "See the caveats in the documentation: http://pandas.pydata.org/pandas-docs/stable/indexing.html#indexing-view-versus-copy\n",
      "  import sys\n",
      "C:\\Users\\AQi\\AppData\\Local\\Continuum\\anaconda\\lib\\site-packages\\ipykernel_launcher.py:8: SettingWithCopyWarning: \n",
      "A value is trying to be set on a copy of a slice from a DataFrame.\n",
      "Try using .loc[row_indexer,col_indexer] = value instead\n",
      "\n",
      "See the caveats in the documentation: http://pandas.pydata.org/pandas-docs/stable/indexing.html#indexing-view-versus-copy\n",
      "  \n"
     ]
    },
    {
     "name": "stdout",
     "output_type": "stream",
     "text": [
      "Epoch 1/3\n",
      "442/442 [==============================] - 113s 256ms/step - loss: 0.0925\n",
      "Epoch 2/3\n",
      "442/442 [==============================] - 6s 12ms/step - loss: 0.0232\n",
      "Epoch 3/3\n",
      "442/442 [==============================] - 5s 12ms/step - loss: 0.0172\n",
      "AET\n",
      "no data for: AET\n",
      "AFL\n"
     ]
    },
    {
     "name": "stderr",
     "output_type": "stream",
     "text": [
      "C:\\Users\\AQi\\AppData\\Local\\Continuum\\anaconda\\lib\\site-packages\\ipykernel_launcher.py:7: SettingWithCopyWarning: \n",
      "A value is trying to be set on a copy of a slice from a DataFrame.\n",
      "Try using .loc[row_indexer,col_indexer] = value instead\n",
      "\n",
      "See the caveats in the documentation: http://pandas.pydata.org/pandas-docs/stable/indexing.html#indexing-view-versus-copy\n",
      "  import sys\n",
      "C:\\Users\\AQi\\AppData\\Local\\Continuum\\anaconda\\lib\\site-packages\\ipykernel_launcher.py:8: SettingWithCopyWarning: \n",
      "A value is trying to be set on a copy of a slice from a DataFrame.\n",
      "Try using .loc[row_indexer,col_indexer] = value instead\n",
      "\n",
      "See the caveats in the documentation: http://pandas.pydata.org/pandas-docs/stable/indexing.html#indexing-view-versus-copy\n",
      "  \n"
     ]
    },
    {
     "name": "stdout",
     "output_type": "stream",
     "text": [
      "Epoch 1/3\n",
      "442/442 [==============================] - 117s 264ms/step - loss: 0.0979\n",
      "Epoch 2/3\n",
      "442/442 [==============================] - 6s 13ms/step - loss: 0.0246\n",
      "Epoch 3/3\n",
      "442/442 [==============================] - 6s 13ms/step - loss: 0.0160\n",
      "AMG\n"
     ]
    },
    {
     "name": "stderr",
     "output_type": "stream",
     "text": [
      "C:\\Users\\AQi\\AppData\\Local\\Continuum\\anaconda\\lib\\site-packages\\ipykernel_launcher.py:7: SettingWithCopyWarning: \n",
      "A value is trying to be set on a copy of a slice from a DataFrame.\n",
      "Try using .loc[row_indexer,col_indexer] = value instead\n",
      "\n",
      "See the caveats in the documentation: http://pandas.pydata.org/pandas-docs/stable/indexing.html#indexing-view-versus-copy\n",
      "  import sys\n",
      "C:\\Users\\AQi\\AppData\\Local\\Continuum\\anaconda\\lib\\site-packages\\ipykernel_launcher.py:8: SettingWithCopyWarning: \n",
      "A value is trying to be set on a copy of a slice from a DataFrame.\n",
      "Try using .loc[row_indexer,col_indexer] = value instead\n",
      "\n",
      "See the caveats in the documentation: http://pandas.pydata.org/pandas-docs/stable/indexing.html#indexing-view-versus-copy\n",
      "  \n"
     ]
    },
    {
     "name": "stdout",
     "output_type": "stream",
     "text": [
      "Epoch 1/3\n",
      "442/442 [==============================] - 121s 274ms/step - loss: 0.1630\n",
      "Epoch 2/3\n",
      "442/442 [==============================] - 5s 12ms/step - loss: 0.0342\n",
      "Epoch 3/3\n",
      "442/442 [==============================] - 5s 12ms/step - loss: 0.0174\n",
      "A\n"
     ]
    },
    {
     "name": "stderr",
     "output_type": "stream",
     "text": [
      "C:\\Users\\AQi\\AppData\\Local\\Continuum\\anaconda\\lib\\site-packages\\ipykernel_launcher.py:7: SettingWithCopyWarning: \n",
      "A value is trying to be set on a copy of a slice from a DataFrame.\n",
      "Try using .loc[row_indexer,col_indexer] = value instead\n",
      "\n",
      "See the caveats in the documentation: http://pandas.pydata.org/pandas-docs/stable/indexing.html#indexing-view-versus-copy\n",
      "  import sys\n",
      "C:\\Users\\AQi\\AppData\\Local\\Continuum\\anaconda\\lib\\site-packages\\ipykernel_launcher.py:8: SettingWithCopyWarning: \n",
      "A value is trying to be set on a copy of a slice from a DataFrame.\n",
      "Try using .loc[row_indexer,col_indexer] = value instead\n",
      "\n",
      "See the caveats in the documentation: http://pandas.pydata.org/pandas-docs/stable/indexing.html#indexing-view-versus-copy\n",
      "  \n"
     ]
    },
    {
     "name": "stdout",
     "output_type": "stream",
     "text": [
      "Epoch 1/3\n",
      "442/442 [==============================] - 125s 282ms/step - loss: 0.0961\n",
      "Epoch 2/3\n",
      "442/442 [==============================] - 6s 14ms/step - loss: 0.0278\n",
      "Epoch 3/3\n",
      "442/442 [==============================] - 6s 14ms/step - loss: 0.0198\n",
      "GAS\n",
      "no data for: GAS\n",
      "APD\n"
     ]
    },
    {
     "name": "stderr",
     "output_type": "stream",
     "text": [
      "C:\\Users\\AQi\\AppData\\Local\\Continuum\\anaconda\\lib\\site-packages\\ipykernel_launcher.py:7: SettingWithCopyWarning: \n",
      "A value is trying to be set on a copy of a slice from a DataFrame.\n",
      "Try using .loc[row_indexer,col_indexer] = value instead\n",
      "\n",
      "See the caveats in the documentation: http://pandas.pydata.org/pandas-docs/stable/indexing.html#indexing-view-versus-copy\n",
      "  import sys\n",
      "C:\\Users\\AQi\\AppData\\Local\\Continuum\\anaconda\\lib\\site-packages\\ipykernel_launcher.py:8: SettingWithCopyWarning: \n",
      "A value is trying to be set on a copy of a slice from a DataFrame.\n",
      "Try using .loc[row_indexer,col_indexer] = value instead\n",
      "\n",
      "See the caveats in the documentation: http://pandas.pydata.org/pandas-docs/stable/indexing.html#indexing-view-versus-copy\n",
      "  \n"
     ]
    },
    {
     "name": "stdout",
     "output_type": "stream",
     "text": [
      "Epoch 1/3\n",
      "442/442 [==============================] - 126s 285ms/step - loss: 0.0819\n",
      "Epoch 2/3\n",
      "442/442 [==============================] - 6s 14ms/step - loss: 0.0174\n",
      "Epoch 3/3\n",
      "442/442 [==============================] - 6s 14ms/step - loss: 0.0119\n",
      "ARG\n",
      "no data for: ARG\n",
      "AKAM\n"
     ]
    },
    {
     "name": "stderr",
     "output_type": "stream",
     "text": [
      "C:\\Users\\AQi\\AppData\\Local\\Continuum\\anaconda\\lib\\site-packages\\ipykernel_launcher.py:7: SettingWithCopyWarning: \n",
      "A value is trying to be set on a copy of a slice from a DataFrame.\n",
      "Try using .loc[row_indexer,col_indexer] = value instead\n",
      "\n",
      "See the caveats in the documentation: http://pandas.pydata.org/pandas-docs/stable/indexing.html#indexing-view-versus-copy\n",
      "  import sys\n",
      "C:\\Users\\AQi\\AppData\\Local\\Continuum\\anaconda\\lib\\site-packages\\ipykernel_launcher.py:8: SettingWithCopyWarning: \n",
      "A value is trying to be set on a copy of a slice from a DataFrame.\n",
      "Try using .loc[row_indexer,col_indexer] = value instead\n",
      "\n",
      "See the caveats in the documentation: http://pandas.pydata.org/pandas-docs/stable/indexing.html#indexing-view-versus-copy\n",
      "  \n"
     ]
    },
    {
     "name": "stdout",
     "output_type": "stream",
     "text": [
      "Epoch 1/3\n",
      "442/442 [==============================] - 130s 295ms/step - loss: 0.1004\n",
      "Epoch 2/3\n",
      "442/442 [==============================] - 6s 14ms/step - loss: 0.0148\n",
      "Epoch 3/3\n",
      "442/442 [==============================] - 6s 14ms/step - loss: 0.0088\n",
      "AA\n"
     ]
    },
    {
     "name": "stderr",
     "output_type": "stream",
     "text": [
      "C:\\Users\\AQi\\AppData\\Local\\Continuum\\anaconda\\lib\\site-packages\\ipykernel_launcher.py:7: SettingWithCopyWarning: \n",
      "A value is trying to be set on a copy of a slice from a DataFrame.\n",
      "Try using .loc[row_indexer,col_indexer] = value instead\n",
      "\n",
      "See the caveats in the documentation: http://pandas.pydata.org/pandas-docs/stable/indexing.html#indexing-view-versus-copy\n",
      "  import sys\n",
      "C:\\Users\\AQi\\AppData\\Local\\Continuum\\anaconda\\lib\\site-packages\\ipykernel_launcher.py:8: SettingWithCopyWarning: \n",
      "A value is trying to be set on a copy of a slice from a DataFrame.\n",
      "Try using .loc[row_indexer,col_indexer] = value instead\n",
      "\n",
      "See the caveats in the documentation: http://pandas.pydata.org/pandas-docs/stable/indexing.html#indexing-view-versus-copy\n",
      "  \n"
     ]
    },
    {
     "name": "stdout",
     "output_type": "stream",
     "text": [
      "Epoch 1/3\n",
      "442/442 [==============================] - 132s 298ms/step - loss: 0.0828\n",
      "Epoch 2/3\n",
      "442/442 [==============================] - 6s 14ms/step - loss: 0.0262\n",
      "Epoch 3/3\n",
      "442/442 [==============================] - 6s 14ms/step - loss: 0.0195\n",
      "AGN\n"
     ]
    },
    {
     "name": "stderr",
     "output_type": "stream",
     "text": [
      "C:\\Users\\AQi\\AppData\\Local\\Continuum\\anaconda\\lib\\site-packages\\ipykernel_launcher.py:7: SettingWithCopyWarning: \n",
      "A value is trying to be set on a copy of a slice from a DataFrame.\n",
      "Try using .loc[row_indexer,col_indexer] = value instead\n",
      "\n",
      "See the caveats in the documentation: http://pandas.pydata.org/pandas-docs/stable/indexing.html#indexing-view-versus-copy\n",
      "  import sys\n",
      "C:\\Users\\AQi\\AppData\\Local\\Continuum\\anaconda\\lib\\site-packages\\ipykernel_launcher.py:8: SettingWithCopyWarning: \n",
      "A value is trying to be set on a copy of a slice from a DataFrame.\n",
      "Try using .loc[row_indexer,col_indexer] = value instead\n",
      "\n",
      "See the caveats in the documentation: http://pandas.pydata.org/pandas-docs/stable/indexing.html#indexing-view-versus-copy\n",
      "  \n"
     ]
    },
    {
     "name": "stdout",
     "output_type": "stream",
     "text": [
      "Epoch 1/3\n",
      "442/442 [==============================] - 138s 313ms/step - loss: 0.1445\n",
      "Epoch 2/3\n",
      "442/442 [==============================] - 7s 15ms/step - loss: 0.0253\n",
      "Epoch 3/3\n",
      "442/442 [==============================] - 7s 15ms/step - loss: 0.0127\n",
      "ALXN\n"
     ]
    },
    {
     "name": "stderr",
     "output_type": "stream",
     "text": [
      "C:\\Users\\AQi\\AppData\\Local\\Continuum\\anaconda\\lib\\site-packages\\ipykernel_launcher.py:7: SettingWithCopyWarning: \n",
      "A value is trying to be set on a copy of a slice from a DataFrame.\n",
      "Try using .loc[row_indexer,col_indexer] = value instead\n",
      "\n",
      "See the caveats in the documentation: http://pandas.pydata.org/pandas-docs/stable/indexing.html#indexing-view-versus-copy\n",
      "  import sys\n",
      "C:\\Users\\AQi\\AppData\\Local\\Continuum\\anaconda\\lib\\site-packages\\ipykernel_launcher.py:8: SettingWithCopyWarning: \n",
      "A value is trying to be set on a copy of a slice from a DataFrame.\n",
      "Try using .loc[row_indexer,col_indexer] = value instead\n",
      "\n",
      "See the caveats in the documentation: http://pandas.pydata.org/pandas-docs/stable/indexing.html#indexing-view-versus-copy\n",
      "  \n"
     ]
    },
    {
     "name": "stdout",
     "output_type": "stream",
     "text": [
      "Epoch 1/3\n",
      "442/442 [==============================] - 138s 312ms/step - loss: 0.1469\n",
      "Epoch 2/3\n",
      "442/442 [==============================] - 6s 14ms/step - loss: 0.0249\n",
      "Epoch 3/3\n",
      "442/442 [==============================] - 6s 14ms/step - loss: 0.0179\n",
      "ALLE\n"
     ]
    },
    {
     "name": "stderr",
     "output_type": "stream",
     "text": [
      "C:\\Users\\AQi\\AppData\\Local\\Continuum\\anaconda\\lib\\site-packages\\ipykernel_launcher.py:7: SettingWithCopyWarning: \n",
      "A value is trying to be set on a copy of a slice from a DataFrame.\n",
      "Try using .loc[row_indexer,col_indexer] = value instead\n",
      "\n",
      "See the caveats in the documentation: http://pandas.pydata.org/pandas-docs/stable/indexing.html#indexing-view-versus-copy\n",
      "  import sys\n",
      "C:\\Users\\AQi\\AppData\\Local\\Continuum\\anaconda\\lib\\site-packages\\ipykernel_launcher.py:8: SettingWithCopyWarning: \n",
      "A value is trying to be set on a copy of a slice from a DataFrame.\n",
      "Try using .loc[row_indexer,col_indexer] = value instead\n",
      "\n",
      "See the caveats in the documentation: http://pandas.pydata.org/pandas-docs/stable/indexing.html#indexing-view-versus-copy\n",
      "  \n"
     ]
    },
    {
     "name": "stdout",
     "output_type": "stream",
     "text": [
      "Epoch 1/3\n",
      "442/442 [==============================] - 140s 317ms/step - loss: 0.1067\n",
      "Epoch 2/3\n",
      "442/442 [==============================] - 7s 16ms/step - loss: 0.0214\n",
      "Epoch 3/3\n",
      "442/442 [==============================] - 7s 15ms/step - loss: 0.0125\n",
      "ADS\n"
     ]
    },
    {
     "name": "stderr",
     "output_type": "stream",
     "text": [
      "C:\\Users\\AQi\\AppData\\Local\\Continuum\\anaconda\\lib\\site-packages\\ipykernel_launcher.py:7: SettingWithCopyWarning: \n",
      "A value is trying to be set on a copy of a slice from a DataFrame.\n",
      "Try using .loc[row_indexer,col_indexer] = value instead\n",
      "\n",
      "See the caveats in the documentation: http://pandas.pydata.org/pandas-docs/stable/indexing.html#indexing-view-versus-copy\n",
      "  import sys\n",
      "C:\\Users\\AQi\\AppData\\Local\\Continuum\\anaconda\\lib\\site-packages\\ipykernel_launcher.py:8: SettingWithCopyWarning: \n",
      "A value is trying to be set on a copy of a slice from a DataFrame.\n",
      "Try using .loc[row_indexer,col_indexer] = value instead\n",
      "\n",
      "See the caveats in the documentation: http://pandas.pydata.org/pandas-docs/stable/indexing.html#indexing-view-versus-copy\n",
      "  \n"
     ]
    },
    {
     "name": "stdout",
     "output_type": "stream",
     "text": [
      "Epoch 1/3\n",
      "442/442 [==============================] - 146s 331ms/step - loss: 0.1112\n",
      "Epoch 2/3\n",
      "442/442 [==============================] - 7s 16ms/step - loss: 0.0199\n",
      "Epoch 3/3\n",
      "442/442 [==============================] - 7s 15ms/step - loss: 0.0116\n",
      "ALL\n"
     ]
    },
    {
     "name": "stderr",
     "output_type": "stream",
     "text": [
      "C:\\Users\\AQi\\AppData\\Local\\Continuum\\anaconda\\lib\\site-packages\\ipykernel_launcher.py:7: SettingWithCopyWarning: \n",
      "A value is trying to be set on a copy of a slice from a DataFrame.\n",
      "Try using .loc[row_indexer,col_indexer] = value instead\n",
      "\n",
      "See the caveats in the documentation: http://pandas.pydata.org/pandas-docs/stable/indexing.html#indexing-view-versus-copy\n",
      "  import sys\n",
      "C:\\Users\\AQi\\AppData\\Local\\Continuum\\anaconda\\lib\\site-packages\\ipykernel_launcher.py:8: SettingWithCopyWarning: \n",
      "A value is trying to be set on a copy of a slice from a DataFrame.\n",
      "Try using .loc[row_indexer,col_indexer] = value instead\n",
      "\n",
      "See the caveats in the documentation: http://pandas.pydata.org/pandas-docs/stable/indexing.html#indexing-view-versus-copy\n",
      "  \n"
     ]
    },
    {
     "name": "stdout",
     "output_type": "stream",
     "text": [
      "Epoch 1/3\n",
      "442/442 [==============================] - 153s 347ms/step - loss: 0.0967\n",
      "Epoch 2/3\n",
      "442/442 [==============================] - 7s 16ms/step - loss: 0.0172\n",
      "Epoch 3/3\n",
      "442/442 [==============================] - 7s 16ms/step - loss: 0.0134\n",
      "ALTR\n"
     ]
    },
    {
     "name": "stderr",
     "output_type": "stream",
     "text": [
      "C:\\Users\\AQi\\AppData\\Local\\Continuum\\anaconda\\lib\\site-packages\\ipykernel_launcher.py:7: SettingWithCopyWarning: \n",
      "A value is trying to be set on a copy of a slice from a DataFrame.\n",
      "Try using .loc[row_indexer,col_indexer] = value instead\n",
      "\n",
      "See the caveats in the documentation: http://pandas.pydata.org/pandas-docs/stable/indexing.html#indexing-view-versus-copy\n",
      "  import sys\n",
      "C:\\Users\\AQi\\AppData\\Local\\Continuum\\anaconda\\lib\\site-packages\\ipykernel_launcher.py:8: SettingWithCopyWarning: \n",
      "A value is trying to be set on a copy of a slice from a DataFrame.\n",
      "Try using .loc[row_indexer,col_indexer] = value instead\n",
      "\n",
      "See the caveats in the documentation: http://pandas.pydata.org/pandas-docs/stable/indexing.html#indexing-view-versus-copy\n",
      "  \n"
     ]
    },
    {
     "name": "stdout",
     "output_type": "stream",
     "text": [
      "no data for: ALTR\n",
      "MO\n"
     ]
    },
    {
     "name": "stderr",
     "output_type": "stream",
     "text": [
      "C:\\Users\\AQi\\AppData\\Local\\Continuum\\anaconda\\lib\\site-packages\\ipykernel_launcher.py:7: SettingWithCopyWarning: \n",
      "A value is trying to be set on a copy of a slice from a DataFrame.\n",
      "Try using .loc[row_indexer,col_indexer] = value instead\n",
      "\n",
      "See the caveats in the documentation: http://pandas.pydata.org/pandas-docs/stable/indexing.html#indexing-view-versus-copy\n",
      "  import sys\n",
      "C:\\Users\\AQi\\AppData\\Local\\Continuum\\anaconda\\lib\\site-packages\\ipykernel_launcher.py:8: SettingWithCopyWarning: \n",
      "A value is trying to be set on a copy of a slice from a DataFrame.\n",
      "Try using .loc[row_indexer,col_indexer] = value instead\n",
      "\n",
      "See the caveats in the documentation: http://pandas.pydata.org/pandas-docs/stable/indexing.html#indexing-view-versus-copy\n",
      "  \n"
     ]
    },
    {
     "name": "stdout",
     "output_type": "stream",
     "text": [
      "Epoch 1/3\n",
      "442/442 [==============================] - 150s 339ms/step - loss: 0.1713\n",
      "Epoch 2/3\n",
      "442/442 [==============================] - 7s 15ms/step - loss: 0.0294\n",
      "Epoch 3/3\n",
      "442/442 [==============================] - 7s 15ms/step - loss: 0.0134\n",
      "AMZN\n"
     ]
    },
    {
     "name": "stderr",
     "output_type": "stream",
     "text": [
      "C:\\Users\\AQi\\AppData\\Local\\Continuum\\anaconda\\lib\\site-packages\\ipykernel_launcher.py:7: SettingWithCopyWarning: \n",
      "A value is trying to be set on a copy of a slice from a DataFrame.\n",
      "Try using .loc[row_indexer,col_indexer] = value instead\n",
      "\n",
      "See the caveats in the documentation: http://pandas.pydata.org/pandas-docs/stable/indexing.html#indexing-view-versus-copy\n",
      "  import sys\n",
      "C:\\Users\\AQi\\AppData\\Local\\Continuum\\anaconda\\lib\\site-packages\\ipykernel_launcher.py:8: SettingWithCopyWarning: \n",
      "A value is trying to be set on a copy of a slice from a DataFrame.\n",
      "Try using .loc[row_indexer,col_indexer] = value instead\n",
      "\n",
      "See the caveats in the documentation: http://pandas.pydata.org/pandas-docs/stable/indexing.html#indexing-view-versus-copy\n",
      "  \n"
     ]
    },
    {
     "name": "stdout",
     "output_type": "stream",
     "text": [
      "Epoch 1/3\n",
      "442/442 [==============================] - 153s 347ms/step - loss: 0.0237\n",
      "Epoch 2/3\n",
      "442/442 [==============================] - 7s 15ms/step - loss: 0.0079\n",
      "Epoch 3/3\n",
      "442/442 [==============================] - 7s 15ms/step - loss: 0.0058\n",
      "AEE\n"
     ]
    },
    {
     "name": "stderr",
     "output_type": "stream",
     "text": [
      "C:\\Users\\AQi\\AppData\\Local\\Continuum\\anaconda\\lib\\site-packages\\ipykernel_launcher.py:7: SettingWithCopyWarning: \n",
      "A value is trying to be set on a copy of a slice from a DataFrame.\n",
      "Try using .loc[row_indexer,col_indexer] = value instead\n",
      "\n",
      "See the caveats in the documentation: http://pandas.pydata.org/pandas-docs/stable/indexing.html#indexing-view-versus-copy\n",
      "  import sys\n",
      "C:\\Users\\AQi\\AppData\\Local\\Continuum\\anaconda\\lib\\site-packages\\ipykernel_launcher.py:8: SettingWithCopyWarning: \n",
      "A value is trying to be set on a copy of a slice from a DataFrame.\n",
      "Try using .loc[row_indexer,col_indexer] = value instead\n",
      "\n",
      "See the caveats in the documentation: http://pandas.pydata.org/pandas-docs/stable/indexing.html#indexing-view-versus-copy\n",
      "  \n"
     ]
    },
    {
     "name": "stdout",
     "output_type": "stream",
     "text": [
      "Epoch 1/3\n",
      "442/442 [==============================] - 159s 360ms/step - loss: 0.1185\n",
      "Epoch 2/3\n",
      "442/442 [==============================] - 7s 15ms/step - loss: 0.0310\n",
      "Epoch 3/3\n",
      "442/442 [==============================] - 7s 15ms/step - loss: 0.0268\n",
      "AAL\n"
     ]
    },
    {
     "name": "stderr",
     "output_type": "stream",
     "text": [
      "C:\\Users\\AQi\\AppData\\Local\\Continuum\\anaconda\\lib\\site-packages\\ipykernel_launcher.py:7: SettingWithCopyWarning: \n",
      "A value is trying to be set on a copy of a slice from a DataFrame.\n",
      "Try using .loc[row_indexer,col_indexer] = value instead\n",
      "\n",
      "See the caveats in the documentation: http://pandas.pydata.org/pandas-docs/stable/indexing.html#indexing-view-versus-copy\n",
      "  import sys\n",
      "C:\\Users\\AQi\\AppData\\Local\\Continuum\\anaconda\\lib\\site-packages\\ipykernel_launcher.py:8: SettingWithCopyWarning: \n",
      "A value is trying to be set on a copy of a slice from a DataFrame.\n",
      "Try using .loc[row_indexer,col_indexer] = value instead\n",
      "\n",
      "See the caveats in the documentation: http://pandas.pydata.org/pandas-docs/stable/indexing.html#indexing-view-versus-copy\n",
      "  \n"
     ]
    },
    {
     "name": "stdout",
     "output_type": "stream",
     "text": [
      "Epoch 1/3\n",
      "442/442 [==============================] - 161s 363ms/step - loss: 0.0877\n",
      "Epoch 2/3\n",
      "442/442 [==============================] - 9s 19ms/step - loss: 0.0221\n",
      "Epoch 3/3\n",
      "442/442 [==============================] - 7s 16ms/step - loss: 0.0197\n",
      "AEP\n"
     ]
    },
    {
     "name": "stderr",
     "output_type": "stream",
     "text": [
      "C:\\Users\\AQi\\AppData\\Local\\Continuum\\anaconda\\lib\\site-packages\\ipykernel_launcher.py:7: SettingWithCopyWarning: \n",
      "A value is trying to be set on a copy of a slice from a DataFrame.\n",
      "Try using .loc[row_indexer,col_indexer] = value instead\n",
      "\n",
      "See the caveats in the documentation: http://pandas.pydata.org/pandas-docs/stable/indexing.html#indexing-view-versus-copy\n",
      "  import sys\n",
      "C:\\Users\\AQi\\AppData\\Local\\Continuum\\anaconda\\lib\\site-packages\\ipykernel_launcher.py:8: SettingWithCopyWarning: \n",
      "A value is trying to be set on a copy of a slice from a DataFrame.\n",
      "Try using .loc[row_indexer,col_indexer] = value instead\n",
      "\n",
      "See the caveats in the documentation: http://pandas.pydata.org/pandas-docs/stable/indexing.html#indexing-view-versus-copy\n",
      "  \n"
     ]
    },
    {
     "name": "stdout",
     "output_type": "stream",
     "text": [
      "Epoch 1/3\n",
      "442/442 [==============================] - 162s 367ms/step - loss: 0.1596\n",
      "Epoch 2/3\n",
      "442/442 [==============================] - 7s 16ms/step - loss: 0.0339\n",
      "Epoch 3/3\n",
      "442/442 [==============================] - 7s 16ms/step - loss: 0.0307\n",
      "AXP\n"
     ]
    },
    {
     "name": "stderr",
     "output_type": "stream",
     "text": [
      "C:\\Users\\AQi\\AppData\\Local\\Continuum\\anaconda\\lib\\site-packages\\ipykernel_launcher.py:7: SettingWithCopyWarning: \n",
      "A value is trying to be set on a copy of a slice from a DataFrame.\n",
      "Try using .loc[row_indexer,col_indexer] = value instead\n",
      "\n",
      "See the caveats in the documentation: http://pandas.pydata.org/pandas-docs/stable/indexing.html#indexing-view-versus-copy\n",
      "  import sys\n",
      "C:\\Users\\AQi\\AppData\\Local\\Continuum\\anaconda\\lib\\site-packages\\ipykernel_launcher.py:8: SettingWithCopyWarning: \n",
      "A value is trying to be set on a copy of a slice from a DataFrame.\n",
      "Try using .loc[row_indexer,col_indexer] = value instead\n",
      "\n",
      "See the caveats in the documentation: http://pandas.pydata.org/pandas-docs/stable/indexing.html#indexing-view-versus-copy\n",
      "  \n"
     ]
    },
    {
     "name": "stdout",
     "output_type": "stream",
     "text": [
      "Epoch 1/3\n",
      "442/442 [==============================] - 166s 376ms/step - loss: 0.1150\n",
      "Epoch 2/3\n",
      "442/442 [==============================] - 7s 16ms/step - loss: 0.0195\n",
      "Epoch 3/3\n",
      "442/442 [==============================] - 7s 16ms/step - loss: 0.0100\n",
      "AIG\n"
     ]
    },
    {
     "name": "stderr",
     "output_type": "stream",
     "text": [
      "C:\\Users\\AQi\\AppData\\Local\\Continuum\\anaconda\\lib\\site-packages\\ipykernel_launcher.py:7: SettingWithCopyWarning: \n",
      "A value is trying to be set on a copy of a slice from a DataFrame.\n",
      "Try using .loc[row_indexer,col_indexer] = value instead\n",
      "\n",
      "See the caveats in the documentation: http://pandas.pydata.org/pandas-docs/stable/indexing.html#indexing-view-versus-copy\n",
      "  import sys\n",
      "C:\\Users\\AQi\\AppData\\Local\\Continuum\\anaconda\\lib\\site-packages\\ipykernel_launcher.py:8: SettingWithCopyWarning: \n",
      "A value is trying to be set on a copy of a slice from a DataFrame.\n",
      "Try using .loc[row_indexer,col_indexer] = value instead\n",
      "\n",
      "See the caveats in the documentation: http://pandas.pydata.org/pandas-docs/stable/indexing.html#indexing-view-versus-copy\n",
      "  \n"
     ]
    },
    {
     "name": "stdout",
     "output_type": "stream",
     "text": [
      "Epoch 1/3\n",
      "442/442 [==============================] - 172s 389ms/step - loss: 0.1124\n",
      "Epoch 2/3\n",
      "442/442 [==============================] - 7s 16ms/step - loss: 0.0186\n",
      "Epoch 3/3\n",
      "442/442 [==============================] - 7s 16ms/step - loss: 0.0104\n",
      "AMT\n"
     ]
    },
    {
     "name": "stderr",
     "output_type": "stream",
     "text": [
      "C:\\Users\\AQi\\AppData\\Local\\Continuum\\anaconda\\lib\\site-packages\\ipykernel_launcher.py:7: SettingWithCopyWarning: \n",
      "A value is trying to be set on a copy of a slice from a DataFrame.\n",
      "Try using .loc[row_indexer,col_indexer] = value instead\n",
      "\n",
      "See the caveats in the documentation: http://pandas.pydata.org/pandas-docs/stable/indexing.html#indexing-view-versus-copy\n",
      "  import sys\n",
      "C:\\Users\\AQi\\AppData\\Local\\Continuum\\anaconda\\lib\\site-packages\\ipykernel_launcher.py:8: SettingWithCopyWarning: \n",
      "A value is trying to be set on a copy of a slice from a DataFrame.\n",
      "Try using .loc[row_indexer,col_indexer] = value instead\n",
      "\n",
      "See the caveats in the documentation: http://pandas.pydata.org/pandas-docs/stable/indexing.html#indexing-view-versus-copy\n",
      "  \n"
     ]
    },
    {
     "name": "stdout",
     "output_type": "stream",
     "text": [
      "Epoch 1/3\n",
      "442/442 [==============================] - 174s 394ms/step - loss: 0.0685\n",
      "Epoch 2/3\n",
      "442/442 [==============================] - 7s 16ms/step - loss: 0.0179\n",
      "Epoch 3/3\n",
      "442/442 [==============================] - 7s 16ms/step - loss: 0.0114\n",
      "AMP\n"
     ]
    },
    {
     "name": "stderr",
     "output_type": "stream",
     "text": [
      "C:\\Users\\AQi\\AppData\\Local\\Continuum\\anaconda\\lib\\site-packages\\ipykernel_launcher.py:7: SettingWithCopyWarning: \n",
      "A value is trying to be set on a copy of a slice from a DataFrame.\n",
      "Try using .loc[row_indexer,col_indexer] = value instead\n",
      "\n",
      "See the caveats in the documentation: http://pandas.pydata.org/pandas-docs/stable/indexing.html#indexing-view-versus-copy\n",
      "  import sys\n",
      "C:\\Users\\AQi\\AppData\\Local\\Continuum\\anaconda\\lib\\site-packages\\ipykernel_launcher.py:8: SettingWithCopyWarning: \n",
      "A value is trying to be set on a copy of a slice from a DataFrame.\n",
      "Try using .loc[row_indexer,col_indexer] = value instead\n",
      "\n",
      "See the caveats in the documentation: http://pandas.pydata.org/pandas-docs/stable/indexing.html#indexing-view-versus-copy\n",
      "  \n"
     ]
    },
    {
     "name": "stdout",
     "output_type": "stream",
     "text": [
      "Epoch 1/3\n",
      "442/442 [==============================] - 175s 397ms/step - loss: 0.0705\n",
      "Epoch 2/3\n",
      "442/442 [==============================] - 7s 17ms/step - loss: 0.0145\n",
      "Epoch 3/3\n",
      "442/442 [==============================] - 7s 16ms/step - loss: 0.0095\n",
      "ABC\n"
     ]
    },
    {
     "name": "stderr",
     "output_type": "stream",
     "text": [
      "C:\\Users\\AQi\\AppData\\Local\\Continuum\\anaconda\\lib\\site-packages\\ipykernel_launcher.py:7: SettingWithCopyWarning: \n",
      "A value is trying to be set on a copy of a slice from a DataFrame.\n",
      "Try using .loc[row_indexer,col_indexer] = value instead\n",
      "\n",
      "See the caveats in the documentation: http://pandas.pydata.org/pandas-docs/stable/indexing.html#indexing-view-versus-copy\n",
      "  import sys\n",
      "C:\\Users\\AQi\\AppData\\Local\\Continuum\\anaconda\\lib\\site-packages\\ipykernel_launcher.py:8: SettingWithCopyWarning: \n",
      "A value is trying to be set on a copy of a slice from a DataFrame.\n",
      "Try using .loc[row_indexer,col_indexer] = value instead\n",
      "\n",
      "See the caveats in the documentation: http://pandas.pydata.org/pandas-docs/stable/indexing.html#indexing-view-versus-copy\n",
      "  \n"
     ]
    },
    {
     "name": "stdout",
     "output_type": "stream",
     "text": [
      "Epoch 1/3\n",
      "442/442 [==============================] - 181s 411ms/step - loss: 0.1146\n",
      "Epoch 2/3\n",
      "442/442 [==============================] - 7s 16ms/step - loss: 0.0233\n",
      "Epoch 3/3\n",
      "442/442 [==============================] - 7s 16ms/step - loss: 0.0126\n",
      "AME\n"
     ]
    },
    {
     "name": "stderr",
     "output_type": "stream",
     "text": [
      "C:\\Users\\AQi\\AppData\\Local\\Continuum\\anaconda\\lib\\site-packages\\ipykernel_launcher.py:7: SettingWithCopyWarning: \n",
      "A value is trying to be set on a copy of a slice from a DataFrame.\n",
      "Try using .loc[row_indexer,col_indexer] = value instead\n",
      "\n",
      "See the caveats in the documentation: http://pandas.pydata.org/pandas-docs/stable/indexing.html#indexing-view-versus-copy\n",
      "  import sys\n",
      "C:\\Users\\AQi\\AppData\\Local\\Continuum\\anaconda\\lib\\site-packages\\ipykernel_launcher.py:8: SettingWithCopyWarning: \n",
      "A value is trying to be set on a copy of a slice from a DataFrame.\n",
      "Try using .loc[row_indexer,col_indexer] = value instead\n",
      "\n",
      "See the caveats in the documentation: http://pandas.pydata.org/pandas-docs/stable/indexing.html#indexing-view-versus-copy\n",
      "  \n"
     ]
    },
    {
     "name": "stdout",
     "output_type": "stream",
     "text": [
      "Epoch 1/3\n",
      "442/442 [==============================] - 183s 415ms/step - loss: 0.1595\n",
      "Epoch 2/3\n",
      "442/442 [==============================] - 8s 17ms/step - loss: 0.0246\n",
      "Epoch 3/3\n",
      "442/442 [==============================] - 7s 17ms/step - loss: 0.0145\n",
      "AMGN\n"
     ]
    },
    {
     "name": "stderr",
     "output_type": "stream",
     "text": [
      "C:\\Users\\AQi\\AppData\\Local\\Continuum\\anaconda\\lib\\site-packages\\ipykernel_launcher.py:7: SettingWithCopyWarning: \n",
      "A value is trying to be set on a copy of a slice from a DataFrame.\n",
      "Try using .loc[row_indexer,col_indexer] = value instead\n",
      "\n",
      "See the caveats in the documentation: http://pandas.pydata.org/pandas-docs/stable/indexing.html#indexing-view-versus-copy\n",
      "  import sys\n",
      "C:\\Users\\AQi\\AppData\\Local\\Continuum\\anaconda\\lib\\site-packages\\ipykernel_launcher.py:8: SettingWithCopyWarning: \n",
      "A value is trying to be set on a copy of a slice from a DataFrame.\n",
      "Try using .loc[row_indexer,col_indexer] = value instead\n",
      "\n",
      "See the caveats in the documentation: http://pandas.pydata.org/pandas-docs/stable/indexing.html#indexing-view-versus-copy\n",
      "  \n"
     ]
    },
    {
     "name": "stdout",
     "output_type": "stream",
     "text": [
      "Epoch 1/3\n",
      "442/442 [==============================] - 188s 426ms/step - loss: 0.1157\n",
      "Epoch 2/3\n",
      "442/442 [==============================] - 8s 18ms/step - loss: 0.0233\n",
      "Epoch 3/3\n",
      "442/442 [==============================] - 8s 17ms/step - loss: 0.0147\n",
      "APH\n"
     ]
    },
    {
     "name": "stderr",
     "output_type": "stream",
     "text": [
      "C:\\Users\\AQi\\AppData\\Local\\Continuum\\anaconda\\lib\\site-packages\\ipykernel_launcher.py:7: SettingWithCopyWarning: \n",
      "A value is trying to be set on a copy of a slice from a DataFrame.\n",
      "Try using .loc[row_indexer,col_indexer] = value instead\n",
      "\n",
      "See the caveats in the documentation: http://pandas.pydata.org/pandas-docs/stable/indexing.html#indexing-view-versus-copy\n",
      "  import sys\n",
      "C:\\Users\\AQi\\AppData\\Local\\Continuum\\anaconda\\lib\\site-packages\\ipykernel_launcher.py:8: SettingWithCopyWarning: \n",
      "A value is trying to be set on a copy of a slice from a DataFrame.\n",
      "Try using .loc[row_indexer,col_indexer] = value instead\n",
      "\n",
      "See the caveats in the documentation: http://pandas.pydata.org/pandas-docs/stable/indexing.html#indexing-view-versus-copy\n",
      "  \n"
     ]
    },
    {
     "name": "stdout",
     "output_type": "stream",
     "text": [
      "Epoch 1/3\n",
      "442/442 [==============================] - 194s 438ms/step - loss: 0.0957\n",
      "Epoch 2/3\n",
      "442/442 [==============================] - 8s 17ms/step - loss: 0.0257\n",
      "Epoch 3/3\n",
      "442/442 [==============================] - 8s 17ms/step - loss: 0.0202\n",
      "APC\n"
     ]
    },
    {
     "name": "stderr",
     "output_type": "stream",
     "text": [
      "C:\\Users\\AQi\\AppData\\Local\\Continuum\\anaconda\\lib\\site-packages\\ipykernel_launcher.py:7: SettingWithCopyWarning: \n",
      "A value is trying to be set on a copy of a slice from a DataFrame.\n",
      "Try using .loc[row_indexer,col_indexer] = value instead\n",
      "\n",
      "See the caveats in the documentation: http://pandas.pydata.org/pandas-docs/stable/indexing.html#indexing-view-versus-copy\n",
      "  import sys\n",
      "C:\\Users\\AQi\\AppData\\Local\\Continuum\\anaconda\\lib\\site-packages\\ipykernel_launcher.py:8: SettingWithCopyWarning: \n",
      "A value is trying to be set on a copy of a slice from a DataFrame.\n",
      "Try using .loc[row_indexer,col_indexer] = value instead\n",
      "\n",
      "See the caveats in the documentation: http://pandas.pydata.org/pandas-docs/stable/indexing.html#indexing-view-versus-copy\n",
      "  \n"
     ]
    },
    {
     "name": "stdout",
     "output_type": "stream",
     "text": [
      "Epoch 1/3\n",
      "442/442 [==============================] - 198s 448ms/step - loss: 0.0305\n",
      "Epoch 2/3\n",
      "442/442 [==============================] - 8s 18ms/step - loss: 0.0091\n",
      "Epoch 3/3\n",
      "442/442 [==============================] - 8s 18ms/step - loss: 0.0081\n",
      "ADI\n"
     ]
    },
    {
     "name": "stderr",
     "output_type": "stream",
     "text": [
      "C:\\Users\\AQi\\AppData\\Local\\Continuum\\anaconda\\lib\\site-packages\\ipykernel_launcher.py:7: SettingWithCopyWarning: \n",
      "A value is trying to be set on a copy of a slice from a DataFrame.\n",
      "Try using .loc[row_indexer,col_indexer] = value instead\n",
      "\n",
      "See the caveats in the documentation: http://pandas.pydata.org/pandas-docs/stable/indexing.html#indexing-view-versus-copy\n",
      "  import sys\n",
      "C:\\Users\\AQi\\AppData\\Local\\Continuum\\anaconda\\lib\\site-packages\\ipykernel_launcher.py:8: SettingWithCopyWarning: \n",
      "A value is trying to be set on a copy of a slice from a DataFrame.\n",
      "Try using .loc[row_indexer,col_indexer] = value instead\n",
      "\n",
      "See the caveats in the documentation: http://pandas.pydata.org/pandas-docs/stable/indexing.html#indexing-view-versus-copy\n",
      "  \n"
     ]
    },
    {
     "name": "stdout",
     "output_type": "stream",
     "text": [
      "Epoch 1/3\n",
      "442/442 [==============================] - 200s 453ms/step - loss: 0.1319\n",
      "Epoch 2/3\n",
      "442/442 [==============================] - 8s 18ms/step - loss: 0.0206\n",
      "Epoch 3/3\n",
      "442/442 [==============================] - 9s 19ms/step - loss: 0.0160\n",
      "AON\n"
     ]
    },
    {
     "name": "stderr",
     "output_type": "stream",
     "text": [
      "C:\\Users\\AQi\\AppData\\Local\\Continuum\\anaconda\\lib\\site-packages\\ipykernel_launcher.py:7: SettingWithCopyWarning: \n",
      "A value is trying to be set on a copy of a slice from a DataFrame.\n",
      "Try using .loc[row_indexer,col_indexer] = value instead\n",
      "\n",
      "See the caveats in the documentation: http://pandas.pydata.org/pandas-docs/stable/indexing.html#indexing-view-versus-copy\n",
      "  import sys\n",
      "C:\\Users\\AQi\\AppData\\Local\\Continuum\\anaconda\\lib\\site-packages\\ipykernel_launcher.py:8: SettingWithCopyWarning: \n",
      "A value is trying to be set on a copy of a slice from a DataFrame.\n",
      "Try using .loc[row_indexer,col_indexer] = value instead\n",
      "\n",
      "See the caveats in the documentation: http://pandas.pydata.org/pandas-docs/stable/indexing.html#indexing-view-versus-copy\n",
      "  \n"
     ]
    },
    {
     "name": "stdout",
     "output_type": "stream",
     "text": [
      "Epoch 1/3\n",
      "442/442 [==============================] - 202s 458ms/step - loss: 0.1195\n",
      "Epoch 2/3\n",
      "442/442 [==============================] - 8s 18ms/step - loss: 0.0277\n",
      "Epoch 3/3\n",
      "442/442 [==============================] - 8s 18ms/step - loss: 0.0189\n",
      "APA\n"
     ]
    },
    {
     "name": "stderr",
     "output_type": "stream",
     "text": [
      "C:\\Users\\AQi\\AppData\\Local\\Continuum\\anaconda\\lib\\site-packages\\ipykernel_launcher.py:7: SettingWithCopyWarning: \n",
      "A value is trying to be set on a copy of a slice from a DataFrame.\n",
      "Try using .loc[row_indexer,col_indexer] = value instead\n",
      "\n",
      "See the caveats in the documentation: http://pandas.pydata.org/pandas-docs/stable/indexing.html#indexing-view-versus-copy\n",
      "  import sys\n",
      "C:\\Users\\AQi\\AppData\\Local\\Continuum\\anaconda\\lib\\site-packages\\ipykernel_launcher.py:8: SettingWithCopyWarning: \n",
      "A value is trying to be set on a copy of a slice from a DataFrame.\n",
      "Try using .loc[row_indexer,col_indexer] = value instead\n",
      "\n",
      "See the caveats in the documentation: http://pandas.pydata.org/pandas-docs/stable/indexing.html#indexing-view-versus-copy\n",
      "  \n"
     ]
    },
    {
     "name": "stdout",
     "output_type": "stream",
     "text": [
      "Epoch 1/3\n",
      "442/442 [==============================] - 204s 462ms/step - loss: 0.0711\n",
      "Epoch 2/3\n",
      "442/442 [==============================] - 8s 18ms/step - loss: 0.0202\n",
      "Epoch 3/3\n",
      "442/442 [==============================] - 8s 18ms/step - loss: 0.0166\n",
      "AIV\n"
     ]
    },
    {
     "name": "stderr",
     "output_type": "stream",
     "text": [
      "C:\\Users\\AQi\\AppData\\Local\\Continuum\\anaconda\\lib\\site-packages\\ipykernel_launcher.py:7: SettingWithCopyWarning: \n",
      "A value is trying to be set on a copy of a slice from a DataFrame.\n",
      "Try using .loc[row_indexer,col_indexer] = value instead\n",
      "\n",
      "See the caveats in the documentation: http://pandas.pydata.org/pandas-docs/stable/indexing.html#indexing-view-versus-copy\n",
      "  import sys\n",
      "C:\\Users\\AQi\\AppData\\Local\\Continuum\\anaconda\\lib\\site-packages\\ipykernel_launcher.py:8: SettingWithCopyWarning: \n",
      "A value is trying to be set on a copy of a slice from a DataFrame.\n",
      "Try using .loc[row_indexer,col_indexer] = value instead\n",
      "\n",
      "See the caveats in the documentation: http://pandas.pydata.org/pandas-docs/stable/indexing.html#indexing-view-versus-copy\n",
      "  \n"
     ]
    },
    {
     "name": "stdout",
     "output_type": "stream",
     "text": [
      "Epoch 1/3\n",
      "442/442 [==============================] - 207s 469ms/step - loss: 0.1350\n",
      "Epoch 2/3\n",
      "442/442 [==============================] - 8s 18ms/step - loss: 0.0307\n",
      "Epoch 3/3\n",
      "442/442 [==============================] - 8s 18ms/step - loss: 0.0194\n",
      "AMAT\n"
     ]
    },
    {
     "name": "stderr",
     "output_type": "stream",
     "text": [
      "C:\\Users\\AQi\\AppData\\Local\\Continuum\\anaconda\\lib\\site-packages\\ipykernel_launcher.py:7: SettingWithCopyWarning: \n",
      "A value is trying to be set on a copy of a slice from a DataFrame.\n",
      "Try using .loc[row_indexer,col_indexer] = value instead\n",
      "\n",
      "See the caveats in the documentation: http://pandas.pydata.org/pandas-docs/stable/indexing.html#indexing-view-versus-copy\n",
      "  import sys\n",
      "C:\\Users\\AQi\\AppData\\Local\\Continuum\\anaconda\\lib\\site-packages\\ipykernel_launcher.py:8: SettingWithCopyWarning: \n",
      "A value is trying to be set on a copy of a slice from a DataFrame.\n",
      "Try using .loc[row_indexer,col_indexer] = value instead\n",
      "\n",
      "See the caveats in the documentation: http://pandas.pydata.org/pandas-docs/stable/indexing.html#indexing-view-versus-copy\n",
      "  \n"
     ]
    },
    {
     "name": "stdout",
     "output_type": "stream",
     "text": [
      "Epoch 1/3\n",
      "442/442 [==============================] - 213s 482ms/step - loss: 0.1383\n",
      "Epoch 2/3\n",
      "442/442 [==============================] - 8s 18ms/step - loss: 0.0233\n",
      "Epoch 3/3\n",
      "442/442 [==============================] - 8s 18ms/step - loss: 0.0128\n",
      "ADM\n"
     ]
    },
    {
     "name": "stderr",
     "output_type": "stream",
     "text": [
      "C:\\Users\\AQi\\AppData\\Local\\Continuum\\anaconda\\lib\\site-packages\\ipykernel_launcher.py:7: SettingWithCopyWarning: \n",
      "A value is trying to be set on a copy of a slice from a DataFrame.\n",
      "Try using .loc[row_indexer,col_indexer] = value instead\n",
      "\n",
      "See the caveats in the documentation: http://pandas.pydata.org/pandas-docs/stable/indexing.html#indexing-view-versus-copy\n",
      "  import sys\n",
      "C:\\Users\\AQi\\AppData\\Local\\Continuum\\anaconda\\lib\\site-packages\\ipykernel_launcher.py:8: SettingWithCopyWarning: \n",
      "A value is trying to be set on a copy of a slice from a DataFrame.\n",
      "Try using .loc[row_indexer,col_indexer] = value instead\n",
      "\n",
      "See the caveats in the documentation: http://pandas.pydata.org/pandas-docs/stable/indexing.html#indexing-view-versus-copy\n",
      "  \n"
     ]
    },
    {
     "name": "stdout",
     "output_type": "stream",
     "text": [
      "Epoch 1/3\n",
      "442/442 [==============================] - 219s 495ms/step - loss: 0.1183\n",
      "Epoch 2/3\n",
      "442/442 [==============================] - 8s 19ms/step - loss: 0.0181\n",
      "Epoch 3/3\n",
      "442/442 [==============================] - 8s 19ms/step - loss: 0.0120\n",
      "AIZ\n"
     ]
    },
    {
     "name": "stderr",
     "output_type": "stream",
     "text": [
      "C:\\Users\\AQi\\AppData\\Local\\Continuum\\anaconda\\lib\\site-packages\\ipykernel_launcher.py:7: SettingWithCopyWarning: \n",
      "A value is trying to be set on a copy of a slice from a DataFrame.\n",
      "Try using .loc[row_indexer,col_indexer] = value instead\n",
      "\n",
      "See the caveats in the documentation: http://pandas.pydata.org/pandas-docs/stable/indexing.html#indexing-view-versus-copy\n",
      "  import sys\n",
      "C:\\Users\\AQi\\AppData\\Local\\Continuum\\anaconda\\lib\\site-packages\\ipykernel_launcher.py:8: SettingWithCopyWarning: \n",
      "A value is trying to be set on a copy of a slice from a DataFrame.\n",
      "Try using .loc[row_indexer,col_indexer] = value instead\n",
      "\n",
      "See the caveats in the documentation: http://pandas.pydata.org/pandas-docs/stable/indexing.html#indexing-view-versus-copy\n",
      "  \n"
     ]
    },
    {
     "name": "stdout",
     "output_type": "stream",
     "text": [
      "Epoch 1/3\n",
      "442/442 [==============================] - 222s 502ms/step - loss: 0.1301\n",
      "Epoch 2/3\n",
      "442/442 [==============================] - 8s 18ms/step - loss: 0.0184\n",
      "Epoch 3/3\n",
      "442/442 [==============================] - 8s 18ms/step - loss: 0.0099\n",
      "T\n"
     ]
    },
    {
     "name": "stderr",
     "output_type": "stream",
     "text": [
      "C:\\Users\\AQi\\AppData\\Local\\Continuum\\anaconda\\lib\\site-packages\\ipykernel_launcher.py:7: SettingWithCopyWarning: \n",
      "A value is trying to be set on a copy of a slice from a DataFrame.\n",
      "Try using .loc[row_indexer,col_indexer] = value instead\n",
      "\n",
      "See the caveats in the documentation: http://pandas.pydata.org/pandas-docs/stable/indexing.html#indexing-view-versus-copy\n",
      "  import sys\n",
      "C:\\Users\\AQi\\AppData\\Local\\Continuum\\anaconda\\lib\\site-packages\\ipykernel_launcher.py:8: SettingWithCopyWarning: \n",
      "A value is trying to be set on a copy of a slice from a DataFrame.\n",
      "Try using .loc[row_indexer,col_indexer] = value instead\n",
      "\n",
      "See the caveats in the documentation: http://pandas.pydata.org/pandas-docs/stable/indexing.html#indexing-view-versus-copy\n",
      "  \n"
     ]
    },
    {
     "name": "stdout",
     "output_type": "stream",
     "text": [
      "Epoch 1/3\n",
      "442/442 [==============================] - 226s 512ms/step - loss: 0.0858\n",
      "Epoch 2/3\n",
      "442/442 [==============================] - 8s 19ms/step - loss: 0.0188\n",
      "Epoch 3/3\n",
      "442/442 [==============================] - 8s 19ms/step - loss: 0.0121\n",
      "ADSK\n"
     ]
    },
    {
     "name": "stderr",
     "output_type": "stream",
     "text": [
      "C:\\Users\\AQi\\AppData\\Local\\Continuum\\anaconda\\lib\\site-packages\\ipykernel_launcher.py:7: SettingWithCopyWarning: \n",
      "A value is trying to be set on a copy of a slice from a DataFrame.\n",
      "Try using .loc[row_indexer,col_indexer] = value instead\n",
      "\n",
      "See the caveats in the documentation: http://pandas.pydata.org/pandas-docs/stable/indexing.html#indexing-view-versus-copy\n",
      "  import sys\n",
      "C:\\Users\\AQi\\AppData\\Local\\Continuum\\anaconda\\lib\\site-packages\\ipykernel_launcher.py:8: SettingWithCopyWarning: \n",
      "A value is trying to be set on a copy of a slice from a DataFrame.\n",
      "Try using .loc[row_indexer,col_indexer] = value instead\n",
      "\n",
      "See the caveats in the documentation: http://pandas.pydata.org/pandas-docs/stable/indexing.html#indexing-view-versus-copy\n",
      "  \n"
     ]
    },
    {
     "name": "stdout",
     "output_type": "stream",
     "text": [
      "Epoch 1/3\n",
      "442/442 [==============================] - 227s 514ms/step - loss: 0.1077\n",
      "Epoch 2/3\n",
      "442/442 [==============================] - 8s 19ms/step - loss: 0.0153\n",
      "Epoch 3/3\n",
      "442/442 [==============================] - 8s 19ms/step - loss: 0.0070\n",
      "ADP\n"
     ]
    },
    {
     "name": "stderr",
     "output_type": "stream",
     "text": [
      "C:\\Users\\AQi\\AppData\\Local\\Continuum\\anaconda\\lib\\site-packages\\ipykernel_launcher.py:7: SettingWithCopyWarning: \n",
      "A value is trying to be set on a copy of a slice from a DataFrame.\n",
      "Try using .loc[row_indexer,col_indexer] = value instead\n",
      "\n",
      "See the caveats in the documentation: http://pandas.pydata.org/pandas-docs/stable/indexing.html#indexing-view-versus-copy\n",
      "  import sys\n",
      "C:\\Users\\AQi\\AppData\\Local\\Continuum\\anaconda\\lib\\site-packages\\ipykernel_launcher.py:8: SettingWithCopyWarning: \n",
      "A value is trying to be set on a copy of a slice from a DataFrame.\n",
      "Try using .loc[row_indexer,col_indexer] = value instead\n",
      "\n",
      "See the caveats in the documentation: http://pandas.pydata.org/pandas-docs/stable/indexing.html#indexing-view-versus-copy\n",
      "  \n"
     ]
    },
    {
     "name": "stdout",
     "output_type": "stream",
     "text": [
      "Epoch 1/3\n",
      "442/442 [==============================] - 231s 522ms/step - loss: 0.0516\n",
      "Epoch 2/3\n",
      "442/442 [==============================] - 9s 19ms/step - loss: 0.0120\n",
      "Epoch 3/3\n",
      "442/442 [==============================] - 9s 20ms/step - loss: 0.0076\n",
      "AN\n"
     ]
    },
    {
     "name": "stderr",
     "output_type": "stream",
     "text": [
      "C:\\Users\\AQi\\AppData\\Local\\Continuum\\anaconda\\lib\\site-packages\\ipykernel_launcher.py:7: SettingWithCopyWarning: \n",
      "A value is trying to be set on a copy of a slice from a DataFrame.\n",
      "Try using .loc[row_indexer,col_indexer] = value instead\n",
      "\n",
      "See the caveats in the documentation: http://pandas.pydata.org/pandas-docs/stable/indexing.html#indexing-view-versus-copy\n",
      "  import sys\n",
      "C:\\Users\\AQi\\AppData\\Local\\Continuum\\anaconda\\lib\\site-packages\\ipykernel_launcher.py:8: SettingWithCopyWarning: \n",
      "A value is trying to be set on a copy of a slice from a DataFrame.\n",
      "Try using .loc[row_indexer,col_indexer] = value instead\n",
      "\n",
      "See the caveats in the documentation: http://pandas.pydata.org/pandas-docs/stable/indexing.html#indexing-view-versus-copy\n",
      "  \n"
     ]
    },
    {
     "name": "stdout",
     "output_type": "stream",
     "text": [
      "Epoch 1/3\n",
      "442/442 [==============================] - 231s 524ms/step - loss: 0.0435\n",
      "Epoch 2/3\n",
      "442/442 [==============================] - 9s 20ms/step - loss: 0.0105\n",
      "Epoch 3/3\n",
      "442/442 [==============================] - 9s 20ms/step - loss: 0.0086\n",
      "AZO\n"
     ]
    },
    {
     "name": "stderr",
     "output_type": "stream",
     "text": [
      "C:\\Users\\AQi\\AppData\\Local\\Continuum\\anaconda\\lib\\site-packages\\ipykernel_launcher.py:7: SettingWithCopyWarning: \n",
      "A value is trying to be set on a copy of a slice from a DataFrame.\n",
      "Try using .loc[row_indexer,col_indexer] = value instead\n",
      "\n",
      "See the caveats in the documentation: http://pandas.pydata.org/pandas-docs/stable/indexing.html#indexing-view-versus-copy\n",
      "  import sys\n",
      "C:\\Users\\AQi\\AppData\\Local\\Continuum\\anaconda\\lib\\site-packages\\ipykernel_launcher.py:8: SettingWithCopyWarning: \n",
      "A value is trying to be set on a copy of a slice from a DataFrame.\n",
      "Try using .loc[row_indexer,col_indexer] = value instead\n",
      "\n",
      "See the caveats in the documentation: http://pandas.pydata.org/pandas-docs/stable/indexing.html#indexing-view-versus-copy\n",
      "  \n"
     ]
    },
    {
     "name": "stdout",
     "output_type": "stream",
     "text": [
      "Epoch 1/3\n",
      "442/442 [==============================] - 240s 543ms/step - loss: 0.1616\n",
      "Epoch 2/3\n",
      "442/442 [==============================] - 9s 20ms/step - loss: 0.0265\n",
      "Epoch 3/3\n",
      "442/442 [==============================] - 9s 20ms/step - loss: 0.0143\n",
      "AVGO\n"
     ]
    },
    {
     "name": "stderr",
     "output_type": "stream",
     "text": [
      "C:\\Users\\AQi\\AppData\\Local\\Continuum\\anaconda\\lib\\site-packages\\ipykernel_launcher.py:7: SettingWithCopyWarning: \n",
      "A value is trying to be set on a copy of a slice from a DataFrame.\n",
      "Try using .loc[row_indexer,col_indexer] = value instead\n",
      "\n",
      "See the caveats in the documentation: http://pandas.pydata.org/pandas-docs/stable/indexing.html#indexing-view-versus-copy\n",
      "  import sys\n",
      "C:\\Users\\AQi\\AppData\\Local\\Continuum\\anaconda\\lib\\site-packages\\ipykernel_launcher.py:8: SettingWithCopyWarning: \n",
      "A value is trying to be set on a copy of a slice from a DataFrame.\n",
      "Try using .loc[row_indexer,col_indexer] = value instead\n",
      "\n",
      "See the caveats in the documentation: http://pandas.pydata.org/pandas-docs/stable/indexing.html#indexing-view-versus-copy\n",
      "  \n"
     ]
    },
    {
     "name": "stdout",
     "output_type": "stream",
     "text": [
      "Epoch 1/3\n",
      "442/442 [==============================] - 247s 558ms/step - loss: 0.0410\n",
      "Epoch 2/3\n",
      "442/442 [==============================] - 9s 20ms/step - loss: 0.0162\n",
      "Epoch 3/3\n",
      "442/442 [==============================] - 9s 20ms/step - loss: 0.0139\n",
      "AVB\n"
     ]
    },
    {
     "name": "stderr",
     "output_type": "stream",
     "text": [
      "C:\\Users\\AQi\\AppData\\Local\\Continuum\\anaconda\\lib\\site-packages\\ipykernel_launcher.py:7: SettingWithCopyWarning: \n",
      "A value is trying to be set on a copy of a slice from a DataFrame.\n",
      "Try using .loc[row_indexer,col_indexer] = value instead\n",
      "\n",
      "See the caveats in the documentation: http://pandas.pydata.org/pandas-docs/stable/indexing.html#indexing-view-versus-copy\n",
      "  import sys\n",
      "C:\\Users\\AQi\\AppData\\Local\\Continuum\\anaconda\\lib\\site-packages\\ipykernel_launcher.py:8: SettingWithCopyWarning: \n",
      "A value is trying to be set on a copy of a slice from a DataFrame.\n",
      "Try using .loc[row_indexer,col_indexer] = value instead\n",
      "\n",
      "See the caveats in the documentation: http://pandas.pydata.org/pandas-docs/stable/indexing.html#indexing-view-versus-copy\n",
      "  \n"
     ]
    },
    {
     "name": "stdout",
     "output_type": "stream",
     "text": [
      "Epoch 1/3\n",
      "442/442 [==============================] - 256s 578ms/step - loss: 0.1021\n",
      "Epoch 2/3\n",
      "442/442 [==============================] - 9s 20ms/step - loss: 0.0332\n",
      "Epoch 3/3\n",
      "442/442 [==============================] - 9s 20ms/step - loss: 0.0240\n",
      "AVY\n",
      "no data for: AVY\n",
      "BHI\n",
      "no data for: BHI\n",
      "BLL\n"
     ]
    },
    {
     "name": "stderr",
     "output_type": "stream",
     "text": [
      "C:\\Users\\AQi\\AppData\\Local\\Continuum\\anaconda\\lib\\site-packages\\ipykernel_launcher.py:7: SettingWithCopyWarning: \n",
      "A value is trying to be set on a copy of a slice from a DataFrame.\n",
      "Try using .loc[row_indexer,col_indexer] = value instead\n",
      "\n",
      "See the caveats in the documentation: http://pandas.pydata.org/pandas-docs/stable/indexing.html#indexing-view-versus-copy\n",
      "  import sys\n",
      "C:\\Users\\AQi\\AppData\\Local\\Continuum\\anaconda\\lib\\site-packages\\ipykernel_launcher.py:8: SettingWithCopyWarning: \n",
      "A value is trying to be set on a copy of a slice from a DataFrame.\n",
      "Try using .loc[row_indexer,col_indexer] = value instead\n",
      "\n",
      "See the caveats in the documentation: http://pandas.pydata.org/pandas-docs/stable/indexing.html#indexing-view-versus-copy\n",
      "  \n"
     ]
    },
    {
     "name": "stdout",
     "output_type": "stream",
     "text": [
      "Epoch 1/3\n",
      "442/442 [==============================] - 249s 563ms/step - loss: 0.0333\n",
      "Epoch 2/3\n",
      "442/442 [==============================] - 9s 20ms/step - loss: 0.0089\n",
      "Epoch 3/3\n",
      "442/442 [==============================] - 9s 20ms/step - loss: 0.0068\n",
      "BAC\n"
     ]
    },
    {
     "name": "stderr",
     "output_type": "stream",
     "text": [
      "C:\\Users\\AQi\\AppData\\Local\\Continuum\\anaconda\\lib\\site-packages\\ipykernel_launcher.py:7: SettingWithCopyWarning: \n",
      "A value is trying to be set on a copy of a slice from a DataFrame.\n",
      "Try using .loc[row_indexer,col_indexer] = value instead\n",
      "\n",
      "See the caveats in the documentation: http://pandas.pydata.org/pandas-docs/stable/indexing.html#indexing-view-versus-copy\n",
      "  import sys\n",
      "C:\\Users\\AQi\\AppData\\Local\\Continuum\\anaconda\\lib\\site-packages\\ipykernel_launcher.py:8: SettingWithCopyWarning: \n",
      "A value is trying to be set on a copy of a slice from a DataFrame.\n",
      "Try using .loc[row_indexer,col_indexer] = value instead\n",
      "\n",
      "See the caveats in the documentation: http://pandas.pydata.org/pandas-docs/stable/indexing.html#indexing-view-versus-copy\n",
      "  \n"
     ]
    },
    {
     "name": "stdout",
     "output_type": "stream",
     "text": [
      "Epoch 1/3\n",
      "442/442 [==============================] - 255s 577ms/step - loss: 0.1384\n",
      "Epoch 2/3\n",
      "442/442 [==============================] - 9s 21ms/step - loss: 0.0356\n",
      "Epoch 3/3\n",
      "442/442 [==============================] - 9s 21ms/step - loss: 0.0207\n",
      "BK\n"
     ]
    },
    {
     "name": "stderr",
     "output_type": "stream",
     "text": [
      "C:\\Users\\AQi\\AppData\\Local\\Continuum\\anaconda\\lib\\site-packages\\ipykernel_launcher.py:7: SettingWithCopyWarning: \n",
      "A value is trying to be set on a copy of a slice from a DataFrame.\n",
      "Try using .loc[row_indexer,col_indexer] = value instead\n",
      "\n",
      "See the caveats in the documentation: http://pandas.pydata.org/pandas-docs/stable/indexing.html#indexing-view-versus-copy\n",
      "  import sys\n",
      "C:\\Users\\AQi\\AppData\\Local\\Continuum\\anaconda\\lib\\site-packages\\ipykernel_launcher.py:8: SettingWithCopyWarning: \n",
      "A value is trying to be set on a copy of a slice from a DataFrame.\n",
      "Try using .loc[row_indexer,col_indexer] = value instead\n",
      "\n",
      "See the caveats in the documentation: http://pandas.pydata.org/pandas-docs/stable/indexing.html#indexing-view-versus-copy\n",
      "  \n"
     ]
    },
    {
     "name": "stdout",
     "output_type": "stream",
     "text": [
      "Epoch 1/3\n",
      "442/442 [==============================] - 265s 600ms/step - loss: 0.1400\n",
      "Epoch 2/3\n",
      "442/442 [==============================] - 9s 21ms/step - loss: 0.0251\n",
      "Epoch 3/3\n",
      "442/442 [==============================] - 9s 21ms/step - loss: 0.0155\n",
      "BCR\n",
      "no data for: BCR\n",
      "BXLT\n",
      "no data for: BXLT\n",
      "BAX\n"
     ]
    },
    {
     "name": "stderr",
     "output_type": "stream",
     "text": [
      "C:\\Users\\AQi\\AppData\\Local\\Continuum\\anaconda\\lib\\site-packages\\ipykernel_launcher.py:7: SettingWithCopyWarning: \n",
      "A value is trying to be set on a copy of a slice from a DataFrame.\n",
      "Try using .loc[row_indexer,col_indexer] = value instead\n",
      "\n",
      "See the caveats in the documentation: http://pandas.pydata.org/pandas-docs/stable/indexing.html#indexing-view-versus-copy\n",
      "  import sys\n",
      "C:\\Users\\AQi\\AppData\\Local\\Continuum\\anaconda\\lib\\site-packages\\ipykernel_launcher.py:8: SettingWithCopyWarning: \n",
      "A value is trying to be set on a copy of a slice from a DataFrame.\n",
      "Try using .loc[row_indexer,col_indexer] = value instead\n",
      "\n",
      "See the caveats in the documentation: http://pandas.pydata.org/pandas-docs/stable/indexing.html#indexing-view-versus-copy\n",
      "  \n"
     ]
    },
    {
     "name": "stdout",
     "output_type": "stream",
     "text": [
      "Epoch 1/3\n",
      "442/442 [==============================] - 265s 599ms/step - loss: 0.0837\n",
      "Epoch 2/3\n",
      "442/442 [==============================] - 9s 21ms/step - loss: 0.0238\n",
      "Epoch 3/3\n",
      "442/442 [==============================] - 9s 21ms/step - loss: 0.0182\n",
      "BBT\n"
     ]
    },
    {
     "name": "stderr",
     "output_type": "stream",
     "text": [
      "C:\\Users\\AQi\\AppData\\Local\\Continuum\\anaconda\\lib\\site-packages\\ipykernel_launcher.py:7: SettingWithCopyWarning: \n",
      "A value is trying to be set on a copy of a slice from a DataFrame.\n",
      "Try using .loc[row_indexer,col_indexer] = value instead\n",
      "\n",
      "See the caveats in the documentation: http://pandas.pydata.org/pandas-docs/stable/indexing.html#indexing-view-versus-copy\n",
      "  import sys\n",
      "C:\\Users\\AQi\\AppData\\Local\\Continuum\\anaconda\\lib\\site-packages\\ipykernel_launcher.py:8: SettingWithCopyWarning: \n",
      "A value is trying to be set on a copy of a slice from a DataFrame.\n",
      "Try using .loc[row_indexer,col_indexer] = value instead\n",
      "\n",
      "See the caveats in the documentation: http://pandas.pydata.org/pandas-docs/stable/indexing.html#indexing-view-versus-copy\n",
      "  \n"
     ]
    },
    {
     "name": "stdout",
     "output_type": "stream",
     "text": [
      "Epoch 1/3\n",
      "442/442 [==============================] - 271s 614ms/step - loss: 0.1316\n",
      "Epoch 2/3\n",
      "442/442 [==============================] - 9s 21ms/step - loss: 0.0280\n",
      "Epoch 3/3\n",
      "442/442 [==============================] - 9s 21ms/step - loss: 0.0218\n",
      "BDX\n"
     ]
    },
    {
     "name": "stderr",
     "output_type": "stream",
     "text": [
      "C:\\Users\\AQi\\AppData\\Local\\Continuum\\anaconda\\lib\\site-packages\\ipykernel_launcher.py:7: SettingWithCopyWarning: \n",
      "A value is trying to be set on a copy of a slice from a DataFrame.\n",
      "Try using .loc[row_indexer,col_indexer] = value instead\n",
      "\n",
      "See the caveats in the documentation: http://pandas.pydata.org/pandas-docs/stable/indexing.html#indexing-view-versus-copy\n",
      "  import sys\n",
      "C:\\Users\\AQi\\AppData\\Local\\Continuum\\anaconda\\lib\\site-packages\\ipykernel_launcher.py:8: SettingWithCopyWarning: \n",
      "A value is trying to be set on a copy of a slice from a DataFrame.\n",
      "Try using .loc[row_indexer,col_indexer] = value instead\n",
      "\n",
      "See the caveats in the documentation: http://pandas.pydata.org/pandas-docs/stable/indexing.html#indexing-view-versus-copy\n",
      "  \n"
     ]
    },
    {
     "name": "stdout",
     "output_type": "stream",
     "text": [
      "Epoch 1/3\n",
      "442/442 [==============================] - 289s 653ms/step - loss: 0.0363\n",
      "Epoch 2/3\n",
      "442/442 [==============================] - 10s 22ms/step - loss: 0.0108\n",
      "Epoch 3/3\n",
      "442/442 [==============================] - 10s 23ms/step - loss: 0.0080\n",
      "BBBY\n"
     ]
    },
    {
     "name": "stderr",
     "output_type": "stream",
     "text": [
      "C:\\Users\\AQi\\AppData\\Local\\Continuum\\anaconda\\lib\\site-packages\\ipykernel_launcher.py:7: SettingWithCopyWarning: \n",
      "A value is trying to be set on a copy of a slice from a DataFrame.\n",
      "Try using .loc[row_indexer,col_indexer] = value instead\n",
      "\n",
      "See the caveats in the documentation: http://pandas.pydata.org/pandas-docs/stable/indexing.html#indexing-view-versus-copy\n",
      "  import sys\n",
      "C:\\Users\\AQi\\AppData\\Local\\Continuum\\anaconda\\lib\\site-packages\\ipykernel_launcher.py:8: SettingWithCopyWarning: \n",
      "A value is trying to be set on a copy of a slice from a DataFrame.\n",
      "Try using .loc[row_indexer,col_indexer] = value instead\n",
      "\n",
      "See the caveats in the documentation: http://pandas.pydata.org/pandas-docs/stable/indexing.html#indexing-view-versus-copy\n",
      "  \n"
     ]
    },
    {
     "name": "stdout",
     "output_type": "stream",
     "text": [
      "Epoch 1/3\n",
      "442/442 [==============================] - 284s 643ms/step - loss: 0.1422\n",
      "Epoch 2/3\n",
      "442/442 [==============================] - 10s 22ms/step - loss: 0.0256\n",
      "Epoch 3/3\n",
      "442/442 [==============================] - 12s 26ms/step - loss: 0.0157\n",
      "BRK-B\n"
     ]
    },
    {
     "name": "stderr",
     "output_type": "stream",
     "text": [
      "C:\\Users\\AQi\\AppData\\Local\\Continuum\\anaconda\\lib\\site-packages\\ipykernel_launcher.py:7: SettingWithCopyWarning: \n",
      "A value is trying to be set on a copy of a slice from a DataFrame.\n",
      "Try using .loc[row_indexer,col_indexer] = value instead\n",
      "\n",
      "See the caveats in the documentation: http://pandas.pydata.org/pandas-docs/stable/indexing.html#indexing-view-versus-copy\n",
      "  import sys\n",
      "C:\\Users\\AQi\\AppData\\Local\\Continuum\\anaconda\\lib\\site-packages\\ipykernel_launcher.py:8: SettingWithCopyWarning: \n",
      "A value is trying to be set on a copy of a slice from a DataFrame.\n",
      "Try using .loc[row_indexer,col_indexer] = value instead\n",
      "\n",
      "See the caveats in the documentation: http://pandas.pydata.org/pandas-docs/stable/indexing.html#indexing-view-versus-copy\n",
      "  \n"
     ]
    },
    {
     "name": "stdout",
     "output_type": "stream",
     "text": [
      "Epoch 1/3\n",
      "442/442 [==============================] - 293s 663ms/step - loss: 0.1027\n",
      "Epoch 2/3\n",
      "442/442 [==============================] - 10s 23ms/step - loss: 0.0235\n",
      "Epoch 3/3\n",
      "442/442 [==============================] - 12s 27ms/step - loss: 0.0153\n",
      "BBY\n"
     ]
    },
    {
     "name": "stderr",
     "output_type": "stream",
     "text": [
      "C:\\Users\\AQi\\AppData\\Local\\Continuum\\anaconda\\lib\\site-packages\\ipykernel_launcher.py:7: SettingWithCopyWarning: \n",
      "A value is trying to be set on a copy of a slice from a DataFrame.\n",
      "Try using .loc[row_indexer,col_indexer] = value instead\n",
      "\n",
      "See the caveats in the documentation: http://pandas.pydata.org/pandas-docs/stable/indexing.html#indexing-view-versus-copy\n",
      "  import sys\n",
      "C:\\Users\\AQi\\AppData\\Local\\Continuum\\anaconda\\lib\\site-packages\\ipykernel_launcher.py:8: SettingWithCopyWarning: \n",
      "A value is trying to be set on a copy of a slice from a DataFrame.\n",
      "Try using .loc[row_indexer,col_indexer] = value instead\n",
      "\n",
      "See the caveats in the documentation: http://pandas.pydata.org/pandas-docs/stable/indexing.html#indexing-view-versus-copy\n",
      "  \n"
     ]
    },
    {
     "name": "stdout",
     "output_type": "stream",
     "text": [
      "Epoch 1/3\n",
      "442/442 [==============================] - 295s 667ms/step - loss: 0.0637\n",
      "Epoch 2/3\n",
      "442/442 [==============================] - 10s 22ms/step - loss: 0.0111\n",
      "Epoch 3/3\n",
      "442/442 [==============================] - 10s 22ms/step - loss: 0.0060\n",
      "BLX\n"
     ]
    },
    {
     "name": "stderr",
     "output_type": "stream",
     "text": [
      "C:\\Users\\AQi\\AppData\\Local\\Continuum\\anaconda\\lib\\site-packages\\ipykernel_launcher.py:7: SettingWithCopyWarning: \n",
      "A value is trying to be set on a copy of a slice from a DataFrame.\n",
      "Try using .loc[row_indexer,col_indexer] = value instead\n",
      "\n",
      "See the caveats in the documentation: http://pandas.pydata.org/pandas-docs/stable/indexing.html#indexing-view-versus-copy\n",
      "  import sys\n",
      "C:\\Users\\AQi\\AppData\\Local\\Continuum\\anaconda\\lib\\site-packages\\ipykernel_launcher.py:8: SettingWithCopyWarning: \n",
      "A value is trying to be set on a copy of a slice from a DataFrame.\n",
      "Try using .loc[row_indexer,col_indexer] = value instead\n",
      "\n",
      "See the caveats in the documentation: http://pandas.pydata.org/pandas-docs/stable/indexing.html#indexing-view-versus-copy\n",
      "  \n"
     ]
    },
    {
     "name": "stdout",
     "output_type": "stream",
     "text": [
      "Epoch 1/3\n",
      "442/442 [==============================] - 293s 663ms/step - loss: 0.1275\n",
      "Epoch 2/3\n",
      "442/442 [==============================] - 10s 22ms/step - loss: 0.0256\n",
      "Epoch 3/3\n",
      "442/442 [==============================] - 10s 22ms/step - loss: 0.0145\n",
      "HRB\n"
     ]
    },
    {
     "name": "stderr",
     "output_type": "stream",
     "text": [
      "C:\\Users\\AQi\\AppData\\Local\\Continuum\\anaconda\\lib\\site-packages\\ipykernel_launcher.py:7: SettingWithCopyWarning: \n",
      "A value is trying to be set on a copy of a slice from a DataFrame.\n",
      "Try using .loc[row_indexer,col_indexer] = value instead\n",
      "\n",
      "See the caveats in the documentation: http://pandas.pydata.org/pandas-docs/stable/indexing.html#indexing-view-versus-copy\n",
      "  import sys\n",
      "C:\\Users\\AQi\\AppData\\Local\\Continuum\\anaconda\\lib\\site-packages\\ipykernel_launcher.py:8: SettingWithCopyWarning: \n",
      "A value is trying to be set on a copy of a slice from a DataFrame.\n",
      "Try using .loc[row_indexer,col_indexer] = value instead\n",
      "\n",
      "See the caveats in the documentation: http://pandas.pydata.org/pandas-docs/stable/indexing.html#indexing-view-versus-copy\n",
      "  \n"
     ]
    },
    {
     "name": "stdout",
     "output_type": "stream",
     "text": [
      "Epoch 1/3\n",
      "442/442 [==============================] - 295s 667ms/step - loss: 0.1199\n",
      "Epoch 2/3\n",
      "442/442 [==============================] - 10s 22ms/step - loss: 0.0141\n",
      "Epoch 3/3\n",
      "442/442 [==============================] - 9s 21ms/step - loss: 0.0091\n",
      "BA\n"
     ]
    },
    {
     "name": "stderr",
     "output_type": "stream",
     "text": [
      "C:\\Users\\AQi\\AppData\\Local\\Continuum\\anaconda\\lib\\site-packages\\ipykernel_launcher.py:7: SettingWithCopyWarning: \n",
      "A value is trying to be set on a copy of a slice from a DataFrame.\n",
      "Try using .loc[row_indexer,col_indexer] = value instead\n",
      "\n",
      "See the caveats in the documentation: http://pandas.pydata.org/pandas-docs/stable/indexing.html#indexing-view-versus-copy\n",
      "  import sys\n",
      "C:\\Users\\AQi\\AppData\\Local\\Continuum\\anaconda\\lib\\site-packages\\ipykernel_launcher.py:8: SettingWithCopyWarning: \n",
      "A value is trying to be set on a copy of a slice from a DataFrame.\n",
      "Try using .loc[row_indexer,col_indexer] = value instead\n",
      "\n",
      "See the caveats in the documentation: http://pandas.pydata.org/pandas-docs/stable/indexing.html#indexing-view-versus-copy\n",
      "  \n"
     ]
    },
    {
     "name": "stdout",
     "output_type": "stream",
     "text": [
      "Epoch 1/3\n",
      "442/442 [==============================] - 302s 684ms/step - loss: 0.0452\n",
      "Epoch 2/3\n",
      "442/442 [==============================] - 10s 23ms/step - loss: 0.0103\n",
      "Epoch 3/3\n",
      "442/442 [==============================] - 10s 23ms/step - loss: 0.0063\n",
      "BWA\n"
     ]
    },
    {
     "name": "stderr",
     "output_type": "stream",
     "text": [
      "C:\\Users\\AQi\\AppData\\Local\\Continuum\\anaconda\\lib\\site-packages\\ipykernel_launcher.py:7: SettingWithCopyWarning: \n",
      "A value is trying to be set on a copy of a slice from a DataFrame.\n",
      "Try using .loc[row_indexer,col_indexer] = value instead\n",
      "\n",
      "See the caveats in the documentation: http://pandas.pydata.org/pandas-docs/stable/indexing.html#indexing-view-versus-copy\n",
      "  import sys\n",
      "C:\\Users\\AQi\\AppData\\Local\\Continuum\\anaconda\\lib\\site-packages\\ipykernel_launcher.py:8: SettingWithCopyWarning: \n",
      "A value is trying to be set on a copy of a slice from a DataFrame.\n",
      "Try using .loc[row_indexer,col_indexer] = value instead\n",
      "\n",
      "See the caveats in the documentation: http://pandas.pydata.org/pandas-docs/stable/indexing.html#indexing-view-versus-copy\n",
      "  \n"
     ]
    },
    {
     "name": "stdout",
     "output_type": "stream",
     "text": [
      "Epoch 1/3\n",
      "442/442 [==============================] - 301s 680ms/step - loss: 0.1101\n",
      "Epoch 2/3\n",
      "442/442 [==============================] - 10s 23ms/step - loss: 0.0255\n",
      "Epoch 3/3\n",
      "442/442 [==============================] - 10s 22ms/step - loss: 0.0185\n",
      "BXP\n"
     ]
    },
    {
     "name": "stderr",
     "output_type": "stream",
     "text": [
      "C:\\Users\\AQi\\AppData\\Local\\Continuum\\anaconda\\lib\\site-packages\\ipykernel_launcher.py:7: SettingWithCopyWarning: \n",
      "A value is trying to be set on a copy of a slice from a DataFrame.\n",
      "Try using .loc[row_indexer,col_indexer] = value instead\n",
      "\n",
      "See the caveats in the documentation: http://pandas.pydata.org/pandas-docs/stable/indexing.html#indexing-view-versus-copy\n",
      "  import sys\n",
      "C:\\Users\\AQi\\AppData\\Local\\Continuum\\anaconda\\lib\\site-packages\\ipykernel_launcher.py:8: SettingWithCopyWarning: \n",
      "A value is trying to be set on a copy of a slice from a DataFrame.\n",
      "Try using .loc[row_indexer,col_indexer] = value instead\n",
      "\n",
      "See the caveats in the documentation: http://pandas.pydata.org/pandas-docs/stable/indexing.html#indexing-view-versus-copy\n",
      "  \n"
     ]
    },
    {
     "name": "stdout",
     "output_type": "stream",
     "text": [
      "Epoch 1/3\n",
      "442/442 [==============================] - 324s 733ms/step - loss: 0.1244\n",
      "Epoch 2/3\n",
      "442/442 [==============================] - 10s 24ms/step - loss: 0.0234\n",
      "Epoch 3/3\n",
      "442/442 [==============================] - 11s 24ms/step - loss: 0.0169\n",
      "BSK\n",
      "no data for: BSK\n",
      "BMY\n"
     ]
    },
    {
     "name": "stderr",
     "output_type": "stream",
     "text": [
      "C:\\Users\\AQi\\AppData\\Local\\Continuum\\anaconda\\lib\\site-packages\\ipykernel_launcher.py:7: SettingWithCopyWarning: \n",
      "A value is trying to be set on a copy of a slice from a DataFrame.\n",
      "Try using .loc[row_indexer,col_indexer] = value instead\n",
      "\n",
      "See the caveats in the documentation: http://pandas.pydata.org/pandas-docs/stable/indexing.html#indexing-view-versus-copy\n",
      "  import sys\n",
      "C:\\Users\\AQi\\AppData\\Local\\Continuum\\anaconda\\lib\\site-packages\\ipykernel_launcher.py:8: SettingWithCopyWarning: \n",
      "A value is trying to be set on a copy of a slice from a DataFrame.\n",
      "Try using .loc[row_indexer,col_indexer] = value instead\n",
      "\n",
      "See the caveats in the documentation: http://pandas.pydata.org/pandas-docs/stable/indexing.html#indexing-view-versus-copy\n",
      "  \n"
     ]
    },
    {
     "name": "stdout",
     "output_type": "stream",
     "text": [
      "Epoch 1/3\n",
      "442/442 [==============================] - 330s 746ms/step - loss: 0.2353\n",
      "Epoch 2/3\n",
      "442/442 [==============================] - 10s 23ms/step - loss: 0.0277\n",
      "Epoch 3/3\n",
      "442/442 [==============================] - 10s 23ms/step - loss: 0.0148\n",
      "BRCM\n",
      "no data for: BRCM\n",
      "BF-B\n"
     ]
    },
    {
     "name": "stderr",
     "output_type": "stream",
     "text": [
      "C:\\Users\\AQi\\AppData\\Local\\Continuum\\anaconda\\lib\\site-packages\\ipykernel_launcher.py:7: SettingWithCopyWarning: \n",
      "A value is trying to be set on a copy of a slice from a DataFrame.\n",
      "Try using .loc[row_indexer,col_indexer] = value instead\n",
      "\n",
      "See the caveats in the documentation: http://pandas.pydata.org/pandas-docs/stable/indexing.html#indexing-view-versus-copy\n",
      "  import sys\n",
      "C:\\Users\\AQi\\AppData\\Local\\Continuum\\anaconda\\lib\\site-packages\\ipykernel_launcher.py:8: SettingWithCopyWarning: \n",
      "A value is trying to be set on a copy of a slice from a DataFrame.\n",
      "Try using .loc[row_indexer,col_indexer] = value instead\n",
      "\n",
      "See the caveats in the documentation: http://pandas.pydata.org/pandas-docs/stable/indexing.html#indexing-view-versus-copy\n",
      "  \n"
     ]
    },
    {
     "name": "stdout",
     "output_type": "stream",
     "text": [
      "Epoch 1/3\n",
      "442/442 [==============================] - 348s 788ms/step - loss: 0.0752\n",
      "Epoch 2/3\n",
      "442/442 [==============================] - 11s 25ms/step - loss: 0.0159\n",
      "Epoch 3/3\n",
      "442/442 [==============================] - 11s 24ms/step - loss: 0.0095\n",
      "CHRW\n"
     ]
    },
    {
     "name": "stderr",
     "output_type": "stream",
     "text": [
      "C:\\Users\\AQi\\AppData\\Local\\Continuum\\anaconda\\lib\\site-packages\\ipykernel_launcher.py:7: SettingWithCopyWarning: \n",
      "A value is trying to be set on a copy of a slice from a DataFrame.\n",
      "Try using .loc[row_indexer,col_indexer] = value instead\n",
      "\n",
      "See the caveats in the documentation: http://pandas.pydata.org/pandas-docs/stable/indexing.html#indexing-view-versus-copy\n",
      "  import sys\n",
      "C:\\Users\\AQi\\AppData\\Local\\Continuum\\anaconda\\lib\\site-packages\\ipykernel_launcher.py:8: SettingWithCopyWarning: \n",
      "A value is trying to be set on a copy of a slice from a DataFrame.\n",
      "Try using .loc[row_indexer,col_indexer] = value instead\n",
      "\n",
      "See the caveats in the documentation: http://pandas.pydata.org/pandas-docs/stable/indexing.html#indexing-view-versus-copy\n",
      "  \n"
     ]
    },
    {
     "name": "stdout",
     "output_type": "stream",
     "text": [
      "Epoch 1/3\n",
      "442/442 [==============================] - 342s 773ms/step - loss: 0.1362\n",
      "Epoch 2/3\n",
      "442/442 [==============================] - 10s 24ms/step - loss: 0.0288\n",
      "Epoch 3/3\n",
      "442/442 [==============================] - 10s 24ms/step - loss: 0.0182\n",
      "CA\n",
      "no data for: CA\n",
      "CVC\n",
      "no data for: CVC\n",
      "COG\n"
     ]
    },
    {
     "name": "stderr",
     "output_type": "stream",
     "text": [
      "C:\\Users\\AQi\\AppData\\Local\\Continuum\\anaconda\\lib\\site-packages\\ipykernel_launcher.py:7: SettingWithCopyWarning: \n",
      "A value is trying to be set on a copy of a slice from a DataFrame.\n",
      "Try using .loc[row_indexer,col_indexer] = value instead\n",
      "\n",
      "See the caveats in the documentation: http://pandas.pydata.org/pandas-docs/stable/indexing.html#indexing-view-versus-copy\n",
      "  import sys\n",
      "C:\\Users\\AQi\\AppData\\Local\\Continuum\\anaconda\\lib\\site-packages\\ipykernel_launcher.py:8: SettingWithCopyWarning: \n",
      "A value is trying to be set on a copy of a slice from a DataFrame.\n",
      "Try using .loc[row_indexer,col_indexer] = value instead\n",
      "\n",
      "See the caveats in the documentation: http://pandas.pydata.org/pandas-docs/stable/indexing.html#indexing-view-versus-copy\n",
      "  \n"
     ]
    },
    {
     "name": "stdout",
     "output_type": "stream",
     "text": [
      "Epoch 1/3\n",
      "442/442 [==============================] - 344s 778ms/step - loss: 0.0794\n",
      "Epoch 2/3\n",
      "442/442 [==============================] - 11s 25ms/step - loss: 0.0206\n",
      "Epoch 3/3\n",
      "442/442 [==============================] - 11s 25ms/step - loss: 0.0148\n",
      "CAM\n",
      "no data for: CAM\n",
      "CPB\n"
     ]
    },
    {
     "name": "stderr",
     "output_type": "stream",
     "text": [
      "C:\\Users\\AQi\\AppData\\Local\\Continuum\\anaconda\\lib\\site-packages\\ipykernel_launcher.py:7: SettingWithCopyWarning: \n",
      "A value is trying to be set on a copy of a slice from a DataFrame.\n",
      "Try using .loc[row_indexer,col_indexer] = value instead\n",
      "\n",
      "See the caveats in the documentation: http://pandas.pydata.org/pandas-docs/stable/indexing.html#indexing-view-versus-copy\n",
      "  import sys\n",
      "C:\\Users\\AQi\\AppData\\Local\\Continuum\\anaconda\\lib\\site-packages\\ipykernel_launcher.py:8: SettingWithCopyWarning: \n",
      "A value is trying to be set on a copy of a slice from a DataFrame.\n",
      "Try using .loc[row_indexer,col_indexer] = value instead\n",
      "\n",
      "See the caveats in the documentation: http://pandas.pydata.org/pandas-docs/stable/indexing.html#indexing-view-versus-copy\n",
      "  \n"
     ]
    },
    {
     "name": "stdout",
     "output_type": "stream",
     "text": [
      "Epoch 1/3\n",
      "442/442 [==============================] - 362s 818ms/step - loss: 0.0982\n",
      "Epoch 2/3\n",
      "442/442 [==============================] - 11s 24ms/step - loss: 0.0182\n",
      "Epoch 3/3\n",
      "442/442 [==============================] - 11s 24ms/step - loss: 0.0128\n",
      "COF\n"
     ]
    },
    {
     "name": "stderr",
     "output_type": "stream",
     "text": [
      "C:\\Users\\AQi\\AppData\\Local\\Continuum\\anaconda\\lib\\site-packages\\ipykernel_launcher.py:7: SettingWithCopyWarning: \n",
      "A value is trying to be set on a copy of a slice from a DataFrame.\n",
      "Try using .loc[row_indexer,col_indexer] = value instead\n",
      "\n",
      "See the caveats in the documentation: http://pandas.pydata.org/pandas-docs/stable/indexing.html#indexing-view-versus-copy\n",
      "  import sys\n",
      "C:\\Users\\AQi\\AppData\\Local\\Continuum\\anaconda\\lib\\site-packages\\ipykernel_launcher.py:8: SettingWithCopyWarning: \n",
      "A value is trying to be set on a copy of a slice from a DataFrame.\n",
      "Try using .loc[row_indexer,col_indexer] = value instead\n",
      "\n",
      "See the caveats in the documentation: http://pandas.pydata.org/pandas-docs/stable/indexing.html#indexing-view-versus-copy\n",
      "  \n"
     ]
    },
    {
     "name": "stdout",
     "output_type": "stream",
     "text": [
      "Epoch 1/3\n",
      "442/442 [==============================] - 360s 814ms/step - loss: 0.0583\n",
      "Epoch 2/3\n",
      "442/442 [==============================] - 11s 25ms/step - loss: 0.0163\n",
      "Epoch 3/3\n",
      "442/442 [==============================] - 12s 27ms/step - loss: 0.0113\n",
      "CAH\n"
     ]
    },
    {
     "name": "stderr",
     "output_type": "stream",
     "text": [
      "C:\\Users\\AQi\\AppData\\Local\\Continuum\\anaconda\\lib\\site-packages\\ipykernel_launcher.py:7: SettingWithCopyWarning: \n",
      "A value is trying to be set on a copy of a slice from a DataFrame.\n",
      "Try using .loc[row_indexer,col_indexer] = value instead\n",
      "\n",
      "See the caveats in the documentation: http://pandas.pydata.org/pandas-docs/stable/indexing.html#indexing-view-versus-copy\n",
      "  import sys\n",
      "C:\\Users\\AQi\\AppData\\Local\\Continuum\\anaconda\\lib\\site-packages\\ipykernel_launcher.py:8: SettingWithCopyWarning: \n",
      "A value is trying to be set on a copy of a slice from a DataFrame.\n",
      "Try using .loc[row_indexer,col_indexer] = value instead\n",
      "\n",
      "See the caveats in the documentation: http://pandas.pydata.org/pandas-docs/stable/indexing.html#indexing-view-versus-copy\n",
      "  \n"
     ]
    },
    {
     "name": "stdout",
     "output_type": "stream",
     "text": [
      "Epoch 1/3\n",
      "442/442 [==============================] - 357s 808ms/step - loss: 0.1735\n",
      "Epoch 2/3\n",
      "442/442 [==============================] - 11s 25ms/step - loss: 0.0317\n",
      "Epoch 3/3\n",
      "442/442 [==============================] - 11s 25ms/step - loss: 0.0180\n",
      "HSIC\n"
     ]
    },
    {
     "name": "stderr",
     "output_type": "stream",
     "text": [
      "C:\\Users\\AQi\\AppData\\Local\\Continuum\\anaconda\\lib\\site-packages\\ipykernel_launcher.py:7: SettingWithCopyWarning: \n",
      "A value is trying to be set on a copy of a slice from a DataFrame.\n",
      "Try using .loc[row_indexer,col_indexer] = value instead\n",
      "\n",
      "See the caveats in the documentation: http://pandas.pydata.org/pandas-docs/stable/indexing.html#indexing-view-versus-copy\n",
      "  import sys\n",
      "C:\\Users\\AQi\\AppData\\Local\\Continuum\\anaconda\\lib\\site-packages\\ipykernel_launcher.py:8: SettingWithCopyWarning: \n",
      "A value is trying to be set on a copy of a slice from a DataFrame.\n",
      "Try using .loc[row_indexer,col_indexer] = value instead\n",
      "\n",
      "See the caveats in the documentation: http://pandas.pydata.org/pandas-docs/stable/indexing.html#indexing-view-versus-copy\n",
      "  \n"
     ]
    },
    {
     "name": "stdout",
     "output_type": "stream",
     "text": [
      "Epoch 1/3\n",
      "442/442 [==============================] - 389s 880ms/step - loss: 0.1483\n",
      "Epoch 2/3\n",
      "442/442 [==============================] - 11s 26ms/step - loss: 0.0244\n",
      "Epoch 3/3\n",
      "442/442 [==============================] - 11s 25ms/step - loss: 0.0149\n",
      "KMX\n"
     ]
    },
    {
     "name": "stderr",
     "output_type": "stream",
     "text": [
      "C:\\Users\\AQi\\AppData\\Local\\Continuum\\anaconda\\lib\\site-packages\\ipykernel_launcher.py:7: SettingWithCopyWarning: \n",
      "A value is trying to be set on a copy of a slice from a DataFrame.\n",
      "Try using .loc[row_indexer,col_indexer] = value instead\n",
      "\n",
      "See the caveats in the documentation: http://pandas.pydata.org/pandas-docs/stable/indexing.html#indexing-view-versus-copy\n",
      "  import sys\n",
      "C:\\Users\\AQi\\AppData\\Local\\Continuum\\anaconda\\lib\\site-packages\\ipykernel_launcher.py:8: SettingWithCopyWarning: \n",
      "A value is trying to be set on a copy of a slice from a DataFrame.\n",
      "Try using .loc[row_indexer,col_indexer] = value instead\n",
      "\n",
      "See the caveats in the documentation: http://pandas.pydata.org/pandas-docs/stable/indexing.html#indexing-view-versus-copy\n",
      "  \n"
     ]
    },
    {
     "name": "stdout",
     "output_type": "stream",
     "text": [
      "Epoch 1/3\n",
      "442/442 [==============================] - 463s 1s/step - loss: 0.0747\n",
      "Epoch 2/3\n",
      "442/442 [==============================] - 11s 25ms/step - loss: 0.0172\n",
      "Epoch 3/3\n",
      "442/442 [==============================] - 11s 25ms/step - loss: 0.0133\n",
      "CCL\n"
     ]
    },
    {
     "name": "stderr",
     "output_type": "stream",
     "text": [
      "C:\\Users\\AQi\\AppData\\Local\\Continuum\\anaconda\\lib\\site-packages\\ipykernel_launcher.py:7: SettingWithCopyWarning: \n",
      "A value is trying to be set on a copy of a slice from a DataFrame.\n",
      "Try using .loc[row_indexer,col_indexer] = value instead\n",
      "\n",
      "See the caveats in the documentation: http://pandas.pydata.org/pandas-docs/stable/indexing.html#indexing-view-versus-copy\n",
      "  import sys\n",
      "C:\\Users\\AQi\\AppData\\Local\\Continuum\\anaconda\\lib\\site-packages\\ipykernel_launcher.py:8: SettingWithCopyWarning: \n",
      "A value is trying to be set on a copy of a slice from a DataFrame.\n",
      "Try using .loc[row_indexer,col_indexer] = value instead\n",
      "\n",
      "See the caveats in the documentation: http://pandas.pydata.org/pandas-docs/stable/indexing.html#indexing-view-versus-copy\n",
      "  \n"
     ]
    },
    {
     "name": "stdout",
     "output_type": "stream",
     "text": [
      "Epoch 1/3\n",
      "442/442 [==============================] - 390s 881ms/step - loss: 0.1101\n",
      "Epoch 2/3\n",
      "442/442 [==============================] - 12s 26ms/step - loss: 0.0212\n",
      "Epoch 3/3\n",
      "442/442 [==============================] - 11s 26ms/step - loss: 0.0159\n",
      "CAT\n"
     ]
    },
    {
     "name": "stderr",
     "output_type": "stream",
     "text": [
      "C:\\Users\\AQi\\AppData\\Local\\Continuum\\anaconda\\lib\\site-packages\\ipykernel_launcher.py:7: SettingWithCopyWarning: \n",
      "A value is trying to be set on a copy of a slice from a DataFrame.\n",
      "Try using .loc[row_indexer,col_indexer] = value instead\n",
      "\n",
      "See the caveats in the documentation: http://pandas.pydata.org/pandas-docs/stable/indexing.html#indexing-view-versus-copy\n",
      "  import sys\n",
      "C:\\Users\\AQi\\AppData\\Local\\Continuum\\anaconda\\lib\\site-packages\\ipykernel_launcher.py:8: SettingWithCopyWarning: \n",
      "A value is trying to be set on a copy of a slice from a DataFrame.\n",
      "Try using .loc[row_indexer,col_indexer] = value instead\n",
      "\n",
      "See the caveats in the documentation: http://pandas.pydata.org/pandas-docs/stable/indexing.html#indexing-view-versus-copy\n",
      "  \n"
     ]
    },
    {
     "name": "stdout",
     "output_type": "stream",
     "text": [
      "Epoch 1/3\n",
      "442/442 [==============================] - 380s 860ms/step - loss: 0.0680\n",
      "Epoch 2/3\n",
      "442/442 [==============================] - 11s 25ms/step - loss: 0.0160\n",
      "Epoch 3/3\n",
      "442/442 [==============================] - 11s 25ms/step - loss: 0.0144\n",
      "CBG\n",
      "no data for: CBG\n",
      "CBS\n"
     ]
    },
    {
     "name": "stderr",
     "output_type": "stream",
     "text": [
      "C:\\Users\\AQi\\AppData\\Local\\Continuum\\anaconda\\lib\\site-packages\\ipykernel_launcher.py:7: SettingWithCopyWarning: \n",
      "A value is trying to be set on a copy of a slice from a DataFrame.\n",
      "Try using .loc[row_indexer,col_indexer] = value instead\n",
      "\n",
      "See the caveats in the documentation: http://pandas.pydata.org/pandas-docs/stable/indexing.html#indexing-view-versus-copy\n",
      "  import sys\n",
      "C:\\Users\\AQi\\AppData\\Local\\Continuum\\anaconda\\lib\\site-packages\\ipykernel_launcher.py:8: SettingWithCopyWarning: \n",
      "A value is trying to be set on a copy of a slice from a DataFrame.\n",
      "Try using .loc[row_indexer,col_indexer] = value instead\n",
      "\n",
      "See the caveats in the documentation: http://pandas.pydata.org/pandas-docs/stable/indexing.html#indexing-view-versus-copy\n",
      "  \n"
     ]
    },
    {
     "name": "stdout",
     "output_type": "stream",
     "text": [
      "Epoch 1/3\n",
      "442/442 [==============================] - 396s 897ms/step - loss: 0.0957\n",
      "Epoch 2/3\n",
      "442/442 [==============================] - 12s 26ms/step - loss: 0.0283\n",
      "Epoch 3/3\n",
      "442/442 [==============================] - 12s 26ms/step - loss: 0.0235\n",
      "CELG\n"
     ]
    },
    {
     "name": "stderr",
     "output_type": "stream",
     "text": [
      "C:\\Users\\AQi\\AppData\\Local\\Continuum\\anaconda\\lib\\site-packages\\ipykernel_launcher.py:7: SettingWithCopyWarning: \n",
      "A value is trying to be set on a copy of a slice from a DataFrame.\n",
      "Try using .loc[row_indexer,col_indexer] = value instead\n",
      "\n",
      "See the caveats in the documentation: http://pandas.pydata.org/pandas-docs/stable/indexing.html#indexing-view-versus-copy\n",
      "  import sys\n",
      "C:\\Users\\AQi\\AppData\\Local\\Continuum\\anaconda\\lib\\site-packages\\ipykernel_launcher.py:8: SettingWithCopyWarning: \n",
      "A value is trying to be set on a copy of a slice from a DataFrame.\n",
      "Try using .loc[row_indexer,col_indexer] = value instead\n",
      "\n",
      "See the caveats in the documentation: http://pandas.pydata.org/pandas-docs/stable/indexing.html#indexing-view-versus-copy\n",
      "  \n"
     ]
    },
    {
     "name": "stdout",
     "output_type": "stream",
     "text": [
      "Epoch 1/3\n",
      "442/442 [==============================] - 397s 899ms/step - loss: 0.1280\n",
      "Epoch 2/3\n",
      "442/442 [==============================] - 11s 26ms/step - loss: 0.0191\n",
      "Epoch 3/3\n",
      "442/442 [==============================] - 11s 26ms/step - loss: 0.0094\n",
      "CNP\n"
     ]
    },
    {
     "name": "stderr",
     "output_type": "stream",
     "text": [
      "C:\\Users\\AQi\\AppData\\Local\\Continuum\\anaconda\\lib\\site-packages\\ipykernel_launcher.py:7: SettingWithCopyWarning: \n",
      "A value is trying to be set on a copy of a slice from a DataFrame.\n",
      "Try using .loc[row_indexer,col_indexer] = value instead\n",
      "\n",
      "See the caveats in the documentation: http://pandas.pydata.org/pandas-docs/stable/indexing.html#indexing-view-versus-copy\n",
      "  import sys\n",
      "C:\\Users\\AQi\\AppData\\Local\\Continuum\\anaconda\\lib\\site-packages\\ipykernel_launcher.py:8: SettingWithCopyWarning: \n",
      "A value is trying to be set on a copy of a slice from a DataFrame.\n",
      "Try using .loc[row_indexer,col_indexer] = value instead\n",
      "\n",
      "See the caveats in the documentation: http://pandas.pydata.org/pandas-docs/stable/indexing.html#indexing-view-versus-copy\n",
      "  \n"
     ]
    },
    {
     "name": "stdout",
     "output_type": "stream",
     "text": [
      "Epoch 1/3\n",
      "442/442 [==============================] - 407s 920ms/step - loss: 0.1153\n",
      "Epoch 2/3\n",
      "442/442 [==============================] - 12s 27ms/step - loss: 0.0301\n",
      "Epoch 3/3\n",
      "442/442 [==============================] - 12s 27ms/step - loss: 0.0245\n",
      "CTL\n"
     ]
    },
    {
     "name": "stderr",
     "output_type": "stream",
     "text": [
      "C:\\Users\\AQi\\AppData\\Local\\Continuum\\anaconda\\lib\\site-packages\\ipykernel_launcher.py:7: SettingWithCopyWarning: \n",
      "A value is trying to be set on a copy of a slice from a DataFrame.\n",
      "Try using .loc[row_indexer,col_indexer] = value instead\n",
      "\n",
      "See the caveats in the documentation: http://pandas.pydata.org/pandas-docs/stable/indexing.html#indexing-view-versus-copy\n",
      "  import sys\n",
      "C:\\Users\\AQi\\AppData\\Local\\Continuum\\anaconda\\lib\\site-packages\\ipykernel_launcher.py:8: SettingWithCopyWarning: \n",
      "A value is trying to be set on a copy of a slice from a DataFrame.\n",
      "Try using .loc[row_indexer,col_indexer] = value instead\n",
      "\n",
      "See the caveats in the documentation: http://pandas.pydata.org/pandas-docs/stable/indexing.html#indexing-view-versus-copy\n",
      "  \n"
     ]
    },
    {
     "name": "stdout",
     "output_type": "stream",
     "text": [
      "Epoch 1/3\n",
      "442/442 [==============================] - 410s 927ms/step - loss: 0.1123\n",
      "Epoch 2/3\n",
      "442/442 [==============================] - 12s 26ms/step - loss: 0.0191\n",
      "Epoch 3/3\n",
      "442/442 [==============================] - 12s 26ms/step - loss: 0.0109\n",
      "CERN\n"
     ]
    },
    {
     "name": "stderr",
     "output_type": "stream",
     "text": [
      "C:\\Users\\AQi\\AppData\\Local\\Continuum\\anaconda\\lib\\site-packages\\ipykernel_launcher.py:7: SettingWithCopyWarning: \n",
      "A value is trying to be set on a copy of a slice from a DataFrame.\n",
      "Try using .loc[row_indexer,col_indexer] = value instead\n",
      "\n",
      "See the caveats in the documentation: http://pandas.pydata.org/pandas-docs/stable/indexing.html#indexing-view-versus-copy\n",
      "  import sys\n",
      "C:\\Users\\AQi\\AppData\\Local\\Continuum\\anaconda\\lib\\site-packages\\ipykernel_launcher.py:8: SettingWithCopyWarning: \n",
      "A value is trying to be set on a copy of a slice from a DataFrame.\n",
      "Try using .loc[row_indexer,col_indexer] = value instead\n",
      "\n",
      "See the caveats in the documentation: http://pandas.pydata.org/pandas-docs/stable/indexing.html#indexing-view-versus-copy\n",
      "  \n"
     ]
    },
    {
     "name": "stdout",
     "output_type": "stream",
     "text": [
      "Epoch 1/3\n",
      "442/442 [==============================] - 419s 948ms/step - loss: 0.0908\n",
      "Epoch 2/3\n",
      "442/442 [==============================] - 12s 28ms/step - loss: 0.0189\n",
      "Epoch 3/3\n",
      "442/442 [==============================] - 12s 28ms/step - loss: 0.0103\n",
      "CF\n"
     ]
    },
    {
     "name": "stderr",
     "output_type": "stream",
     "text": [
      "C:\\Users\\AQi\\AppData\\Local\\Continuum\\anaconda\\lib\\site-packages\\ipykernel_launcher.py:7: SettingWithCopyWarning: \n",
      "A value is trying to be set on a copy of a slice from a DataFrame.\n",
      "Try using .loc[row_indexer,col_indexer] = value instead\n",
      "\n",
      "See the caveats in the documentation: http://pandas.pydata.org/pandas-docs/stable/indexing.html#indexing-view-versus-copy\n",
      "  import sys\n",
      "C:\\Users\\AQi\\AppData\\Local\\Continuum\\anaconda\\lib\\site-packages\\ipykernel_launcher.py:8: SettingWithCopyWarning: \n",
      "A value is trying to be set on a copy of a slice from a DataFrame.\n",
      "Try using .loc[row_indexer,col_indexer] = value instead\n",
      "\n",
      "See the caveats in the documentation: http://pandas.pydata.org/pandas-docs/stable/indexing.html#indexing-view-versus-copy\n",
      "  \n"
     ]
    },
    {
     "name": "stdout",
     "output_type": "stream",
     "text": [
      "Epoch 1/3\n",
      "442/442 [==============================] - 415s 939ms/step - loss: 0.1007\n",
      "Epoch 2/3\n",
      "442/442 [==============================] - 11s 25ms/step - loss: 0.0294\n",
      "Epoch 3/3\n",
      "442/442 [==============================] - 12s 26ms/step - loss: 0.0234\n",
      "SCHW\n"
     ]
    },
    {
     "name": "stderr",
     "output_type": "stream",
     "text": [
      "C:\\Users\\AQi\\AppData\\Local\\Continuum\\anaconda\\lib\\site-packages\\ipykernel_launcher.py:7: SettingWithCopyWarning: \n",
      "A value is trying to be set on a copy of a slice from a DataFrame.\n",
      "Try using .loc[row_indexer,col_indexer] = value instead\n",
      "\n",
      "See the caveats in the documentation: http://pandas.pydata.org/pandas-docs/stable/indexing.html#indexing-view-versus-copy\n",
      "  import sys\n",
      "C:\\Users\\AQi\\AppData\\Local\\Continuum\\anaconda\\lib\\site-packages\\ipykernel_launcher.py:8: SettingWithCopyWarning: \n",
      "A value is trying to be set on a copy of a slice from a DataFrame.\n",
      "Try using .loc[row_indexer,col_indexer] = value instead\n",
      "\n",
      "See the caveats in the documentation: http://pandas.pydata.org/pandas-docs/stable/indexing.html#indexing-view-versus-copy\n",
      "  \n"
     ]
    },
    {
     "name": "stdout",
     "output_type": "stream",
     "text": [
      "Epoch 1/3\n",
      "442/442 [==============================] - 421s 952ms/step - loss: 0.1064\n",
      "Epoch 2/3\n",
      "442/442 [==============================] - 12s 27ms/step - loss: 0.0248\n",
      "Epoch 3/3\n",
      "442/442 [==============================] - 12s 27ms/step - loss: 0.0144\n",
      "CHK\n"
     ]
    },
    {
     "name": "stderr",
     "output_type": "stream",
     "text": [
      "C:\\Users\\AQi\\AppData\\Local\\Continuum\\anaconda\\lib\\site-packages\\ipykernel_launcher.py:7: SettingWithCopyWarning: \n",
      "A value is trying to be set on a copy of a slice from a DataFrame.\n",
      "Try using .loc[row_indexer,col_indexer] = value instead\n",
      "\n",
      "See the caveats in the documentation: http://pandas.pydata.org/pandas-docs/stable/indexing.html#indexing-view-versus-copy\n",
      "  import sys\n"
     ]
    },
    {
     "name": "stdout",
     "output_type": "stream",
     "text": [
      "no data for: CHK\n",
      "CVX\n"
     ]
    },
    {
     "name": "stderr",
     "output_type": "stream",
     "text": [
      "C:\\Users\\AQi\\AppData\\Local\\Continuum\\anaconda\\lib\\site-packages\\ipykernel_launcher.py:8: SettingWithCopyWarning: \n",
      "A value is trying to be set on a copy of a slice from a DataFrame.\n",
      "Try using .loc[row_indexer,col_indexer] = value instead\n",
      "\n",
      "See the caveats in the documentation: http://pandas.pydata.org/pandas-docs/stable/indexing.html#indexing-view-versus-copy\n",
      "  \n"
     ]
    },
    {
     "name": "stdout",
     "output_type": "stream",
     "text": [
      "Epoch 1/3\n",
      "442/442 [==============================] - 411s 929ms/step - loss: 0.1139\n",
      "Epoch 2/3\n",
      "442/442 [==============================] - 11s 25ms/step - loss: 0.0261\n",
      "Epoch 3/3\n",
      "442/442 [==============================] - 11s 26ms/step - loss: 0.0164\n",
      "CMG\n"
     ]
    },
    {
     "name": "stderr",
     "output_type": "stream",
     "text": [
      "C:\\Users\\AQi\\AppData\\Local\\Continuum\\anaconda\\lib\\site-packages\\ipykernel_launcher.py:7: SettingWithCopyWarning: \n",
      "A value is trying to be set on a copy of a slice from a DataFrame.\n",
      "Try using .loc[row_indexer,col_indexer] = value instead\n",
      "\n",
      "See the caveats in the documentation: http://pandas.pydata.org/pandas-docs/stable/indexing.html#indexing-view-versus-copy\n",
      "  import sys\n",
      "C:\\Users\\AQi\\AppData\\Local\\Continuum\\anaconda\\lib\\site-packages\\ipykernel_launcher.py:8: SettingWithCopyWarning: \n",
      "A value is trying to be set on a copy of a slice from a DataFrame.\n",
      "Try using .loc[row_indexer,col_indexer] = value instead\n",
      "\n",
      "See the caveats in the documentation: http://pandas.pydata.org/pandas-docs/stable/indexing.html#indexing-view-versus-copy\n",
      "  \n"
     ]
    },
    {
     "name": "stdout",
     "output_type": "stream",
     "text": [
      "Epoch 1/3\n",
      "442/442 [==============================] - 415s 938ms/step - loss: 0.1241\n",
      "Epoch 2/3\n",
      "442/442 [==============================] - 12s 28ms/step - loss: 0.0253\n",
      "Epoch 3/3\n",
      "442/442 [==============================] - 12s 28ms/step - loss: 0.0166\n",
      "CB\n"
     ]
    },
    {
     "name": "stderr",
     "output_type": "stream",
     "text": [
      "C:\\Users\\AQi\\AppData\\Local\\Continuum\\anaconda\\lib\\site-packages\\ipykernel_launcher.py:7: SettingWithCopyWarning: \n",
      "A value is trying to be set on a copy of a slice from a DataFrame.\n",
      "Try using .loc[row_indexer,col_indexer] = value instead\n",
      "\n",
      "See the caveats in the documentation: http://pandas.pydata.org/pandas-docs/stable/indexing.html#indexing-view-versus-copy\n",
      "  import sys\n",
      "C:\\Users\\AQi\\AppData\\Local\\Continuum\\anaconda\\lib\\site-packages\\ipykernel_launcher.py:8: SettingWithCopyWarning: \n",
      "A value is trying to be set on a copy of a slice from a DataFrame.\n",
      "Try using .loc[row_indexer,col_indexer] = value instead\n",
      "\n",
      "See the caveats in the documentation: http://pandas.pydata.org/pandas-docs/stable/indexing.html#indexing-view-versus-copy\n",
      "  \n"
     ]
    },
    {
     "name": "stdout",
     "output_type": "stream",
     "text": [
      "Epoch 1/3\n",
      "442/442 [==============================] - 423s 957ms/step - loss: 0.0673\n",
      "Epoch 2/3\n",
      "442/442 [==============================] - 12s 26ms/step - loss: 0.0217\n",
      "Epoch 3/3\n",
      "442/442 [==============================] - 12s 26ms/step - loss: 0.0158\n",
      "CI\n"
     ]
    },
    {
     "name": "stderr",
     "output_type": "stream",
     "text": [
      "C:\\Users\\AQi\\AppData\\Local\\Continuum\\anaconda\\lib\\site-packages\\ipykernel_launcher.py:7: SettingWithCopyWarning: \n",
      "A value is trying to be set on a copy of a slice from a DataFrame.\n",
      "Try using .loc[row_indexer,col_indexer] = value instead\n",
      "\n",
      "See the caveats in the documentation: http://pandas.pydata.org/pandas-docs/stable/indexing.html#indexing-view-versus-copy\n",
      "  import sys\n",
      "C:\\Users\\AQi\\AppData\\Local\\Continuum\\anaconda\\lib\\site-packages\\ipykernel_launcher.py:8: SettingWithCopyWarning: \n",
      "A value is trying to be set on a copy of a slice from a DataFrame.\n",
      "Try using .loc[row_indexer,col_indexer] = value instead\n",
      "\n",
      "See the caveats in the documentation: http://pandas.pydata.org/pandas-docs/stable/indexing.html#indexing-view-versus-copy\n",
      "  \n"
     ]
    },
    {
     "name": "stdout",
     "output_type": "stream",
     "text": [
      "Epoch 1/3\n",
      "442/442 [==============================] - 425s 962ms/step - loss: 0.1175\n",
      "Epoch 2/3\n",
      "442/442 [==============================] - 12s 27ms/step - loss: 0.0223\n",
      "Epoch 3/3\n",
      "442/442 [==============================] - 12s 28ms/step - loss: 0.0201\n",
      "XEC\n"
     ]
    },
    {
     "name": "stderr",
     "output_type": "stream",
     "text": [
      "C:\\Users\\AQi\\AppData\\Local\\Continuum\\anaconda\\lib\\site-packages\\ipykernel_launcher.py:7: SettingWithCopyWarning: \n",
      "A value is trying to be set on a copy of a slice from a DataFrame.\n",
      "Try using .loc[row_indexer,col_indexer] = value instead\n",
      "\n",
      "See the caveats in the documentation: http://pandas.pydata.org/pandas-docs/stable/indexing.html#indexing-view-versus-copy\n",
      "  import sys\n",
      "C:\\Users\\AQi\\AppData\\Local\\Continuum\\anaconda\\lib\\site-packages\\ipykernel_launcher.py:8: SettingWithCopyWarning: \n",
      "A value is trying to be set on a copy of a slice from a DataFrame.\n",
      "Try using .loc[row_indexer,col_indexer] = value instead\n",
      "\n",
      "See the caveats in the documentation: http://pandas.pydata.org/pandas-docs/stable/indexing.html#indexing-view-versus-copy\n",
      "  \n"
     ]
    },
    {
     "name": "stdout",
     "output_type": "stream",
     "text": [
      "Epoch 1/3\n",
      "442/442 [==============================] - 432s 978ms/step - loss: 0.0465\n",
      "Epoch 2/3\n",
      "442/442 [==============================] - 12s 26ms/step - loss: 0.0151\n",
      "Epoch 3/3\n",
      "442/442 [==============================] - 12s 26ms/step - loss: 0.0124\n",
      "CINF\n"
     ]
    },
    {
     "name": "stderr",
     "output_type": "stream",
     "text": [
      "C:\\Users\\AQi\\AppData\\Local\\Continuum\\anaconda\\lib\\site-packages\\ipykernel_launcher.py:7: SettingWithCopyWarning: \n",
      "A value is trying to be set on a copy of a slice from a DataFrame.\n",
      "Try using .loc[row_indexer,col_indexer] = value instead\n",
      "\n",
      "See the caveats in the documentation: http://pandas.pydata.org/pandas-docs/stable/indexing.html#indexing-view-versus-copy\n",
      "  import sys\n",
      "C:\\Users\\AQi\\AppData\\Local\\Continuum\\anaconda\\lib\\site-packages\\ipykernel_launcher.py:8: SettingWithCopyWarning: \n",
      "A value is trying to be set on a copy of a slice from a DataFrame.\n",
      "Try using .loc[row_indexer,col_indexer] = value instead\n",
      "\n",
      "See the caveats in the documentation: http://pandas.pydata.org/pandas-docs/stable/indexing.html#indexing-view-versus-copy\n",
      "  \n"
     ]
    },
    {
     "name": "stdout",
     "output_type": "stream",
     "text": [
      "Epoch 1/3\n",
      "442/442 [==============================] - 438s 991ms/step - loss: 0.1037\n",
      "Epoch 2/3\n",
      "442/442 [==============================] - 12s 28ms/step - loss: 0.0203\n",
      "Epoch 3/3\n",
      "442/442 [==============================] - 12s 28ms/step - loss: 0.0143\n",
      "    pred_return  real_return     Diff ticker    rmse\n",
      "0       0.71165     -0.16549  0.87714    ABT 0.51440\n",
      "1       0.71275      0.09735  0.61541    ABT 0.51440\n",
      "2       0.71374     -0.08762  0.80135    ABT 0.51440\n",
      "3       0.71459      0.39125  0.32334    ABT 0.51440\n",
      "4       0.71531     -0.10759  0.82291    ABT 0.51440\n",
      "0       0.44716     -1.52016  1.96732   ABBV 1.04235\n",
      "1       0.44764      0.70379 -0.25615   ABBV 1.04235\n",
      "2       0.44835     -0.51609  0.96444   ABBV 1.04235\n",
      "3       0.44917      0.27407  0.17510   ABBV 1.04235\n",
      "4       0.45002      1.01125 -0.56124   ABBV 1.04235\n",
      "0       0.58200      1.22749 -0.64550    ACN 0.39804\n",
      "1       0.58239      0.51633  0.06606    ACN 0.39804\n",
      "2       0.58302     -0.54555  1.12857    ACN 0.39804\n",
      "3       0.58383      0.20457  0.37926    ACN 0.39804\n",
      "4       0.58477      0.97421 -0.38945    ACN 0.39804\n",
      "0       0.39190     -0.30000  0.69190   ADBE 7.38869\n",
      "1       0.39327      1.66000 -1.26674   ADBE 7.38869\n",
      "2       0.39473      0.41000 -0.01527   ADBE 7.38869\n",
      "3       0.39618      1.81000 -1.41381   ADBE 7.38869\n",
      "4       0.39755      6.13000 -5.73245   ADBE 7.38869\n",
      "0       0.50612     -0.78838  1.29451    AAP 2.67039\n",
      "1       0.50686     -0.89815  1.40500    AAP 2.67039\n",
      "2       0.50763      0.09978  0.40785    AAP 2.67039\n",
      "3       0.50836      2.35516 -1.84681    AAP 2.67039\n",
      "4       0.50896      2.98386 -2.47490    AAP 2.67039\n",
      "0       0.58849      0.00000  0.58849    AES 0.31889\n",
      "1       0.58906     -0.10393  0.69299    AES 0.31889\n",
      "2       0.58965      0.01890  0.57075    AES 0.31889\n",
      "3       0.59027      0.17006  0.42020    AES 0.31889\n",
      "4       0.59092      0.07558  0.51534    AES 0.31889\n",
      "0       0.49451      0.11114  0.38337    AFL 2.90581\n",
      "1       0.49522      0.01933  0.47588    AFL 2.90581\n",
      "2       0.49615      0.35756  0.13859    AFL 2.90581\n",
      "3       0.49715      0.45904  0.03810    AFL 2.90581\n",
      "4       0.49807     -3.26158  3.75965    AFL 2.90581\n",
      "0       0.70130      1.04842 -0.34712    AMG 2.41944\n",
      "1       0.70041     -0.25716  0.95756    AMG 2.41944\n",
      "2       0.69941     -1.86938  2.56879    AMG 2.41944\n",
      "3       0.69839      2.31448 -1.61609    AMG 2.41944\n",
      "4       0.69744      2.05734 -1.35991    AMG 2.41944\n",
      "0       0.44982      0.14832  0.30149      A 0.81728\n",
      "1       0.45128      1.70071 -1.24943      A 0.81728\n",
      "2       0.45280     -0.96902  1.42182      A 0.81728\n",
      "3       0.45422      0.00989  0.44433      A 0.81728\n",
      "4       0.45542      0.91958 -0.46416      A 0.81728\n",
      "0       0.51334      0.17407  0.33927    APD 0.55817\n",
      "1       0.51500      0.41577  0.09923    APD 0.55817\n",
      "2       0.51667     -0.68652  1.20320    APD 0.55817\n",
      "3       0.51824      1.56648 -1.04824    APD 0.55817\n",
      "4       0.51963      0.17406  0.34557    APD 0.55817\n",
      "..          ...          ...      ...    ...     ...\n",
      "0       0.57774      0.20065  0.37709    CTL 0.47624\n",
      "1       0.57682     -0.60196  1.17878    CTL 0.47624\n",
      "2       0.57591      0.82006 -0.24415    CTL 0.47624\n",
      "3       0.57503     -0.00872  0.58376    CTL 0.47624\n",
      "4       0.57420     -0.09597  0.67016    CTL 0.47624\n",
      "0       0.55836      0.06000  0.49836   CERN 0.14501\n",
      "1       0.55920      1.11000 -0.55080   CERN 0.14501\n",
      "2       0.56028      0.65000 -0.08972   CERN 0.14501\n",
      "3       0.56146      0.29000  0.27146   CERN 0.14501\n",
      "4       0.56262      0.26000  0.30261   CERN 0.14501\n",
      "0       0.60155     -0.91773  1.51928     CF 0.89980\n",
      "1       0.60120     -0.24151  0.84270     CF 0.89980\n",
      "2       0.60087     -0.04830  0.64917     CF 0.89980\n",
      "3       0.60060      1.25584 -0.65524     CF 0.89980\n",
      "4       0.60044     -0.19321  0.79365     CF 0.89980\n",
      "0       0.61708      0.22655  0.39053   SCHW 0.17504\n",
      "1       0.61595      1.08347 -0.46752   SCHW 0.17504\n",
      "2       0.61506      0.21669  0.39837   SCHW 0.17504\n",
      "3       0.61444      0.60083  0.01361   SCHW 0.17504\n",
      "4       0.61409      1.20166 -0.58757   SCHW 0.17504\n",
      "0       0.60052      0.60056 -0.00003    CVX 2.30557\n",
      "1       0.60144     -0.65776  1.25920    CVX 2.30557\n",
      "2       0.60199      0.78168 -0.17969    CVX 2.30557\n",
      "3       0.60225      3.72729 -3.12504    CVX 2.30557\n",
      "4       0.60226      0.98186 -0.37960    CVX 2.30557\n",
      "0       0.65957      4.67999 -4.02043    CMG 5.99208\n",
      "1       0.66018      0.89999 -0.23981    CMG 5.99208\n",
      "2       0.66118      2.42999 -1.76881    CMG 5.99208\n",
      "3       0.66243      3.70001 -3.03758    CMG 5.99208\n",
      "4       0.66379      1.84000 -1.17621    CMG 5.99208\n",
      "0       0.42698     -0.71027  1.13725     CB 1.49666\n",
      "1       0.42724      2.25725 -1.83001     CB 1.49666\n",
      "2       0.42767     -0.54485  0.97251     CB 1.49666\n",
      "3       0.42823     -0.76863  1.19686     CB 1.49666\n",
      "4       0.42888      1.10916 -0.68028     CB 1.49666\n",
      "0       0.55830     -2.32889  2.88719     CI 5.03597\n",
      "1       0.55895     -0.34985  0.90880     CI 5.03597\n",
      "2       0.56005     -0.77962  1.33967     CI 5.03597\n",
      "3       0.56148      3.79819 -3.23671     CI 5.03597\n",
      "4       0.56308      2.49881 -1.93573     CI 5.03597\n",
      "0       0.42751      0.41631  0.01120    XEC 2.16452\n",
      "1       0.42882     -0.62446  1.05328    XEC 2.16452\n",
      "2       0.42999     -2.04188  2.47187    XEC 2.16452\n",
      "3       0.43100      2.08153 -1.65052    XEC 2.16452\n",
      "4       0.43187     -0.50552  0.93738    XEC 2.16452\n",
      "0       0.62515     -0.31863  0.94378   CINF 0.99572\n",
      "1       0.62485     -0.44416  1.06901   CINF 0.99572\n",
      "2       0.62464     -0.98487  1.60951   CINF 0.99572\n",
      "3       0.62456      0.56001  0.06455   CINF 0.99572\n",
      "4       0.62463      1.21661 -0.59198   CINF 0.99572\n",
      "\n",
      "[415 rows x 5 columns]\n"
     ]
    }
   ],
   "source": [
    "res_all,universe_all,pl_all,portfolio_equity_all = implement_lstm_mc_mv_algo(date_ix,tickers)"
   ]
  },
  {
   "cell_type": "code",
   "execution_count": 15,
   "metadata": {},
   "outputs": [
    {
     "data": {
      "text/html": [
       "<div>\n",
       "<style scoped>\n",
       "    .dataframe tbody tr th:only-of-type {\n",
       "        vertical-align: middle;\n",
       "    }\n",
       "\n",
       "    .dataframe tbody tr th {\n",
       "        vertical-align: top;\n",
       "    }\n",
       "\n",
       "    .dataframe thead th {\n",
       "        text-align: right;\n",
       "    }\n",
       "</style>\n",
       "<table border=\"1\" class=\"dataframe\">\n",
       "  <thead>\n",
       "    <tr style=\"text-align: right;\">\n",
       "      <th></th>\n",
       "      <th>ticker</th>\n",
       "      <th>pred_return</th>\n",
       "      <th>real_return</th>\n",
       "      <th>Diff</th>\n",
       "      <th>rmse</th>\n",
       "      <th>std</th>\n",
       "      <th>return/std</th>\n",
       "      <th>DATE</th>\n",
       "    </tr>\n",
       "  </thead>\n",
       "  <tbody>\n",
       "    <tr>\n",
       "      <th>15</th>\n",
       "      <td>AES</td>\n",
       "      <td>2.74054</td>\n",
       "      <td>0.10393</td>\n",
       "      <td>2.63661</td>\n",
       "      <td>1.39771</td>\n",
       "      <td>0.00010</td>\n",
       "      <td>26589.83609</td>\n",
       "      <td>2018-01-04</td>\n",
       "    </tr>\n",
       "    <tr>\n",
       "      <th>54</th>\n",
       "      <td>BMY</td>\n",
       "      <td>4.14605</td>\n",
       "      <td>0.50388</td>\n",
       "      <td>3.64217</td>\n",
       "      <td>3.42385</td>\n",
       "      <td>0.00024</td>\n",
       "      <td>17492.68535</td>\n",
       "      <td>2018-01-04</td>\n",
       "    </tr>\n",
       "    <tr>\n",
       "      <th>77</th>\n",
       "      <td>HSIC</td>\n",
       "      <td>3.15017</td>\n",
       "      <td>2.17255</td>\n",
       "      <td>0.97762</td>\n",
       "      <td>2.17683</td>\n",
       "      <td>0.00021</td>\n",
       "      <td>15297.75474</td>\n",
       "      <td>2018-01-04</td>\n",
       "    </tr>\n",
       "    <tr>\n",
       "      <th>62</th>\n",
       "      <td>CCL</td>\n",
       "      <td>3.01520</td>\n",
       "      <td>-0.17308</td>\n",
       "      <td>3.18828</td>\n",
       "      <td>2.47426</td>\n",
       "      <td>0.00020</td>\n",
       "      <td>14905.37704</td>\n",
       "      <td>2018-01-04</td>\n",
       "    </tr>\n",
       "    <tr>\n",
       "      <th>17</th>\n",
       "      <td>AGN</td>\n",
       "      <td>3.53400</td>\n",
       "      <td>7.49965</td>\n",
       "      <td>-3.96565</td>\n",
       "      <td>38.85779</td>\n",
       "      <td>0.00024</td>\n",
       "      <td>14731.75776</td>\n",
       "      <td>2018-01-04</td>\n",
       "    </tr>\n",
       "    <tr>\n",
       "      <th>58</th>\n",
       "      <td>CAH</td>\n",
       "      <td>3.65367</td>\n",
       "      <td>7.89430</td>\n",
       "      <td>-4.24063</td>\n",
       "      <td>5.00371</td>\n",
       "      <td>0.00006</td>\n",
       "      <td>59692.13815</td>\n",
       "      <td>2018-01-11</td>\n",
       "    </tr>\n",
       "    <tr>\n",
       "      <th>21</th>\n",
       "      <td>AIZ</td>\n",
       "      <td>3.07489</td>\n",
       "      <td>-5.74611</td>\n",
       "      <td>8.82100</td>\n",
       "      <td>18.80776</td>\n",
       "      <td>0.00006</td>\n",
       "      <td>49960.03935</td>\n",
       "      <td>2018-01-11</td>\n",
       "    </tr>\n",
       "    <tr>\n",
       "      <th>25</th>\n",
       "      <td>ALXN</td>\n",
       "      <td>2.96739</td>\n",
       "      <td>-0.09000</td>\n",
       "      <td>3.05739</td>\n",
       "      <td>17.09594</td>\n",
       "      <td>0.00010</td>\n",
       "      <td>29245.56704</td>\n",
       "      <td>2018-01-11</td>\n",
       "    </tr>\n",
       "    <tr>\n",
       "      <th>62</th>\n",
       "      <td>CCL</td>\n",
       "      <td>3.05246</td>\n",
       "      <td>3.25942</td>\n",
       "      <td>-0.20696</td>\n",
       "      <td>1.74451</td>\n",
       "      <td>0.00017</td>\n",
       "      <td>17515.24061</td>\n",
       "      <td>2018-01-11</td>\n",
       "    </tr>\n",
       "    <tr>\n",
       "      <th>10</th>\n",
       "      <td>ADM</td>\n",
       "      <td>2.89578</td>\n",
       "      <td>0.30814</td>\n",
       "      <td>2.58764</td>\n",
       "      <td>1.82749</td>\n",
       "      <td>0.00018</td>\n",
       "      <td>15689.46250</td>\n",
       "      <td>2018-01-11</td>\n",
       "    </tr>\n",
       "  </tbody>\n",
       "</table>\n",
       "</div>"
      ],
      "text/plain": [
       "   ticker  pred_return  real_return     Diff     rmse     std  return/std  \\\n",
       "15    AES      2.74054      0.10393  2.63661  1.39771 0.00010 26589.83609   \n",
       "54    BMY      4.14605      0.50388  3.64217  3.42385 0.00024 17492.68535   \n",
       "77   HSIC      3.15017      2.17255  0.97762  2.17683 0.00021 15297.75474   \n",
       "62    CCL      3.01520     -0.17308  3.18828  2.47426 0.00020 14905.37704   \n",
       "17    AGN      3.53400      7.49965 -3.96565 38.85779 0.00024 14731.75776   \n",
       "58    CAH      3.65367      7.89430 -4.24063  5.00371 0.00006 59692.13815   \n",
       "21    AIZ      3.07489     -5.74611  8.82100 18.80776 0.00006 49960.03935   \n",
       "25   ALXN      2.96739     -0.09000  3.05739 17.09594 0.00010 29245.56704   \n",
       "62    CCL      3.05246      3.25942 -0.20696  1.74451 0.00017 17515.24061   \n",
       "10    ADM      2.89578      0.30814  2.58764  1.82749 0.00018 15689.46250   \n",
       "\n",
       "          DATE  \n",
       "15  2018-01-04  \n",
       "54  2018-01-04  \n",
       "77  2018-01-04  \n",
       "62  2018-01-04  \n",
       "17  2018-01-04  \n",
       "58  2018-01-11  \n",
       "21  2018-01-11  \n",
       "25  2018-01-11  \n",
       "62  2018-01-11  \n",
       "10  2018-01-11  "
      ]
     },
     "execution_count": 15,
     "metadata": {},
     "output_type": "execute_result"
    }
   ],
   "source": [
    "universe_all"
   ]
  },
  {
   "cell_type": "code",
   "execution_count": 16,
   "metadata": {},
   "outputs": [
    {
     "data": {
      "text/html": [
       "<div>\n",
       "<style scoped>\n",
       "    .dataframe tbody tr th:only-of-type {\n",
       "        vertical-align: middle;\n",
       "    }\n",
       "\n",
       "    .dataframe tbody tr th {\n",
       "        vertical-align: top;\n",
       "    }\n",
       "\n",
       "    .dataframe thead th {\n",
       "        text-align: right;\n",
       "    }\n",
       "</style>\n",
       "<table border=\"1\" class=\"dataframe\">\n",
       "  <thead>\n",
       "    <tr style=\"text-align: right;\">\n",
       "      <th></th>\n",
       "      <th>ticker</th>\n",
       "      <th>weight</th>\n",
       "      <th>DATE</th>\n",
       "    </tr>\n",
       "  </thead>\n",
       "  <tbody>\n",
       "    <tr>\n",
       "      <th>0</th>\n",
       "      <td>AES</td>\n",
       "      <td>0.20000</td>\n",
       "      <td>2018-01-04</td>\n",
       "    </tr>\n",
       "    <tr>\n",
       "      <th>1</th>\n",
       "      <td>BMY</td>\n",
       "      <td>0.20000</td>\n",
       "      <td>2018-01-04</td>\n",
       "    </tr>\n",
       "    <tr>\n",
       "      <th>2</th>\n",
       "      <td>HSIC</td>\n",
       "      <td>0.20000</td>\n",
       "      <td>2018-01-04</td>\n",
       "    </tr>\n",
       "    <tr>\n",
       "      <th>3</th>\n",
       "      <td>CCL</td>\n",
       "      <td>0.20000</td>\n",
       "      <td>2018-01-04</td>\n",
       "    </tr>\n",
       "    <tr>\n",
       "      <th>4</th>\n",
       "      <td>AGN</td>\n",
       "      <td>0.20000</td>\n",
       "      <td>2018-01-04</td>\n",
       "    </tr>\n",
       "    <tr>\n",
       "      <th>0</th>\n",
       "      <td>CAH</td>\n",
       "      <td>0.20001</td>\n",
       "      <td>2018-01-11</td>\n",
       "    </tr>\n",
       "    <tr>\n",
       "      <th>1</th>\n",
       "      <td>AIZ</td>\n",
       "      <td>0.19999</td>\n",
       "      <td>2018-01-11</td>\n",
       "    </tr>\n",
       "    <tr>\n",
       "      <th>2</th>\n",
       "      <td>ALXN</td>\n",
       "      <td>0.20000</td>\n",
       "      <td>2018-01-11</td>\n",
       "    </tr>\n",
       "    <tr>\n",
       "      <th>3</th>\n",
       "      <td>CCL</td>\n",
       "      <td>0.20000</td>\n",
       "      <td>2018-01-11</td>\n",
       "    </tr>\n",
       "    <tr>\n",
       "      <th>4</th>\n",
       "      <td>ADM</td>\n",
       "      <td>0.20000</td>\n",
       "      <td>2018-01-11</td>\n",
       "    </tr>\n",
       "  </tbody>\n",
       "</table>\n",
       "</div>"
      ],
      "text/plain": [
       "  ticker  weight        DATE\n",
       "0    AES 0.20000  2018-01-04\n",
       "1    BMY 0.20000  2018-01-04\n",
       "2   HSIC 0.20000  2018-01-04\n",
       "3    CCL 0.20000  2018-01-04\n",
       "4    AGN 0.20000  2018-01-04\n",
       "0    CAH 0.20001  2018-01-11\n",
       "1    AIZ 0.19999  2018-01-11\n",
       "2   ALXN 0.20000  2018-01-11\n",
       "3    CCL 0.20000  2018-01-11\n",
       "4    ADM 0.20000  2018-01-11"
      ]
     },
     "execution_count": 16,
     "metadata": {},
     "output_type": "execute_result"
    }
   ],
   "source": [
    "portfolio_equity_all"
   ]
  },
  {
   "cell_type": "code",
   "execution_count": 17,
   "metadata": {},
   "outputs": [
    {
     "data": {
      "text/html": [
       "<div>\n",
       "<style scoped>\n",
       "    .dataframe tbody tr th:only-of-type {\n",
       "        vertical-align: middle;\n",
       "    }\n",
       "\n",
       "    .dataframe tbody tr th {\n",
       "        vertical-align: top;\n",
       "    }\n",
       "\n",
       "    .dataframe thead th {\n",
       "        text-align: right;\n",
       "    }\n",
       "</style>\n",
       "<table border=\"1\" class=\"dataframe\">\n",
       "  <thead>\n",
       "    <tr style=\"text-align: right;\">\n",
       "      <th></th>\n",
       "      <th>annual_return</th>\n",
       "      <th>annual_vol</th>\n",
       "      <th>annual_sharpe_ratio</th>\n",
       "      <th>5days_return</th>\n",
       "      <th>source</th>\n",
       "      <th>DATE</th>\n",
       "    </tr>\n",
       "  </thead>\n",
       "  <tbody>\n",
       "    <tr>\n",
       "      <th>0</th>\n",
       "      <td>835.93265</td>\n",
       "      <td>3.86510</td>\n",
       "      <td>216.27721</td>\n",
       "      <td>3.31719</td>\n",
       "      <td>Prediction</td>\n",
       "      <td>2018-01-04</td>\n",
       "    </tr>\n",
       "    <tr>\n",
       "      <th>0</th>\n",
       "      <td>509.38907</td>\n",
       "      <td>22.68149</td>\n",
       "      <td>22.45836</td>\n",
       "      <td>2.02140</td>\n",
       "      <td>real</td>\n",
       "      <td>2018-01-04</td>\n",
       "    </tr>\n",
       "    <tr>\n",
       "      <th>0</th>\n",
       "      <td>788.46696</td>\n",
       "      <td>2.14329</td>\n",
       "      <td>367.87616</td>\n",
       "      <td>3.12884</td>\n",
       "      <td>Prediction</td>\n",
       "      <td>2018-01-11</td>\n",
       "    </tr>\n",
       "    <tr>\n",
       "      <th>0</th>\n",
       "      <td>283.53749</td>\n",
       "      <td>35.44939</td>\n",
       "      <td>7.99838</td>\n",
       "      <td>1.12527</td>\n",
       "      <td>real</td>\n",
       "      <td>2018-01-11</td>\n",
       "    </tr>\n",
       "  </tbody>\n",
       "</table>\n",
       "</div>"
      ],
      "text/plain": [
       "   annual_return  annual_vol  annual_sharpe_ratio  5days_return      source  \\\n",
       "0      835.93265     3.86510            216.27721       3.31719  Prediction   \n",
       "0      509.38907    22.68149             22.45836       2.02140        real   \n",
       "0      788.46696     2.14329            367.87616       3.12884  Prediction   \n",
       "0      283.53749    35.44939              7.99838       1.12527        real   \n",
       "\n",
       "         DATE  \n",
       "0  2018-01-04  \n",
       "0  2018-01-04  \n",
       "0  2018-01-11  \n",
       "0  2018-01-11  "
      ]
     },
     "execution_count": 17,
     "metadata": {},
     "output_type": "execute_result"
    }
   ],
   "source": [
    "pl_all"
   ]
  },
  {
   "cell_type": "code",
   "execution_count": 18,
   "metadata": {},
   "outputs": [
    {
     "data": {
      "text/html": [
       "<div>\n",
       "<style scoped>\n",
       "    .dataframe tbody tr th:only-of-type {\n",
       "        vertical-align: middle;\n",
       "    }\n",
       "\n",
       "    .dataframe tbody tr th {\n",
       "        vertical-align: top;\n",
       "    }\n",
       "\n",
       "    .dataframe thead th {\n",
       "        text-align: right;\n",
       "    }\n",
       "</style>\n",
       "<table border=\"1\" class=\"dataframe\">\n",
       "  <thead>\n",
       "    <tr style=\"text-align: right;\">\n",
       "      <th></th>\n",
       "      <th>pred_return</th>\n",
       "      <th>real_return</th>\n",
       "      <th>Diff</th>\n",
       "      <th>ticker</th>\n",
       "      <th>rmse</th>\n",
       "      <th>DATE</th>\n",
       "    </tr>\n",
       "  </thead>\n",
       "  <tbody>\n",
       "    <tr>\n",
       "      <th>0</th>\n",
       "      <td>0.74563</td>\n",
       "      <td>-0.37966</td>\n",
       "      <td>1.12529</td>\n",
       "      <td>ABT</td>\n",
       "      <td>0.71411</td>\n",
       "      <td>2018-01-04</td>\n",
       "    </tr>\n",
       "    <tr>\n",
       "      <th>1</th>\n",
       "      <td>0.74694</td>\n",
       "      <td>1.67440</td>\n",
       "      <td>-0.92746</td>\n",
       "      <td>ABT</td>\n",
       "      <td>0.71411</td>\n",
       "      <td>2018-01-04</td>\n",
       "    </tr>\n",
       "    <tr>\n",
       "      <th>2</th>\n",
       "      <td>0.74806</td>\n",
       "      <td>0.12656</td>\n",
       "      <td>0.62150</td>\n",
       "      <td>ABT</td>\n",
       "      <td>0.71411</td>\n",
       "      <td>2018-01-04</td>\n",
       "    </tr>\n",
       "    <tr>\n",
       "      <th>3</th>\n",
       "      <td>0.74902</td>\n",
       "      <td>-0.09735</td>\n",
       "      <td>0.84637</td>\n",
       "      <td>ABT</td>\n",
       "      <td>0.71411</td>\n",
       "      <td>2018-01-04</td>\n",
       "    </tr>\n",
       "    <tr>\n",
       "      <th>4</th>\n",
       "      <td>0.74985</td>\n",
       "      <td>0.16549</td>\n",
       "      <td>0.58436</td>\n",
       "      <td>ABT</td>\n",
       "      <td>0.71411</td>\n",
       "      <td>2018-01-04</td>\n",
       "    </tr>\n",
       "    <tr>\n",
       "      <th>0</th>\n",
       "      <td>0.44691</td>\n",
       "      <td>-1.01344</td>\n",
       "      <td>1.46035</td>\n",
       "      <td>ABBV</td>\n",
       "      <td>1.35953</td>\n",
       "      <td>2018-01-04</td>\n",
       "    </tr>\n",
       "    <tr>\n",
       "      <th>1</th>\n",
       "      <td>0.44681</td>\n",
       "      <td>1.59523</td>\n",
       "      <td>-1.14842</td>\n",
       "      <td>ABBV</td>\n",
       "      <td>1.35953</td>\n",
       "      <td>2018-01-04</td>\n",
       "    </tr>\n",
       "    <tr>\n",
       "      <th>2</th>\n",
       "      <td>0.44657</td>\n",
       "      <td>1.44508</td>\n",
       "      <td>-0.99850</td>\n",
       "      <td>ABBV</td>\n",
       "      <td>1.35953</td>\n",
       "      <td>2018-01-04</td>\n",
       "    </tr>\n",
       "    <tr>\n",
       "      <th>3</th>\n",
       "      <td>0.44624</td>\n",
       "      <td>-0.53487</td>\n",
       "      <td>0.98111</td>\n",
       "      <td>ABBV</td>\n",
       "      <td>1.35953</td>\n",
       "      <td>2018-01-04</td>\n",
       "    </tr>\n",
       "    <tr>\n",
       "      <th>4</th>\n",
       "      <td>0.44584</td>\n",
       "      <td>1.62337</td>\n",
       "      <td>-1.17753</td>\n",
       "      <td>ABBV</td>\n",
       "      <td>1.35953</td>\n",
       "      <td>2018-01-04</td>\n",
       "    </tr>\n",
       "    <tr>\n",
       "      <th>0</th>\n",
       "      <td>0.56116</td>\n",
       "      <td>-0.46762</td>\n",
       "      <td>1.02878</td>\n",
       "      <td>ACN</td>\n",
       "      <td>0.61677</td>\n",
       "      <td>2018-01-04</td>\n",
       "    </tr>\n",
       "    <tr>\n",
       "      <th>1</th>\n",
       "      <td>0.56091</td>\n",
       "      <td>0.73067</td>\n",
       "      <td>-0.16976</td>\n",
       "      <td>ACN</td>\n",
       "      <td>0.61677</td>\n",
       "      <td>2018-01-04</td>\n",
       "    </tr>\n",
       "    <tr>\n",
       "      <th>2</th>\n",
       "      <td>0.56064</td>\n",
       "      <td>0.69168</td>\n",
       "      <td>-0.13104</td>\n",
       "      <td>ACN</td>\n",
       "      <td>0.61677</td>\n",
       "      <td>2018-01-04</td>\n",
       "    </tr>\n",
       "    <tr>\n",
       "      <th>3</th>\n",
       "      <td>0.56038</td>\n",
       "      <td>1.78279</td>\n",
       "      <td>-1.22241</td>\n",
       "      <td>ACN</td>\n",
       "      <td>0.61677</td>\n",
       "      <td>2018-01-04</td>\n",
       "    </tr>\n",
       "    <tr>\n",
       "      <th>4</th>\n",
       "      <td>0.56018</td>\n",
       "      <td>1.25673</td>\n",
       "      <td>-0.69655</td>\n",
       "      <td>ACN</td>\n",
       "      <td>0.61677</td>\n",
       "      <td>2018-01-04</td>\n",
       "    </tr>\n",
       "    <tr>\n",
       "      <th>0</th>\n",
       "      <td>0.35222</td>\n",
       "      <td>-0.31000</td>\n",
       "      <td>0.66221</td>\n",
       "      <td>ADBE</td>\n",
       "      <td>4.05270</td>\n",
       "      <td>2018-01-04</td>\n",
       "    </tr>\n",
       "    <tr>\n",
       "      <th>1</th>\n",
       "      <td>0.35253</td>\n",
       "      <td>2.45999</td>\n",
       "      <td>-2.10746</td>\n",
       "      <td>ADBE</td>\n",
       "      <td>4.05270</td>\n",
       "      <td>2018-01-04</td>\n",
       "    </tr>\n",
       "    <tr>\n",
       "      <th>2</th>\n",
       "      <td>0.35279</td>\n",
       "      <td>3.34000</td>\n",
       "      <td>-2.98721</td>\n",
       "      <td>ADBE</td>\n",
       "      <td>4.05270</td>\n",
       "      <td>2018-01-04</td>\n",
       "    </tr>\n",
       "    <tr>\n",
       "      <th>3</th>\n",
       "      <td>0.35297</td>\n",
       "      <td>2.18001</td>\n",
       "      <td>-1.82704</td>\n",
       "      <td>ADBE</td>\n",
       "      <td>4.05270</td>\n",
       "      <td>2018-01-04</td>\n",
       "    </tr>\n",
       "    <tr>\n",
       "      <th>4</th>\n",
       "      <td>0.35305</td>\n",
       "      <td>2.12000</td>\n",
       "      <td>-1.76694</td>\n",
       "      <td>ADBE</td>\n",
       "      <td>4.05270</td>\n",
       "      <td>2018-01-04</td>\n",
       "    </tr>\n",
       "    <tr>\n",
       "      <th>0</th>\n",
       "      <td>0.52535</td>\n",
       "      <td>-0.01996</td>\n",
       "      <td>0.54530</td>\n",
       "      <td>AAP</td>\n",
       "      <td>9.39119</td>\n",
       "      <td>2018-01-04</td>\n",
       "    </tr>\n",
       "    <tr>\n",
       "      <th>1</th>\n",
       "      <td>0.52488</td>\n",
       "      <td>6.38685</td>\n",
       "      <td>-5.86197</td>\n",
       "      <td>AAP</td>\n",
       "      <td>9.39119</td>\n",
       "      <td>2018-01-04</td>\n",
       "    </tr>\n",
       "    <tr>\n",
       "      <th>2</th>\n",
       "      <td>0.52448</td>\n",
       "      <td>0.95803</td>\n",
       "      <td>-0.43355</td>\n",
       "      <td>AAP</td>\n",
       "      <td>9.39119</td>\n",
       "      <td>2018-01-04</td>\n",
       "    </tr>\n",
       "    <tr>\n",
       "      <th>3</th>\n",
       "      <td>0.52418</td>\n",
       "      <td>3.94189</td>\n",
       "      <td>-3.41771</td>\n",
       "      <td>AAP</td>\n",
       "      <td>9.39119</td>\n",
       "      <td>2018-01-04</td>\n",
       "    </tr>\n",
       "    <tr>\n",
       "      <th>4</th>\n",
       "      <td>0.52397</td>\n",
       "      <td>1.17758</td>\n",
       "      <td>-0.65361</td>\n",
       "      <td>AAP</td>\n",
       "      <td>9.39119</td>\n",
       "      <td>2018-01-04</td>\n",
       "    </tr>\n",
       "    <tr>\n",
       "      <th>0</th>\n",
       "      <td>0.54828</td>\n",
       "      <td>0.06614</td>\n",
       "      <td>0.48214</td>\n",
       "      <td>AES</td>\n",
       "      <td>0.27954</td>\n",
       "      <td>2018-01-04</td>\n",
       "    </tr>\n",
       "    <tr>\n",
       "      <th>1</th>\n",
       "      <td>0.54813</td>\n",
       "      <td>0.04724</td>\n",
       "      <td>0.50089</td>\n",
       "      <td>AES</td>\n",
       "      <td>0.27954</td>\n",
       "      <td>2018-01-04</td>\n",
       "    </tr>\n",
       "    <tr>\n",
       "      <th>2</th>\n",
       "      <td>0.54806</td>\n",
       "      <td>-0.00945</td>\n",
       "      <td>0.55751</td>\n",
       "      <td>AES</td>\n",
       "      <td>0.27954</td>\n",
       "      <td>2018-01-04</td>\n",
       "    </tr>\n",
       "    <tr>\n",
       "      <th>3</th>\n",
       "      <td>0.54804</td>\n",
       "      <td>-0.03779</td>\n",
       "      <td>0.58583</td>\n",
       "      <td>AES</td>\n",
       "      <td>0.27954</td>\n",
       "      <td>2018-01-04</td>\n",
       "    </tr>\n",
       "    <tr>\n",
       "      <th>4</th>\n",
       "      <td>0.54803</td>\n",
       "      <td>0.03779</td>\n",
       "      <td>0.51024</td>\n",
       "      <td>AES</td>\n",
       "      <td>0.27954</td>\n",
       "      <td>2018-01-04</td>\n",
       "    </tr>\n",
       "    <tr>\n",
       "      <th>0</th>\n",
       "      <td>0.52496</td>\n",
       "      <td>-0.21745</td>\n",
       "      <td>0.74241</td>\n",
       "      <td>AFL</td>\n",
       "      <td>0.19176</td>\n",
       "      <td>2018-01-04</td>\n",
       "    </tr>\n",
       "    <tr>\n",
       "      <th>1</th>\n",
       "      <td>0.52378</td>\n",
       "      <td>0.09181</td>\n",
       "      <td>0.43197</td>\n",
       "      <td>AFL</td>\n",
       "      <td>0.19176</td>\n",
       "      <td>2018-01-04</td>\n",
       "    </tr>\n",
       "    <tr>\n",
       "      <th>2</th>\n",
       "      <td>0.52298</td>\n",
       "      <td>0.12563</td>\n",
       "      <td>0.39735</td>\n",
       "      <td>AFL</td>\n",
       "      <td>0.19176</td>\n",
       "      <td>2018-01-04</td>\n",
       "    </tr>\n",
       "    <tr>\n",
       "      <th>3</th>\n",
       "      <td>0.52254</td>\n",
       "      <td>0.43971</td>\n",
       "      <td>0.08283</td>\n",
       "      <td>AFL</td>\n",
       "      <td>0.19176</td>\n",
       "      <td>2018-01-04</td>\n",
       "    </tr>\n",
       "    <tr>\n",
       "      <th>4</th>\n",
       "      <td>0.52239</td>\n",
       "      <td>0.28508</td>\n",
       "      <td>0.23731</td>\n",
       "      <td>AFL</td>\n",
       "      <td>0.19176</td>\n",
       "      <td>2018-01-04</td>\n",
       "    </tr>\n",
       "    <tr>\n",
       "      <th>0</th>\n",
       "      <td>0.68093</td>\n",
       "      <td>-1.24625</td>\n",
       "      <td>1.92718</td>\n",
       "      <td>AMG</td>\n",
       "      <td>6.47144</td>\n",
       "      <td>2018-01-04</td>\n",
       "    </tr>\n",
       "    <tr>\n",
       "      <th>1</th>\n",
       "      <td>0.68132</td>\n",
       "      <td>-2.18590</td>\n",
       "      <td>2.86722</td>\n",
       "      <td>AMG</td>\n",
       "      <td>6.47144</td>\n",
       "      <td>2018-01-04</td>\n",
       "    </tr>\n",
       "    <tr>\n",
       "      <th>2</th>\n",
       "      <td>0.68166</td>\n",
       "      <td>-0.90999</td>\n",
       "      <td>1.59164</td>\n",
       "      <td>AMG</td>\n",
       "      <td>6.47144</td>\n",
       "      <td>2018-01-04</td>\n",
       "    </tr>\n",
       "    <tr>\n",
       "      <th>3</th>\n",
       "      <td>0.68188</td>\n",
       "      <td>-3.54095</td>\n",
       "      <td>4.22283</td>\n",
       "      <td>AMG</td>\n",
       "      <td>6.47144</td>\n",
       "      <td>2018-01-04</td>\n",
       "    </tr>\n",
       "    <tr>\n",
       "      <th>4</th>\n",
       "      <td>0.68195</td>\n",
       "      <td>0.91986</td>\n",
       "      <td>-0.23791</td>\n",
       "      <td>AMG</td>\n",
       "      <td>6.47144</td>\n",
       "      <td>2018-01-04</td>\n",
       "    </tr>\n",
       "    <tr>\n",
       "      <th>0</th>\n",
       "      <td>0.48910</td>\n",
       "      <td>-0.32729</td>\n",
       "      <td>0.81639</td>\n",
       "      <td>A</td>\n",
       "      <td>0.70305</td>\n",
       "      <td>2018-01-04</td>\n",
       "    </tr>\n",
       "    <tr>\n",
       "      <th>1</th>\n",
       "      <td>0.48963</td>\n",
       "      <td>0.62294</td>\n",
       "      <td>-0.13331</td>\n",
       "      <td>A</td>\n",
       "      <td>0.70305</td>\n",
       "      <td>2018-01-04</td>\n",
       "    </tr>\n",
       "    <tr>\n",
       "      <th>2</th>\n",
       "      <td>0.49014</td>\n",
       "      <td>1.70072</td>\n",
       "      <td>-1.21058</td>\n",
       "      <td>A</td>\n",
       "      <td>0.70305</td>\n",
       "      <td>2018-01-04</td>\n",
       "    </tr>\n",
       "    <tr>\n",
       "      <th>3</th>\n",
       "      <td>0.49063</td>\n",
       "      <td>-0.51416</td>\n",
       "      <td>1.00479</td>\n",
       "      <td>A</td>\n",
       "      <td>0.70305</td>\n",
       "      <td>2018-01-04</td>\n",
       "    </tr>\n",
       "    <tr>\n",
       "      <th>4</th>\n",
       "      <td>0.49111</td>\n",
       "      <td>1.08767</td>\n",
       "      <td>-0.59656</td>\n",
       "      <td>A</td>\n",
       "      <td>0.70305</td>\n",
       "      <td>2018-01-04</td>\n",
       "    </tr>\n",
       "    <tr>\n",
       "      <th>0</th>\n",
       "      <td>0.53673</td>\n",
       "      <td>0.39645</td>\n",
       "      <td>0.14027</td>\n",
       "      <td>APD</td>\n",
       "      <td>0.30242</td>\n",
       "      <td>2018-01-04</td>\n",
       "    </tr>\n",
       "    <tr>\n",
       "      <th>1</th>\n",
       "      <td>0.53746</td>\n",
       "      <td>1.38277</td>\n",
       "      <td>-0.84531</td>\n",
       "      <td>APD</td>\n",
       "      <td>0.30242</td>\n",
       "      <td>2018-01-04</td>\n",
       "    </tr>\n",
       "    <tr>\n",
       "      <th>2</th>\n",
       "      <td>0.53834</td>\n",
       "      <td>0.87029</td>\n",
       "      <td>-0.33194</td>\n",
       "      <td>APD</td>\n",
       "      <td>0.30242</td>\n",
       "      <td>2018-01-04</td>\n",
       "    </tr>\n",
       "    <tr>\n",
       "      <th>3</th>\n",
       "      <td>0.53936</td>\n",
       "      <td>0.61885</td>\n",
       "      <td>-0.07949</td>\n",
       "      <td>APD</td>\n",
       "      <td>0.30242</td>\n",
       "      <td>2018-01-04</td>\n",
       "    </tr>\n",
       "    <tr>\n",
       "      <th>4</th>\n",
       "      <td>0.54049</td>\n",
       "      <td>1.35374</td>\n",
       "      <td>-0.81325</td>\n",
       "      <td>APD</td>\n",
       "      <td>0.30242</td>\n",
       "      <td>2018-01-04</td>\n",
       "    </tr>\n",
       "    <tr>\n",
       "      <th>...</th>\n",
       "      <td>...</td>\n",
       "      <td>...</td>\n",
       "      <td>...</td>\n",
       "      <td>...</td>\n",
       "      <td>...</td>\n",
       "      <td>...</td>\n",
       "    </tr>\n",
       "    <tr>\n",
       "      <th>0</th>\n",
       "      <td>0.57774</td>\n",
       "      <td>0.20065</td>\n",
       "      <td>0.37709</td>\n",
       "      <td>CTL</td>\n",
       "      <td>0.47624</td>\n",
       "      <td>2018-01-11</td>\n",
       "    </tr>\n",
       "    <tr>\n",
       "      <th>1</th>\n",
       "      <td>0.57682</td>\n",
       "      <td>-0.60196</td>\n",
       "      <td>1.17878</td>\n",
       "      <td>CTL</td>\n",
       "      <td>0.47624</td>\n",
       "      <td>2018-01-11</td>\n",
       "    </tr>\n",
       "    <tr>\n",
       "      <th>2</th>\n",
       "      <td>0.57591</td>\n",
       "      <td>0.82006</td>\n",
       "      <td>-0.24415</td>\n",
       "      <td>CTL</td>\n",
       "      <td>0.47624</td>\n",
       "      <td>2018-01-11</td>\n",
       "    </tr>\n",
       "    <tr>\n",
       "      <th>3</th>\n",
       "      <td>0.57503</td>\n",
       "      <td>-0.00872</td>\n",
       "      <td>0.58376</td>\n",
       "      <td>CTL</td>\n",
       "      <td>0.47624</td>\n",
       "      <td>2018-01-11</td>\n",
       "    </tr>\n",
       "    <tr>\n",
       "      <th>4</th>\n",
       "      <td>0.57420</td>\n",
       "      <td>-0.09597</td>\n",
       "      <td>0.67016</td>\n",
       "      <td>CTL</td>\n",
       "      <td>0.47624</td>\n",
       "      <td>2018-01-11</td>\n",
       "    </tr>\n",
       "    <tr>\n",
       "      <th>0</th>\n",
       "      <td>0.55836</td>\n",
       "      <td>0.06000</td>\n",
       "      <td>0.49836</td>\n",
       "      <td>CERN</td>\n",
       "      <td>0.14501</td>\n",
       "      <td>2018-01-11</td>\n",
       "    </tr>\n",
       "    <tr>\n",
       "      <th>1</th>\n",
       "      <td>0.55920</td>\n",
       "      <td>1.11000</td>\n",
       "      <td>-0.55080</td>\n",
       "      <td>CERN</td>\n",
       "      <td>0.14501</td>\n",
       "      <td>2018-01-11</td>\n",
       "    </tr>\n",
       "    <tr>\n",
       "      <th>2</th>\n",
       "      <td>0.56028</td>\n",
       "      <td>0.65000</td>\n",
       "      <td>-0.08972</td>\n",
       "      <td>CERN</td>\n",
       "      <td>0.14501</td>\n",
       "      <td>2018-01-11</td>\n",
       "    </tr>\n",
       "    <tr>\n",
       "      <th>3</th>\n",
       "      <td>0.56146</td>\n",
       "      <td>0.29000</td>\n",
       "      <td>0.27146</td>\n",
       "      <td>CERN</td>\n",
       "      <td>0.14501</td>\n",
       "      <td>2018-01-11</td>\n",
       "    </tr>\n",
       "    <tr>\n",
       "      <th>4</th>\n",
       "      <td>0.56262</td>\n",
       "      <td>0.26000</td>\n",
       "      <td>0.30261</td>\n",
       "      <td>CERN</td>\n",
       "      <td>0.14501</td>\n",
       "      <td>2018-01-11</td>\n",
       "    </tr>\n",
       "    <tr>\n",
       "      <th>0</th>\n",
       "      <td>0.60155</td>\n",
       "      <td>-0.91773</td>\n",
       "      <td>1.51928</td>\n",
       "      <td>CF</td>\n",
       "      <td>0.89980</td>\n",
       "      <td>2018-01-11</td>\n",
       "    </tr>\n",
       "    <tr>\n",
       "      <th>1</th>\n",
       "      <td>0.60120</td>\n",
       "      <td>-0.24151</td>\n",
       "      <td>0.84270</td>\n",
       "      <td>CF</td>\n",
       "      <td>0.89980</td>\n",
       "      <td>2018-01-11</td>\n",
       "    </tr>\n",
       "    <tr>\n",
       "      <th>2</th>\n",
       "      <td>0.60087</td>\n",
       "      <td>-0.04830</td>\n",
       "      <td>0.64917</td>\n",
       "      <td>CF</td>\n",
       "      <td>0.89980</td>\n",
       "      <td>2018-01-11</td>\n",
       "    </tr>\n",
       "    <tr>\n",
       "      <th>3</th>\n",
       "      <td>0.60060</td>\n",
       "      <td>1.25584</td>\n",
       "      <td>-0.65524</td>\n",
       "      <td>CF</td>\n",
       "      <td>0.89980</td>\n",
       "      <td>2018-01-11</td>\n",
       "    </tr>\n",
       "    <tr>\n",
       "      <th>4</th>\n",
       "      <td>0.60044</td>\n",
       "      <td>-0.19321</td>\n",
       "      <td>0.79365</td>\n",
       "      <td>CF</td>\n",
       "      <td>0.89980</td>\n",
       "      <td>2018-01-11</td>\n",
       "    </tr>\n",
       "    <tr>\n",
       "      <th>0</th>\n",
       "      <td>0.61708</td>\n",
       "      <td>0.22655</td>\n",
       "      <td>0.39053</td>\n",
       "      <td>SCHW</td>\n",
       "      <td>0.17504</td>\n",
       "      <td>2018-01-11</td>\n",
       "    </tr>\n",
       "    <tr>\n",
       "      <th>1</th>\n",
       "      <td>0.61595</td>\n",
       "      <td>1.08347</td>\n",
       "      <td>-0.46752</td>\n",
       "      <td>SCHW</td>\n",
       "      <td>0.17504</td>\n",
       "      <td>2018-01-11</td>\n",
       "    </tr>\n",
       "    <tr>\n",
       "      <th>2</th>\n",
       "      <td>0.61506</td>\n",
       "      <td>0.21669</td>\n",
       "      <td>0.39837</td>\n",
       "      <td>SCHW</td>\n",
       "      <td>0.17504</td>\n",
       "      <td>2018-01-11</td>\n",
       "    </tr>\n",
       "    <tr>\n",
       "      <th>3</th>\n",
       "      <td>0.61444</td>\n",
       "      <td>0.60083</td>\n",
       "      <td>0.01361</td>\n",
       "      <td>SCHW</td>\n",
       "      <td>0.17504</td>\n",
       "      <td>2018-01-11</td>\n",
       "    </tr>\n",
       "    <tr>\n",
       "      <th>4</th>\n",
       "      <td>0.61409</td>\n",
       "      <td>1.20166</td>\n",
       "      <td>-0.58757</td>\n",
       "      <td>SCHW</td>\n",
       "      <td>0.17504</td>\n",
       "      <td>2018-01-11</td>\n",
       "    </tr>\n",
       "    <tr>\n",
       "      <th>0</th>\n",
       "      <td>0.60052</td>\n",
       "      <td>0.60056</td>\n",
       "      <td>-0.00003</td>\n",
       "      <td>CVX</td>\n",
       "      <td>2.30557</td>\n",
       "      <td>2018-01-11</td>\n",
       "    </tr>\n",
       "    <tr>\n",
       "      <th>1</th>\n",
       "      <td>0.60144</td>\n",
       "      <td>-0.65776</td>\n",
       "      <td>1.25920</td>\n",
       "      <td>CVX</td>\n",
       "      <td>2.30557</td>\n",
       "      <td>2018-01-11</td>\n",
       "    </tr>\n",
       "    <tr>\n",
       "      <th>2</th>\n",
       "      <td>0.60199</td>\n",
       "      <td>0.78168</td>\n",
       "      <td>-0.17969</td>\n",
       "      <td>CVX</td>\n",
       "      <td>2.30557</td>\n",
       "      <td>2018-01-11</td>\n",
       "    </tr>\n",
       "    <tr>\n",
       "      <th>3</th>\n",
       "      <td>0.60225</td>\n",
       "      <td>3.72729</td>\n",
       "      <td>-3.12504</td>\n",
       "      <td>CVX</td>\n",
       "      <td>2.30557</td>\n",
       "      <td>2018-01-11</td>\n",
       "    </tr>\n",
       "    <tr>\n",
       "      <th>4</th>\n",
       "      <td>0.60226</td>\n",
       "      <td>0.98186</td>\n",
       "      <td>-0.37960</td>\n",
       "      <td>CVX</td>\n",
       "      <td>2.30557</td>\n",
       "      <td>2018-01-11</td>\n",
       "    </tr>\n",
       "    <tr>\n",
       "      <th>0</th>\n",
       "      <td>0.65957</td>\n",
       "      <td>4.67999</td>\n",
       "      <td>-4.02043</td>\n",
       "      <td>CMG</td>\n",
       "      <td>5.99208</td>\n",
       "      <td>2018-01-11</td>\n",
       "    </tr>\n",
       "    <tr>\n",
       "      <th>1</th>\n",
       "      <td>0.66018</td>\n",
       "      <td>0.89999</td>\n",
       "      <td>-0.23981</td>\n",
       "      <td>CMG</td>\n",
       "      <td>5.99208</td>\n",
       "      <td>2018-01-11</td>\n",
       "    </tr>\n",
       "    <tr>\n",
       "      <th>2</th>\n",
       "      <td>0.66118</td>\n",
       "      <td>2.42999</td>\n",
       "      <td>-1.76881</td>\n",
       "      <td>CMG</td>\n",
       "      <td>5.99208</td>\n",
       "      <td>2018-01-11</td>\n",
       "    </tr>\n",
       "    <tr>\n",
       "      <th>3</th>\n",
       "      <td>0.66243</td>\n",
       "      <td>3.70001</td>\n",
       "      <td>-3.03758</td>\n",
       "      <td>CMG</td>\n",
       "      <td>5.99208</td>\n",
       "      <td>2018-01-11</td>\n",
       "    </tr>\n",
       "    <tr>\n",
       "      <th>4</th>\n",
       "      <td>0.66379</td>\n",
       "      <td>1.84000</td>\n",
       "      <td>-1.17621</td>\n",
       "      <td>CMG</td>\n",
       "      <td>5.99208</td>\n",
       "      <td>2018-01-11</td>\n",
       "    </tr>\n",
       "    <tr>\n",
       "      <th>0</th>\n",
       "      <td>0.42698</td>\n",
       "      <td>-0.71027</td>\n",
       "      <td>1.13725</td>\n",
       "      <td>CB</td>\n",
       "      <td>1.49666</td>\n",
       "      <td>2018-01-11</td>\n",
       "    </tr>\n",
       "    <tr>\n",
       "      <th>1</th>\n",
       "      <td>0.42724</td>\n",
       "      <td>2.25725</td>\n",
       "      <td>-1.83001</td>\n",
       "      <td>CB</td>\n",
       "      <td>1.49666</td>\n",
       "      <td>2018-01-11</td>\n",
       "    </tr>\n",
       "    <tr>\n",
       "      <th>2</th>\n",
       "      <td>0.42767</td>\n",
       "      <td>-0.54485</td>\n",
       "      <td>0.97251</td>\n",
       "      <td>CB</td>\n",
       "      <td>1.49666</td>\n",
       "      <td>2018-01-11</td>\n",
       "    </tr>\n",
       "    <tr>\n",
       "      <th>3</th>\n",
       "      <td>0.42823</td>\n",
       "      <td>-0.76863</td>\n",
       "      <td>1.19686</td>\n",
       "      <td>CB</td>\n",
       "      <td>1.49666</td>\n",
       "      <td>2018-01-11</td>\n",
       "    </tr>\n",
       "    <tr>\n",
       "      <th>4</th>\n",
       "      <td>0.42888</td>\n",
       "      <td>1.10916</td>\n",
       "      <td>-0.68028</td>\n",
       "      <td>CB</td>\n",
       "      <td>1.49666</td>\n",
       "      <td>2018-01-11</td>\n",
       "    </tr>\n",
       "    <tr>\n",
       "      <th>0</th>\n",
       "      <td>0.55830</td>\n",
       "      <td>-2.32889</td>\n",
       "      <td>2.88719</td>\n",
       "      <td>CI</td>\n",
       "      <td>5.03597</td>\n",
       "      <td>2018-01-11</td>\n",
       "    </tr>\n",
       "    <tr>\n",
       "      <th>1</th>\n",
       "      <td>0.55895</td>\n",
       "      <td>-0.34985</td>\n",
       "      <td>0.90880</td>\n",
       "      <td>CI</td>\n",
       "      <td>5.03597</td>\n",
       "      <td>2018-01-11</td>\n",
       "    </tr>\n",
       "    <tr>\n",
       "      <th>2</th>\n",
       "      <td>0.56005</td>\n",
       "      <td>-0.77962</td>\n",
       "      <td>1.33967</td>\n",
       "      <td>CI</td>\n",
       "      <td>5.03597</td>\n",
       "      <td>2018-01-11</td>\n",
       "    </tr>\n",
       "    <tr>\n",
       "      <th>3</th>\n",
       "      <td>0.56148</td>\n",
       "      <td>3.79819</td>\n",
       "      <td>-3.23671</td>\n",
       "      <td>CI</td>\n",
       "      <td>5.03597</td>\n",
       "      <td>2018-01-11</td>\n",
       "    </tr>\n",
       "    <tr>\n",
       "      <th>4</th>\n",
       "      <td>0.56308</td>\n",
       "      <td>2.49881</td>\n",
       "      <td>-1.93573</td>\n",
       "      <td>CI</td>\n",
       "      <td>5.03597</td>\n",
       "      <td>2018-01-11</td>\n",
       "    </tr>\n",
       "    <tr>\n",
       "      <th>0</th>\n",
       "      <td>0.42751</td>\n",
       "      <td>0.41631</td>\n",
       "      <td>0.01120</td>\n",
       "      <td>XEC</td>\n",
       "      <td>2.16452</td>\n",
       "      <td>2018-01-11</td>\n",
       "    </tr>\n",
       "    <tr>\n",
       "      <th>1</th>\n",
       "      <td>0.42882</td>\n",
       "      <td>-0.62446</td>\n",
       "      <td>1.05328</td>\n",
       "      <td>XEC</td>\n",
       "      <td>2.16452</td>\n",
       "      <td>2018-01-11</td>\n",
       "    </tr>\n",
       "    <tr>\n",
       "      <th>2</th>\n",
       "      <td>0.42999</td>\n",
       "      <td>-2.04188</td>\n",
       "      <td>2.47187</td>\n",
       "      <td>XEC</td>\n",
       "      <td>2.16452</td>\n",
       "      <td>2018-01-11</td>\n",
       "    </tr>\n",
       "    <tr>\n",
       "      <th>3</th>\n",
       "      <td>0.43100</td>\n",
       "      <td>2.08153</td>\n",
       "      <td>-1.65052</td>\n",
       "      <td>XEC</td>\n",
       "      <td>2.16452</td>\n",
       "      <td>2018-01-11</td>\n",
       "    </tr>\n",
       "    <tr>\n",
       "      <th>4</th>\n",
       "      <td>0.43187</td>\n",
       "      <td>-0.50552</td>\n",
       "      <td>0.93738</td>\n",
       "      <td>XEC</td>\n",
       "      <td>2.16452</td>\n",
       "      <td>2018-01-11</td>\n",
       "    </tr>\n",
       "    <tr>\n",
       "      <th>0</th>\n",
       "      <td>0.62515</td>\n",
       "      <td>-0.31863</td>\n",
       "      <td>0.94378</td>\n",
       "      <td>CINF</td>\n",
       "      <td>0.99572</td>\n",
       "      <td>2018-01-11</td>\n",
       "    </tr>\n",
       "    <tr>\n",
       "      <th>1</th>\n",
       "      <td>0.62485</td>\n",
       "      <td>-0.44416</td>\n",
       "      <td>1.06901</td>\n",
       "      <td>CINF</td>\n",
       "      <td>0.99572</td>\n",
       "      <td>2018-01-11</td>\n",
       "    </tr>\n",
       "    <tr>\n",
       "      <th>2</th>\n",
       "      <td>0.62464</td>\n",
       "      <td>-0.98487</td>\n",
       "      <td>1.60951</td>\n",
       "      <td>CINF</td>\n",
       "      <td>0.99572</td>\n",
       "      <td>2018-01-11</td>\n",
       "    </tr>\n",
       "    <tr>\n",
       "      <th>3</th>\n",
       "      <td>0.62456</td>\n",
       "      <td>0.56001</td>\n",
       "      <td>0.06455</td>\n",
       "      <td>CINF</td>\n",
       "      <td>0.99572</td>\n",
       "      <td>2018-01-11</td>\n",
       "    </tr>\n",
       "    <tr>\n",
       "      <th>4</th>\n",
       "      <td>0.62463</td>\n",
       "      <td>1.21661</td>\n",
       "      <td>-0.59198</td>\n",
       "      <td>CINF</td>\n",
       "      <td>0.99572</td>\n",
       "      <td>2018-01-11</td>\n",
       "    </tr>\n",
       "  </tbody>\n",
       "</table>\n",
       "<p>830 rows × 6 columns</p>\n",
       "</div>"
      ],
      "text/plain": [
       "    pred_return  real_return     Diff ticker    rmse        DATE\n",
       "0       0.74563     -0.37966  1.12529    ABT 0.71411  2018-01-04\n",
       "1       0.74694      1.67440 -0.92746    ABT 0.71411  2018-01-04\n",
       "2       0.74806      0.12656  0.62150    ABT 0.71411  2018-01-04\n",
       "3       0.74902     -0.09735  0.84637    ABT 0.71411  2018-01-04\n",
       "4       0.74985      0.16549  0.58436    ABT 0.71411  2018-01-04\n",
       "0       0.44691     -1.01344  1.46035   ABBV 1.35953  2018-01-04\n",
       "1       0.44681      1.59523 -1.14842   ABBV 1.35953  2018-01-04\n",
       "2       0.44657      1.44508 -0.99850   ABBV 1.35953  2018-01-04\n",
       "3       0.44624     -0.53487  0.98111   ABBV 1.35953  2018-01-04\n",
       "4       0.44584      1.62337 -1.17753   ABBV 1.35953  2018-01-04\n",
       "0       0.56116     -0.46762  1.02878    ACN 0.61677  2018-01-04\n",
       "1       0.56091      0.73067 -0.16976    ACN 0.61677  2018-01-04\n",
       "2       0.56064      0.69168 -0.13104    ACN 0.61677  2018-01-04\n",
       "3       0.56038      1.78279 -1.22241    ACN 0.61677  2018-01-04\n",
       "4       0.56018      1.25673 -0.69655    ACN 0.61677  2018-01-04\n",
       "0       0.35222     -0.31000  0.66221   ADBE 4.05270  2018-01-04\n",
       "1       0.35253      2.45999 -2.10746   ADBE 4.05270  2018-01-04\n",
       "2       0.35279      3.34000 -2.98721   ADBE 4.05270  2018-01-04\n",
       "3       0.35297      2.18001 -1.82704   ADBE 4.05270  2018-01-04\n",
       "4       0.35305      2.12000 -1.76694   ADBE 4.05270  2018-01-04\n",
       "0       0.52535     -0.01996  0.54530    AAP 9.39119  2018-01-04\n",
       "1       0.52488      6.38685 -5.86197    AAP 9.39119  2018-01-04\n",
       "2       0.52448      0.95803 -0.43355    AAP 9.39119  2018-01-04\n",
       "3       0.52418      3.94189 -3.41771    AAP 9.39119  2018-01-04\n",
       "4       0.52397      1.17758 -0.65361    AAP 9.39119  2018-01-04\n",
       "0       0.54828      0.06614  0.48214    AES 0.27954  2018-01-04\n",
       "1       0.54813      0.04724  0.50089    AES 0.27954  2018-01-04\n",
       "2       0.54806     -0.00945  0.55751    AES 0.27954  2018-01-04\n",
       "3       0.54804     -0.03779  0.58583    AES 0.27954  2018-01-04\n",
       "4       0.54803      0.03779  0.51024    AES 0.27954  2018-01-04\n",
       "0       0.52496     -0.21745  0.74241    AFL 0.19176  2018-01-04\n",
       "1       0.52378      0.09181  0.43197    AFL 0.19176  2018-01-04\n",
       "2       0.52298      0.12563  0.39735    AFL 0.19176  2018-01-04\n",
       "3       0.52254      0.43971  0.08283    AFL 0.19176  2018-01-04\n",
       "4       0.52239      0.28508  0.23731    AFL 0.19176  2018-01-04\n",
       "0       0.68093     -1.24625  1.92718    AMG 6.47144  2018-01-04\n",
       "1       0.68132     -2.18590  2.86722    AMG 6.47144  2018-01-04\n",
       "2       0.68166     -0.90999  1.59164    AMG 6.47144  2018-01-04\n",
       "3       0.68188     -3.54095  4.22283    AMG 6.47144  2018-01-04\n",
       "4       0.68195      0.91986 -0.23791    AMG 6.47144  2018-01-04\n",
       "0       0.48910     -0.32729  0.81639      A 0.70305  2018-01-04\n",
       "1       0.48963      0.62294 -0.13331      A 0.70305  2018-01-04\n",
       "2       0.49014      1.70072 -1.21058      A 0.70305  2018-01-04\n",
       "3       0.49063     -0.51416  1.00479      A 0.70305  2018-01-04\n",
       "4       0.49111      1.08767 -0.59656      A 0.70305  2018-01-04\n",
       "0       0.53673      0.39645  0.14027    APD 0.30242  2018-01-04\n",
       "1       0.53746      1.38277 -0.84531    APD 0.30242  2018-01-04\n",
       "2       0.53834      0.87029 -0.33194    APD 0.30242  2018-01-04\n",
       "3       0.53936      0.61885 -0.07949    APD 0.30242  2018-01-04\n",
       "4       0.54049      1.35374 -0.81325    APD 0.30242  2018-01-04\n",
       "..          ...          ...      ...    ...     ...         ...\n",
       "0       0.57774      0.20065  0.37709    CTL 0.47624  2018-01-11\n",
       "1       0.57682     -0.60196  1.17878    CTL 0.47624  2018-01-11\n",
       "2       0.57591      0.82006 -0.24415    CTL 0.47624  2018-01-11\n",
       "3       0.57503     -0.00872  0.58376    CTL 0.47624  2018-01-11\n",
       "4       0.57420     -0.09597  0.67016    CTL 0.47624  2018-01-11\n",
       "0       0.55836      0.06000  0.49836   CERN 0.14501  2018-01-11\n",
       "1       0.55920      1.11000 -0.55080   CERN 0.14501  2018-01-11\n",
       "2       0.56028      0.65000 -0.08972   CERN 0.14501  2018-01-11\n",
       "3       0.56146      0.29000  0.27146   CERN 0.14501  2018-01-11\n",
       "4       0.56262      0.26000  0.30261   CERN 0.14501  2018-01-11\n",
       "0       0.60155     -0.91773  1.51928     CF 0.89980  2018-01-11\n",
       "1       0.60120     -0.24151  0.84270     CF 0.89980  2018-01-11\n",
       "2       0.60087     -0.04830  0.64917     CF 0.89980  2018-01-11\n",
       "3       0.60060      1.25584 -0.65524     CF 0.89980  2018-01-11\n",
       "4       0.60044     -0.19321  0.79365     CF 0.89980  2018-01-11\n",
       "0       0.61708      0.22655  0.39053   SCHW 0.17504  2018-01-11\n",
       "1       0.61595      1.08347 -0.46752   SCHW 0.17504  2018-01-11\n",
       "2       0.61506      0.21669  0.39837   SCHW 0.17504  2018-01-11\n",
       "3       0.61444      0.60083  0.01361   SCHW 0.17504  2018-01-11\n",
       "4       0.61409      1.20166 -0.58757   SCHW 0.17504  2018-01-11\n",
       "0       0.60052      0.60056 -0.00003    CVX 2.30557  2018-01-11\n",
       "1       0.60144     -0.65776  1.25920    CVX 2.30557  2018-01-11\n",
       "2       0.60199      0.78168 -0.17969    CVX 2.30557  2018-01-11\n",
       "3       0.60225      3.72729 -3.12504    CVX 2.30557  2018-01-11\n",
       "4       0.60226      0.98186 -0.37960    CVX 2.30557  2018-01-11\n",
       "0       0.65957      4.67999 -4.02043    CMG 5.99208  2018-01-11\n",
       "1       0.66018      0.89999 -0.23981    CMG 5.99208  2018-01-11\n",
       "2       0.66118      2.42999 -1.76881    CMG 5.99208  2018-01-11\n",
       "3       0.66243      3.70001 -3.03758    CMG 5.99208  2018-01-11\n",
       "4       0.66379      1.84000 -1.17621    CMG 5.99208  2018-01-11\n",
       "0       0.42698     -0.71027  1.13725     CB 1.49666  2018-01-11\n",
       "1       0.42724      2.25725 -1.83001     CB 1.49666  2018-01-11\n",
       "2       0.42767     -0.54485  0.97251     CB 1.49666  2018-01-11\n",
       "3       0.42823     -0.76863  1.19686     CB 1.49666  2018-01-11\n",
       "4       0.42888      1.10916 -0.68028     CB 1.49666  2018-01-11\n",
       "0       0.55830     -2.32889  2.88719     CI 5.03597  2018-01-11\n",
       "1       0.55895     -0.34985  0.90880     CI 5.03597  2018-01-11\n",
       "2       0.56005     -0.77962  1.33967     CI 5.03597  2018-01-11\n",
       "3       0.56148      3.79819 -3.23671     CI 5.03597  2018-01-11\n",
       "4       0.56308      2.49881 -1.93573     CI 5.03597  2018-01-11\n",
       "0       0.42751      0.41631  0.01120    XEC 2.16452  2018-01-11\n",
       "1       0.42882     -0.62446  1.05328    XEC 2.16452  2018-01-11\n",
       "2       0.42999     -2.04188  2.47187    XEC 2.16452  2018-01-11\n",
       "3       0.43100      2.08153 -1.65052    XEC 2.16452  2018-01-11\n",
       "4       0.43187     -0.50552  0.93738    XEC 2.16452  2018-01-11\n",
       "0       0.62515     -0.31863  0.94378   CINF 0.99572  2018-01-11\n",
       "1       0.62485     -0.44416  1.06901   CINF 0.99572  2018-01-11\n",
       "2       0.62464     -0.98487  1.60951   CINF 0.99572  2018-01-11\n",
       "3       0.62456      0.56001  0.06455   CINF 0.99572  2018-01-11\n",
       "4       0.62463      1.21661 -0.59198   CINF 0.99572  2018-01-11\n",
       "\n",
       "[830 rows x 6 columns]"
      ]
     },
     "execution_count": 18,
     "metadata": {},
     "output_type": "execute_result"
    }
   ],
   "source": [
    "res_all"
   ]
  },
  {
   "cell_type": "code",
   "execution_count": 19,
   "metadata": {},
   "outputs": [],
   "source": [
    "#universe_all.to_csv(\"2019-4-26_buyin_portfolio.csv\")"
   ]
  },
  {
   "cell_type": "code",
   "execution_count": 20,
   "metadata": {},
   "outputs": [],
   "source": [
    "#portfolio_equity_all.to_csv(\"2019-4-26_portfolio.csv\")"
   ]
  },
  {
   "cell_type": "code",
   "execution_count": 21,
   "metadata": {},
   "outputs": [],
   "source": [
    "#pl_all.to_csv(\"2019-4-26_highest_return.csv\")"
   ]
  },
  {
   "cell_type": "code",
   "execution_count": 22,
   "metadata": {},
   "outputs": [],
   "source": [
    "#res_all.to_csv(\"2019-4-26_forcasting.csv\")"
   ]
  },
  {
   "cell_type": "code",
   "execution_count": 23,
   "metadata": {},
   "outputs": [],
   "source": [
    "#portfolio_equity"
   ]
  },
  {
   "cell_type": "code",
   "execution_count": 24,
   "metadata": {},
   "outputs": [],
   "source": [
    "# Portfolio Return "
   ]
  },
  {
   "cell_type": "code",
   "execution_count": null,
   "metadata": {},
   "outputs": [],
   "source": []
  },
  {
   "cell_type": "code",
   "execution_count": null,
   "metadata": {},
   "outputs": [],
   "source": []
  },
  {
   "cell_type": "code",
   "execution_count": null,
   "metadata": {},
   "outputs": [],
   "source": []
  },
  {
   "cell_type": "code",
   "execution_count": null,
   "metadata": {},
   "outputs": [],
   "source": []
  },
  {
   "cell_type": "code",
   "execution_count": null,
   "metadata": {},
   "outputs": [],
   "source": []
  },
  {
   "cell_type": "code",
   "execution_count": null,
   "metadata": {},
   "outputs": [],
   "source": []
  },
  {
   "cell_type": "code",
   "execution_count": null,
   "metadata": {},
   "outputs": [],
   "source": []
  },
  {
   "cell_type": "code",
   "execution_count": null,
   "metadata": {},
   "outputs": [],
   "source": []
  },
  {
   "cell_type": "code",
   "execution_count": null,
   "metadata": {},
   "outputs": [],
   "source": []
  },
  {
   "cell_type": "code",
   "execution_count": null,
   "metadata": {},
   "outputs": [],
   "source": []
  },
  {
   "cell_type": "code",
   "execution_count": null,
   "metadata": {},
   "outputs": [],
   "source": []
  },
  {
   "cell_type": "code",
   "execution_count": null,
   "metadata": {},
   "outputs": [],
   "source": []
  },
  {
   "cell_type": "code",
   "execution_count": null,
   "metadata": {},
   "outputs": [],
   "source": []
  },
  {
   "cell_type": "code",
   "execution_count": null,
   "metadata": {},
   "outputs": [],
   "source": []
  },
  {
   "cell_type": "code",
   "execution_count": null,
   "metadata": {},
   "outputs": [],
   "source": []
  },
  {
   "cell_type": "code",
   "execution_count": null,
   "metadata": {},
   "outputs": [],
   "source": []
  },
  {
   "cell_type": "code",
   "execution_count": null,
   "metadata": {},
   "outputs": [],
   "source": []
  },
  {
   "cell_type": "code",
   "execution_count": null,
   "metadata": {},
   "outputs": [],
   "source": []
  },
  {
   "cell_type": "code",
   "execution_count": null,
   "metadata": {},
   "outputs": [],
   "source": []
  },
  {
   "cell_type": "code",
   "execution_count": null,
   "metadata": {},
   "outputs": [],
   "source": []
  },
  {
   "cell_type": "code",
   "execution_count": null,
   "metadata": {},
   "outputs": [],
   "source": []
  },
  {
   "cell_type": "code",
   "execution_count": null,
   "metadata": {},
   "outputs": [],
   "source": []
  },
  {
   "cell_type": "code",
   "execution_count": null,
   "metadata": {},
   "outputs": [],
   "source": []
  },
  {
   "cell_type": "code",
   "execution_count": null,
   "metadata": {},
   "outputs": [],
   "source": []
  },
  {
   "cell_type": "code",
   "execution_count": null,
   "metadata": {},
   "outputs": [],
   "source": []
  },
  {
   "cell_type": "code",
   "execution_count": null,
   "metadata": {},
   "outputs": [],
   "source": []
  },
  {
   "cell_type": "code",
   "execution_count": null,
   "metadata": {},
   "outputs": [],
   "source": []
  },
  {
   "cell_type": "code",
   "execution_count": null,
   "metadata": {},
   "outputs": [],
   "source": []
  },
  {
   "cell_type": "code",
   "execution_count": null,
   "metadata": {},
   "outputs": [],
   "source": []
  },
  {
   "cell_type": "code",
   "execution_count": null,
   "metadata": {},
   "outputs": [],
   "source": []
  },
  {
   "cell_type": "code",
   "execution_count": null,
   "metadata": {},
   "outputs": [],
   "source": []
  },
  {
   "cell_type": "code",
   "execution_count": null,
   "metadata": {},
   "outputs": [],
   "source": []
  },
  {
   "cell_type": "code",
   "execution_count": null,
   "metadata": {},
   "outputs": [],
   "source": []
  },
  {
   "cell_type": "code",
   "execution_count": null,
   "metadata": {},
   "outputs": [],
   "source": []
  },
  {
   "cell_type": "code",
   "execution_count": null,
   "metadata": {},
   "outputs": [],
   "source": []
  },
  {
   "cell_type": "code",
   "execution_count": null,
   "metadata": {},
   "outputs": [],
   "source": []
  },
  {
   "cell_type": "code",
   "execution_count": null,
   "metadata": {},
   "outputs": [],
   "source": []
  },
  {
   "cell_type": "code",
   "execution_count": null,
   "metadata": {},
   "outputs": [],
   "source": []
  },
  {
   "cell_type": "code",
   "execution_count": null,
   "metadata": {},
   "outputs": [],
   "source": []
  },
  {
   "cell_type": "code",
   "execution_count": null,
   "metadata": {},
   "outputs": [],
   "source": []
  },
  {
   "cell_type": "code",
   "execution_count": null,
   "metadata": {},
   "outputs": [],
   "source": []
  },
  {
   "cell_type": "code",
   "execution_count": null,
   "metadata": {},
   "outputs": [],
   "source": []
  },
  {
   "cell_type": "code",
   "execution_count": null,
   "metadata": {},
   "outputs": [],
   "source": []
  },
  {
   "cell_type": "code",
   "execution_count": null,
   "metadata": {},
   "outputs": [],
   "source": []
  },
  {
   "cell_type": "code",
   "execution_count": null,
   "metadata": {},
   "outputs": [],
   "source": []
  },
  {
   "cell_type": "code",
   "execution_count": null,
   "metadata": {},
   "outputs": [],
   "source": []
  },
  {
   "cell_type": "code",
   "execution_count": null,
   "metadata": {},
   "outputs": [],
   "source": []
  },
  {
   "cell_type": "code",
   "execution_count": null,
   "metadata": {},
   "outputs": [],
   "source": []
  },
  {
   "cell_type": "code",
   "execution_count": null,
   "metadata": {},
   "outputs": [],
   "source": []
  },
  {
   "cell_type": "code",
   "execution_count": null,
   "metadata": {},
   "outputs": [],
   "source": []
  },
  {
   "cell_type": "code",
   "execution_count": null,
   "metadata": {},
   "outputs": [],
   "source": []
  },
  {
   "cell_type": "code",
   "execution_count": null,
   "metadata": {},
   "outputs": [],
   "source": []
  },
  {
   "cell_type": "code",
   "execution_count": null,
   "metadata": {},
   "outputs": [],
   "source": []
  }
 ],
 "metadata": {
  "kernelspec": {
   "display_name": "Python 3",
   "language": "python",
   "name": "python3"
  },
  "language_info": {
   "codemirror_mode": {
    "name": "ipython",
    "version": 3
   },
   "file_extension": ".py",
   "mimetype": "text/x-python",
   "name": "python",
   "nbconvert_exporter": "python",
   "pygments_lexer": "ipython3",
   "version": "3.7.1"
  }
 },
 "nbformat": 4,
 "nbformat_minor": 2
}
